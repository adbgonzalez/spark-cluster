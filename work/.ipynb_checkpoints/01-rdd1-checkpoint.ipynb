{
 "cells": [
  {
   "cell_type": "markdown",
   "id": "1452f549-7f7b-4f55-bdf3-6cc0a946f6db",
   "metadata": {},
   "source": [
    "# Uso de RDD's en Spark"
   ]
  },
  {
   "cell_type": "markdown",
   "id": "eb853ffb-7e32-4b9f-91b3-140a4e37b301",
   "metadata": {},
   "source": [
    "## Creación de un RDD \n",
    "Lo primero es obtener el objeto SparkContext. Recomendación personal: Hacerlo a partir del objeto SparkSession"
   ]
  },
  {
   "cell_type": "code",
   "execution_count": 3,
   "id": "47c7356c-d909-415a-b237-31554630371a",
   "metadata": {},
   "outputs": [],
   "source": [
    "from pyspark.sql import SparkSession\n",
    "spark = SparkSession.builder.getOrCreate()\n",
    "sc = spark.sparkContext"
   ]
  },
  {
   "cell_type": "markdown",
   "id": "abc90f67-aeb0-4d5f-9544-fe1b20a04abf",
   "metadata": {},
   "source": [
    "### A partir de una colección\n",
    "Para crear un RDD a partir de una colección se usa el método parallelize. A continuación se muestran dos ejemplos: Uno para enteros y otro para strings"
   ]
  },
  {
   "cell_type": "code",
   "execution_count": 3,
   "id": "c7f52f5a-68e9-4532-a5e2-d0b563d9ccd9",
   "metadata": {},
   "outputs": [],
   "source": [
    "rdd_int = sc.parallelize(range(10))\n",
    "rdd_st = sc.parallelize (\"Big Data aplicado. Curso de especialización de Inteligencia Artificial y Big Data\".split())"
   ]
  },
  {
   "cell_type": "markdown",
   "id": "51873a2d-893b-4852-806f-c8648ff2a497",
   "metadata": {},
   "source": [
    "### A partir de fuentes de datos\n",
    "Para ello tenemos dos opciones:\n",
    "- textfile: Para crear un RDD a partir de un archivo de texto\n",
    "- wholeTextFiles: Para crear un RDD a partir de varios archivos de texto"
   ]
  },
  {
   "cell_type": "code",
   "execution_count": 4,
   "id": "7dc07552-72bd-4926-ab49-d73ff1714414",
   "metadata": {},
   "outputs": [],
   "source": [
    "rdd_file = sc.textFile(\"data/flight-data/csv/2015-summary.csv\")\n",
    "rdd_whole_files = sc.wholeTextFiles(\"data/flight-data/csv\")"
   ]
  },
  {
   "cell_type": "markdown",
   "id": "e657e217-f480-4bc0-98af-0aaec91de766",
   "metadata": {},
   "source": [
    "## Acciones\n",
    "A continuación vamos a ver algunas de las acciones más frecuentes:\n",
    "### Collect\n",
    "Permite mostrar todos los elementos de un RDD\n"
   ]
  },
  {
   "cell_type": "code",
   "execution_count": 8,
   "id": "aacbacd3-af7b-4f94-85c6-f29ff2806917",
   "metadata": {},
   "outputs": [
    {
     "name": "stdout",
     "output_type": "stream",
     "text": [
      "[0, 1, 2, 3, 4, 5, 6, 7, 8, 9]\n",
      "['Big', 'Data', 'aplicado.', 'Curso', 'de', 'especialización', 'de', 'Inteligencia', 'Artificial', 'y', 'Big', 'Data']\n"
     ]
    }
   ],
   "source": [
    "print (rdd_int.collect())\n",
    "print (rdd_st.collect())\n",
    "#print (rdd_file.collect())\n",
    "#print (rdd_whole_files.collect())"
   ]
  },
  {
   "cell_type": "markdown",
   "id": "e9960c1e-521c-441f-842a-52d94bc5d83c",
   "metadata": {},
   "source": [
    "### Take\n",
    "Permite obtener un número determinado de elmentos del RDD"
   ]
  },
  {
   "cell_type": "code",
   "execution_count": 16,
   "id": "35d8e043-489e-44e9-89b8-ef317b8a8bfc",
   "metadata": {},
   "outputs": [
    {
     "name": "stdout",
     "output_type": "stream",
     "text": [
      "[0, 1, 2]\n",
      "['Big', 'Data', 'aplicado.']\n",
      "['DEST_COUNTRY_NAME,ORIGIN_COUNTRY_NAME,count', 'United States,Romania,15']\n"
     ]
    }
   ],
   "source": [
    "print (rdd_int.take(3))\n",
    "print (rdd_st.take(3))\n",
    "print (rdd_file.take(2))\n",
    "#print (rdd_whole_files.take(2))"
   ]
  },
  {
   "cell_type": "markdown",
   "id": "bc451b6e-bbc1-4711-9605-31e208259445",
   "metadata": {},
   "source": [
    "### Count\n",
    "Devuelve el número de elementos de un RDD"
   ]
  },
  {
   "cell_type": "code",
   "execution_count": 13,
   "id": "9b91a6ea-3c23-4d6d-b56c-de2df2b85ac7",
   "metadata": {},
   "outputs": [
    {
     "name": "stdout",
     "output_type": "stream",
     "text": [
      "10\n",
      "12\n",
      "257\n",
      "6\n"
     ]
    }
   ],
   "source": [
    "print (rdd_int.count())\n",
    "print (rdd_st.count())\n",
    "print (rdd_file.count())\n",
    "print (rdd_whole_files.count())"
   ]
  },
  {
   "cell_type": "code",
   "execution_count": 9,
   "id": "b88e9f12-54a1-42dd-91a3-2cb3ce943265",
   "metadata": {},
   "outputs": [
    {
     "data": {
      "text/plain": [
       "12"
      ]
     },
     "execution_count": 9,
     "metadata": {},
     "output_type": "execute_result"
    }
   ],
   "source": [
    "rdd_st.count()"
   ]
  },
  {
   "attachments": {},
   "cell_type": "markdown",
   "id": "f05a9273-0312-4b04-934f-82ab4848a71e",
   "metadata": {},
   "source": [
    "### Reduce\n",
    "Permite, mediante una función especificada por el programador reducir el RDD a un único valor.\r\n"
   ]
  },
  {
   "cell_type": "code",
   "execution_count": 25,
   "id": "b3bc55e2-f783-4615-b609-46932e827918",
   "metadata": {},
   "outputs": [
    {
     "name": "stdout",
     "output_type": "stream",
     "text": [
      "45\n",
      "especialización\n",
      "\"Bonaire, Sint Eustatius, and Saba\",United States,58\n"
     ]
    }
   ],
   "source": [
    "# Sumamos todos los elementos\n",
    "print(rdd_int.reduce (lambda x,y: x+y))\n",
    "\n",
    "def word_length_reducer(word1,word2):\n",
    "    if (len(word1) > len (word2)):\n",
    "        return word1\n",
    "    else:\n",
    "        return word2\n",
    "\n",
    "\n",
    "print (rdd_st.reduce (word_length_reducer))\n",
    "print ( rdd_file.reduce (word_length_reducer))"
   ]
  },
  {
   "cell_type": "markdown",
   "id": "9ea4b816-f313-4982-9aaa-a618f1185218",
   "metadata": {},
   "source": [
    "### First\n",
    "Devuelve el primer elemento de un RDD"
   ]
  },
  {
   "cell_type": "code",
   "execution_count": 7,
   "id": "2c4d0126-cd65-48b2-ab40-129e703e5112",
   "metadata": {},
   "outputs": [
    {
     "data": {
      "text/plain": [
       "0"
      ]
     },
     "execution_count": 7,
     "metadata": {},
     "output_type": "execute_result"
    }
   ],
   "source": [
    "rdd_int.first()"
   ]
  },
  {
   "cell_type": "code",
   "execution_count": 8,
   "id": "cfecb66f-e1dc-47ed-ae3c-d3eaf63a5e61",
   "metadata": {},
   "outputs": [
    {
     "data": {
      "text/plain": [
       "'Big'"
      ]
     },
     "execution_count": 8,
     "metadata": {},
     "output_type": "execute_result"
    }
   ],
   "source": [
    "rdd_st.first()"
   ]
  },
  {
   "cell_type": "markdown",
   "id": "144738f8-6fad-4f25-8fbd-3ad7db58d361",
   "metadata": {},
   "source": [
    "### Max/min\n",
    "Devuelve el valor máximo/mínimo de un RDD\n",
    "\n"
   ]
  },
  {
   "cell_type": "code",
   "execution_count": 9,
   "id": "22a93988-4941-46a2-b57f-3b9f848eb1ab",
   "metadata": {},
   "outputs": [
    {
     "data": {
      "text/plain": [
       "0"
      ]
     },
     "execution_count": 9,
     "metadata": {},
     "output_type": "execute_result"
    }
   ],
   "source": [
    "rdd_int.min()"
   ]
  },
  {
   "cell_type": "code",
   "execution_count": 10,
   "id": "f7702912-26b8-4bf9-a4ab-09366318cefd",
   "metadata": {},
   "outputs": [
    {
     "data": {
      "text/plain": [
       "'y'"
      ]
     },
     "execution_count": 10,
     "metadata": {},
     "output_type": "execute_result"
    }
   ],
   "source": [
    "rdd_st.max()"
   ]
  },
  {
   "attachments": {},
   "cell_type": "markdown",
   "id": "cb4294e6-68f6-40aa-8cc3-23cbc168983e",
   "metadata": {},
   "source": [
    "## Transformaciones\n",
    "### Map\n",
    "Permite aplicar una función especificada por el programador a cada uno de los elementos del RDD devolviendo un RDD del mismo tamaño que el original"
   ]
  },
  {
   "cell_type": "code",
   "execution_count": 12,
   "id": "0ac0437a-0872-4d73-9e5b-5e75805e8639",
   "metadata": {},
   "outputs": [
    {
     "data": {
      "text/plain": [
       "[0, 2, 4, 6, 8, 10, 12, 14, 16, 18]"
      ]
     },
     "execution_count": 12,
     "metadata": {},
     "output_type": "execute_result"
    }
   ],
   "source": [
    "rdd_int.map (lambda x: 2*x).collect()"
   ]
  },
  {
   "cell_type": "code",
   "execution_count": 15,
   "id": "b5b0ddd9-d9b1-4840-b350-0b9b768bda3f",
   "metadata": {},
   "outputs": [
    {
     "data": {
      "text/plain": [
       "['BIG',\n",
       " 'DATA',\n",
       " 'APLICADO.',\n",
       " 'CURSO',\n",
       " 'DE',\n",
       " 'ESPECIALIZACIÓN',\n",
       " 'DE',\n",
       " 'INTELIGENCIA',\n",
       " 'ARTIFICIAL',\n",
       " 'Y',\n",
       " 'BIG',\n",
       " 'DATA']"
      ]
     },
     "execution_count": 15,
     "metadata": {},
     "output_type": "execute_result"
    }
   ],
   "source": [
    "rdd_st.map (lambda x: x.upper()).collect()"
   ]
  },
  {
   "cell_type": "markdown",
   "id": "86060939-674b-4bf1-807d-6e72c7ea8e29",
   "metadata": {},
   "source": [
    "### Distinct\n",
    "Elimina los duplicados"
   ]
  },
  {
   "cell_type": "code",
   "execution_count": 16,
   "id": "3125e293-1fbc-41fe-a6f8-693f807286cf",
   "metadata": {},
   "outputs": [
    {
     "data": {
      "text/plain": [
       "['Curso',\n",
       " 'aplicado.',\n",
       " 'especialización',\n",
       " 'Big',\n",
       " 'de',\n",
       " 'y',\n",
       " 'Inteligencia',\n",
       " 'Artificial',\n",
       " 'Data']"
      ]
     },
     "execution_count": 16,
     "metadata": {},
     "output_type": "execute_result"
    }
   ],
   "source": [
    "rdd_st.distinct().collect()"
   ]
  },
  {
   "attachments": {},
   "cell_type": "markdown",
   "id": "a6013f71-0876-43bd-8c95-6a35979ac584",
   "metadata": {},
   "source": [
    "### Filter\n",
    "Permite seleccionar los elementos del RDD que cumplen determinada condición\r\n"
   ]
  },
  {
   "cell_type": "code",
   "execution_count": 17,
   "id": "2a75745d-6218-48e0-91d2-519ca9f8ba20",
   "metadata": {},
   "outputs": [
    {
     "data": {
      "text/plain": [
       "[0, 2, 4, 6, 8]"
      ]
     },
     "execution_count": 17,
     "metadata": {},
     "output_type": "execute_result"
    }
   ],
   "source": [
    "rdd_int.filter(lambda x: x % 2 == 0).collect()"
   ]
  },
  {
   "cell_type": "code",
   "execution_count": 20,
   "id": "e30ea757-ba87-4dd7-9391-1b20318715a5",
   "metadata": {},
   "outputs": [
    {
     "data": {
      "text/plain": [
       "['aplicado.', 'Curso', 'especialización', 'Inteligencia', 'Artificial']"
      ]
     },
     "execution_count": 20,
     "metadata": {},
     "output_type": "execute_result"
    }
   ],
   "source": [
    "rdd_st.filter(lambda x: len(x) >= 5).collect()"
   ]
  },
  {
   "attachments": {},
   "cell_type": "markdown",
   "id": "424814d0-b3c5-4057-93ec-b59d250170d7",
   "metadata": {},
   "source": [
    "### SortBy\n",
    "Permite reordenar el RDD en función de un criterio que puede ser especificado mediante una función lambda"
   ]
  },
  {
   "cell_type": "code",
   "execution_count": 23,
   "id": "69a0a9a2-57dd-4fda-9b8f-1468d9fb569f",
   "metadata": {},
   "outputs": [
    {
     "data": {
      "text/plain": [
       "['y',\n",
       " 'de',\n",
       " 'de',\n",
       " 'Big',\n",
       " 'Big',\n",
       " 'Data',\n",
       " 'Data',\n",
       " 'Curso',\n",
       " 'aplicado.',\n",
       " 'Artificial',\n",
       " 'Inteligencia',\n",
       " 'especialización']"
      ]
     },
     "execution_count": 23,
     "metadata": {},
     "output_type": "execute_result"
    }
   ],
   "source": [
    "rdd_st.sortBy(lambda x: len(x)).collect()"
   ]
  },
  {
   "attachments": {},
   "cell_type": "markdown",
   "id": "7d666b92-f6f4-4478-b33d-8a790a2395ea",
   "metadata": {},
   "source": [
    "### Randomsplit\n",
    "Permite dividir un RDD convirtiéndolo en un array de RDD’s en función de un array de pesos especificado por el programador"
   ]
  },
  {
   "cell_type": "code",
   "execution_count": 21,
   "id": "d29d4d31-9b8f-4165-ab80-22d19278e75b",
   "metadata": {},
   "outputs": [
    {
     "name": "stdout",
     "output_type": "stream",
     "text": [
      "[0, 3, 6]\n",
      "[1, 2, 4, 5, 7, 8, 9]\n",
      "['Big', 'Data', 'aplicado.', 'Curso', 'de', 'especialización', 'y']\n",
      "['de', 'Inteligencia', 'Artificial', 'Big', 'Data']\n"
     ]
    }
   ],
   "source": [
    "for rdd in rdd_int.randomSplit([0.4, 0.6]):\n",
    "    print(rdd.collect())\n",
    "\n",
    "for rdd in rdd_st.randomSplit([0.5,0.5]):\n",
    "    print(rdd.collect())\n"
   ]
  },
  {
   "cell_type": "markdown",
   "id": "b0f53640-c65a-47e5-a6cf-5e379426857f",
   "metadata": {},
   "source": [
    "### FlatMap\n",
    "Permite realizar operaciones map que no sean 1:1. Por ejemplo, al leer un archivo de texto, por defecto, se almacena cada lína como un elemento del RDD. Con flatMap podemos transformar el RDD para que cada elemento sea una palabra. En este caso, separamos por ','\n"
   ]
  },
  {
   "cell_type": "code",
   "execution_count": 7,
   "id": "5b67db13-2bbe-45d7-995c-d4a13a2634ed",
   "metadata": {},
   "outputs": [
    {
     "data": {
      "text/plain": [
       "['DEST_COUNTRY_NAME',\n",
       " 'ORIGIN_COUNTRY_NAME',\n",
       " 'count',\n",
       " 'United States',\n",
       " 'Romania',\n",
       " '15',\n",
       " 'United States',\n",
       " 'Croatia',\n",
       " '1',\n",
       " 'United States',\n",
       " 'Ireland',\n",
       " '344',\n",
       " 'Egypt',\n",
       " 'United States',\n",
       " '15',\n",
       " 'United States',\n",
       " 'India',\n",
       " '62',\n",
       " 'United States',\n",
       " 'Singapore',\n",
       " '1',\n",
       " 'United States',\n",
       " 'Grenada',\n",
       " '62',\n",
       " 'Costa Rica',\n",
       " 'United States',\n",
       " '588',\n",
       " 'Senegal',\n",
       " 'United States',\n",
       " '40',\n",
       " 'Moldova',\n",
       " 'United States',\n",
       " '1',\n",
       " 'United States',\n",
       " 'Sint Maarten',\n",
       " '325',\n",
       " 'United States',\n",
       " 'Marshall Islands',\n",
       " '39',\n",
       " 'Guyana',\n",
       " 'United States',\n",
       " '64',\n",
       " 'Malta',\n",
       " 'United States',\n",
       " '1',\n",
       " 'Anguilla',\n",
       " 'United States',\n",
       " '41',\n",
       " 'Bolivia',\n",
       " 'United States',\n",
       " '30',\n",
       " 'United States',\n",
       " 'Paraguay',\n",
       " '6',\n",
       " 'Algeria',\n",
       " 'United States',\n",
       " '4',\n",
       " 'Turks and Caicos Islands',\n",
       " 'United States',\n",
       " '230',\n",
       " 'United States',\n",
       " 'Gibraltar',\n",
       " '1',\n",
       " 'Saint Vincent and the Grenadines',\n",
       " 'United States',\n",
       " '1',\n",
       " 'Italy',\n",
       " 'United States',\n",
       " '382',\n",
       " 'United States',\n",
       " 'Federated States of Micronesia',\n",
       " '69',\n",
       " 'United States',\n",
       " 'Russia',\n",
       " '161',\n",
       " 'Pakistan',\n",
       " 'United States',\n",
       " '12',\n",
       " 'United States',\n",
       " 'Netherlands',\n",
       " '660',\n",
       " 'Iceland',\n",
       " 'United States',\n",
       " '181',\n",
       " 'Marshall Islands',\n",
       " 'United States',\n",
       " '42',\n",
       " 'Luxembourg',\n",
       " 'United States',\n",
       " '155',\n",
       " 'Honduras',\n",
       " 'United States',\n",
       " '362',\n",
       " 'The Bahamas',\n",
       " 'United States',\n",
       " '955',\n",
       " 'United States',\n",
       " 'Senegal',\n",
       " '42',\n",
       " 'El Salvador',\n",
       " 'United States',\n",
       " '561',\n",
       " 'Samoa',\n",
       " 'United States',\n",
       " '25',\n",
       " 'United States',\n",
       " 'Angola',\n",
       " '13',\n",
       " 'Switzerland',\n",
       " 'United States',\n",
       " '294',\n",
       " 'United States',\n",
       " 'Anguilla',\n",
       " '38',\n",
       " 'Sint Maarten',\n",
       " 'United States',\n",
       " '325',\n",
       " 'Hong Kong',\n",
       " 'United States',\n",
       " '332',\n",
       " 'Trinidad and Tobago',\n",
       " 'United States',\n",
       " '211',\n",
       " 'Latvia',\n",
       " 'United States',\n",
       " '19',\n",
       " 'United States',\n",
       " 'Ecuador',\n",
       " '300',\n",
       " 'Suriname',\n",
       " 'United States',\n",
       " '1',\n",
       " 'Mexico',\n",
       " 'United States',\n",
       " '7140',\n",
       " 'United States',\n",
       " 'Cyprus',\n",
       " '1',\n",
       " 'Ecuador',\n",
       " 'United States',\n",
       " '268',\n",
       " 'United States',\n",
       " 'Portugal',\n",
       " '134',\n",
       " 'United States',\n",
       " 'Costa Rica',\n",
       " '608',\n",
       " 'United States',\n",
       " 'Guatemala',\n",
       " '318',\n",
       " 'United States',\n",
       " 'Suriname',\n",
       " '34',\n",
       " 'Colombia',\n",
       " 'United States',\n",
       " '873',\n",
       " 'United States',\n",
       " 'Cape Verde',\n",
       " '14',\n",
       " 'United States',\n",
       " 'Jamaica',\n",
       " '712',\n",
       " 'Norway',\n",
       " 'United States',\n",
       " '121',\n",
       " 'United States',\n",
       " 'Malaysia',\n",
       " '3',\n",
       " 'United States',\n",
       " 'Morocco',\n",
       " '19',\n",
       " 'Thailand',\n",
       " 'United States',\n",
       " '3',\n",
       " 'United States',\n",
       " 'Samoa',\n",
       " '25',\n",
       " 'Venezuela',\n",
       " 'United States',\n",
       " '290',\n",
       " 'United States',\n",
       " 'Palau',\n",
       " '31',\n",
       " 'United States',\n",
       " 'Venezuela',\n",
       " '246',\n",
       " 'Panama',\n",
       " 'United States',\n",
       " '510',\n",
       " 'Antigua and Barbuda',\n",
       " 'United States',\n",
       " '126',\n",
       " 'United States',\n",
       " 'Chile',\n",
       " '185',\n",
       " 'Morocco',\n",
       " 'United States',\n",
       " '15',\n",
       " 'United States',\n",
       " 'Finland',\n",
       " '28',\n",
       " 'Azerbaijan',\n",
       " 'United States',\n",
       " '21',\n",
       " 'United States',\n",
       " 'Greece',\n",
       " '23',\n",
       " 'United States',\n",
       " 'The Bahamas',\n",
       " '986',\n",
       " 'New Zealand',\n",
       " 'United States',\n",
       " '111',\n",
       " 'Liberia',\n",
       " 'United States',\n",
       " '2',\n",
       " 'United States',\n",
       " 'Hong Kong',\n",
       " '414',\n",
       " 'Hungary',\n",
       " 'United States',\n",
       " '2',\n",
       " 'United States',\n",
       " 'China',\n",
       " '920',\n",
       " 'United States',\n",
       " 'Vietnam',\n",
       " '2',\n",
       " 'Burkina Faso',\n",
       " 'United States',\n",
       " '1',\n",
       " 'Sweden',\n",
       " 'United States',\n",
       " '118',\n",
       " 'United States',\n",
       " 'Kuwait',\n",
       " '28',\n",
       " 'United States',\n",
       " 'Dominican Republic',\n",
       " '1420',\n",
       " 'United States',\n",
       " 'Egypt',\n",
       " '12',\n",
       " 'Israel',\n",
       " 'United States',\n",
       " '134',\n",
       " 'United States',\n",
       " 'United States',\n",
       " '370002',\n",
       " 'Ethiopia',\n",
       " 'United States',\n",
       " '13',\n",
       " 'United States',\n",
       " 'Luxembourg',\n",
       " '134',\n",
       " 'United States',\n",
       " 'Poland',\n",
       " '33',\n",
       " 'Martinique',\n",
       " 'United States',\n",
       " '44',\n",
       " 'United States',\n",
       " 'Saint Barthelemy',\n",
       " '41',\n",
       " 'Saint Barthelemy',\n",
       " 'United States',\n",
       " '39',\n",
       " 'Barbados',\n",
       " 'United States',\n",
       " '154',\n",
       " 'United States',\n",
       " 'Turkey',\n",
       " '129',\n",
       " 'Djibouti',\n",
       " 'United States',\n",
       " '1',\n",
       " 'United States',\n",
       " 'Azerbaijan',\n",
       " '21',\n",
       " 'United States',\n",
       " 'Estonia',\n",
       " '1',\n",
       " 'Germany',\n",
       " 'United States',\n",
       " '1468',\n",
       " 'United States',\n",
       " 'South Korea',\n",
       " '827',\n",
       " 'United States',\n",
       " 'El Salvador',\n",
       " '508',\n",
       " 'Ireland',\n",
       " 'United States',\n",
       " '335',\n",
       " 'United States',\n",
       " 'Hungary',\n",
       " '3',\n",
       " 'Zambia',\n",
       " 'United States',\n",
       " '1',\n",
       " 'Malaysia',\n",
       " 'United States',\n",
       " '2',\n",
       " 'United States',\n",
       " 'Ethiopia',\n",
       " '12',\n",
       " 'United States',\n",
       " 'Panama',\n",
       " '465',\n",
       " 'United States',\n",
       " 'Aruba',\n",
       " '342',\n",
       " 'United States',\n",
       " 'Thailand',\n",
       " '4',\n",
       " 'United States',\n",
       " 'Turks and Caicos Islands',\n",
       " '236',\n",
       " 'Croatia',\n",
       " 'United States',\n",
       " '2',\n",
       " 'United States',\n",
       " 'Pakistan',\n",
       " '12',\n",
       " 'Cyprus',\n",
       " 'United States',\n",
       " '1',\n",
       " 'United States',\n",
       " 'Honduras',\n",
       " '407',\n",
       " 'Fiji',\n",
       " 'United States',\n",
       " '24',\n",
       " 'Qatar',\n",
       " 'United States',\n",
       " '108',\n",
       " 'Saint Kitts and Nevis',\n",
       " 'United States',\n",
       " '139',\n",
       " 'Kuwait',\n",
       " 'United States',\n",
       " '32',\n",
       " 'Taiwan',\n",
       " 'United States',\n",
       " '266',\n",
       " 'Haiti',\n",
       " 'United States',\n",
       " '226',\n",
       " 'Canada',\n",
       " 'United States',\n",
       " '8399',\n",
       " 'Federated States of Micronesia',\n",
       " 'United States',\n",
       " '69',\n",
       " 'United States',\n",
       " 'Liberia',\n",
       " '2',\n",
       " 'Jamaica',\n",
       " 'United States',\n",
       " '666',\n",
       " 'United States',\n",
       " 'Malta',\n",
       " '2',\n",
       " 'Dominican Republic',\n",
       " 'United States',\n",
       " '1353',\n",
       " 'Japan',\n",
       " 'United States',\n",
       " '1548',\n",
       " 'United States',\n",
       " 'Lithuania',\n",
       " '1',\n",
       " 'Finland',\n",
       " 'United States',\n",
       " '26',\n",
       " 'United States',\n",
       " 'Guadeloupe',\n",
       " '59',\n",
       " 'United States',\n",
       " 'Ukraine',\n",
       " '13',\n",
       " 'United States',\n",
       " 'France',\n",
       " '952',\n",
       " 'United States',\n",
       " 'Norway',\n",
       " '115',\n",
       " 'Aruba',\n",
       " 'United States',\n",
       " '346',\n",
       " 'French Guiana',\n",
       " 'United States',\n",
       " '5',\n",
       " 'United States',\n",
       " 'Kiribati',\n",
       " '35',\n",
       " 'India',\n",
       " 'United States',\n",
       " '61',\n",
       " 'British Virgin Islands',\n",
       " 'United States',\n",
       " '107',\n",
       " 'Brazil',\n",
       " 'United States',\n",
       " '853',\n",
       " 'United States',\n",
       " 'Germany',\n",
       " '1336',\n",
       " 'United States',\n",
       " 'New Zealand',\n",
       " '74',\n",
       " 'French Polynesia',\n",
       " 'United States',\n",
       " '43',\n",
       " 'United Arab Emirates',\n",
       " 'United States',\n",
       " '320',\n",
       " 'Singapore',\n",
       " 'United States',\n",
       " '3',\n",
       " 'United States',\n",
       " 'Mexico',\n",
       " '7187',\n",
       " 'United States',\n",
       " 'Sweden',\n",
       " '119',\n",
       " 'Netherlands',\n",
       " 'United States',\n",
       " '776',\n",
       " 'United States',\n",
       " 'Martinique',\n",
       " '43',\n",
       " 'United States',\n",
       " 'United Arab Emirates',\n",
       " '313',\n",
       " 'United States',\n",
       " 'Bulgaria',\n",
       " '1',\n",
       " 'Denmark',\n",
       " 'United States',\n",
       " '153',\n",
       " 'China',\n",
       " 'United States',\n",
       " '772',\n",
       " 'United States',\n",
       " 'Nicaragua',\n",
       " '201',\n",
       " 'United States',\n",
       " 'Philippines',\n",
       " '126',\n",
       " 'United States',\n",
       " 'Georgia',\n",
       " '1',\n",
       " 'United States',\n",
       " 'Belgium',\n",
       " '228',\n",
       " 'Cayman Islands',\n",
       " 'United States',\n",
       " '314',\n",
       " 'Argentina',\n",
       " 'United States',\n",
       " '180',\n",
       " 'Peru',\n",
       " 'United States',\n",
       " '279',\n",
       " 'South Africa',\n",
       " 'United States',\n",
       " '36',\n",
       " 'United States',\n",
       " 'Iceland',\n",
       " '202',\n",
       " 'United States',\n",
       " 'Argentina',\n",
       " '141',\n",
       " 'Spain',\n",
       " 'United States',\n",
       " '420',\n",
       " 'Bermuda',\n",
       " 'United States',\n",
       " '183',\n",
       " 'United States',\n",
       " 'Nigeria',\n",
       " '50',\n",
       " 'United States',\n",
       " 'Austria',\n",
       " '63',\n",
       " 'United States',\n",
       " '\"Bonaire',\n",
       " ' Sint Eustatius',\n",
       " ' and Saba\"',\n",
       " '59',\n",
       " 'Kiribati',\n",
       " 'United States',\n",
       " '26',\n",
       " 'Saudi Arabia',\n",
       " 'United States',\n",
       " '83',\n",
       " 'Czech Republic',\n",
       " 'United States',\n",
       " '13',\n",
       " 'United States',\n",
       " 'Israel',\n",
       " '127',\n",
       " 'Belgium',\n",
       " 'United States',\n",
       " '259',\n",
       " 'United States',\n",
       " 'Saint Lucia',\n",
       " '136',\n",
       " 'United States',\n",
       " 'Bahrain',\n",
       " '1',\n",
       " 'United States',\n",
       " 'British Virgin Islands',\n",
       " '80',\n",
       " 'Curacao',\n",
       " 'United States',\n",
       " '90',\n",
       " 'Georgia',\n",
       " 'United States',\n",
       " '2',\n",
       " 'United States',\n",
       " 'Denmark',\n",
       " '152',\n",
       " 'United States',\n",
       " 'Guyana',\n",
       " '63',\n",
       " 'Philippines',\n",
       " 'United States',\n",
       " '134',\n",
       " 'Grenada',\n",
       " 'United States',\n",
       " '53',\n",
       " 'Cape Verde',\n",
       " 'United States',\n",
       " '20',\n",
       " \"Cote d'Ivoire\",\n",
       " 'United States',\n",
       " '1',\n",
       " 'Ukraine',\n",
       " 'United States',\n",
       " '14',\n",
       " 'United States',\n",
       " 'Papua New Guinea',\n",
       " '1',\n",
       " 'Russia',\n",
       " 'United States',\n",
       " '176',\n",
       " 'United States',\n",
       " 'Saudi Arabia',\n",
       " '70',\n",
       " 'Guatemala',\n",
       " 'United States',\n",
       " '397',\n",
       " 'Saint Lucia',\n",
       " 'United States',\n",
       " '123',\n",
       " 'Paraguay',\n",
       " 'United States',\n",
       " '60',\n",
       " 'United States',\n",
       " 'Curacao',\n",
       " '83',\n",
       " 'Kosovo',\n",
       " 'United States',\n",
       " '1',\n",
       " 'United States',\n",
       " 'Taiwan',\n",
       " '235',\n",
       " 'Tunisia',\n",
       " 'United States',\n",
       " '3',\n",
       " 'United States',\n",
       " 'South Africa',\n",
       " '40',\n",
       " 'Niger',\n",
       " 'United States',\n",
       " '2',\n",
       " 'Turkey',\n",
       " 'United States',\n",
       " '138',\n",
       " 'United Kingdom',\n",
       " 'United States',\n",
       " '2025',\n",
       " 'Romania',\n",
       " 'United States',\n",
       " '14',\n",
       " 'United States',\n",
       " 'Greenland',\n",
       " '4',\n",
       " 'Papua New Guinea',\n",
       " 'United States',\n",
       " '3',\n",
       " 'United States',\n",
       " 'Spain',\n",
       " '442',\n",
       " 'Iraq',\n",
       " 'United States',\n",
       " '1',\n",
       " 'United States',\n",
       " 'Italy',\n",
       " '438',\n",
       " 'Cuba',\n",
       " 'United States',\n",
       " '466',\n",
       " 'United States',\n",
       " 'Switzerland',\n",
       " '305',\n",
       " 'Dominica',\n",
       " 'United States',\n",
       " '20',\n",
       " 'United States',\n",
       " 'Japan',\n",
       " '1496',\n",
       " 'Portugal',\n",
       " 'United States',\n",
       " '127',\n",
       " 'United States',\n",
       " 'Brazil',\n",
       " '619',\n",
       " 'Bahrain',\n",
       " 'United States',\n",
       " '19',\n",
       " 'United States',\n",
       " 'Peru',\n",
       " '337',\n",
       " 'Indonesia',\n",
       " 'United States',\n",
       " '1',\n",
       " 'United States',\n",
       " 'Belize',\n",
       " '193',\n",
       " 'United States',\n",
       " 'United Kingdom',\n",
       " '1970',\n",
       " 'Belize',\n",
       " 'United States',\n",
       " '188',\n",
       " 'United States',\n",
       " 'Ghana',\n",
       " '20',\n",
       " 'United States',\n",
       " 'Indonesia',\n",
       " '2',\n",
       " 'United States',\n",
       " 'Fiji',\n",
       " '25',\n",
       " 'United States',\n",
       " 'Canada',\n",
       " '8483',\n",
       " 'United States',\n",
       " 'Antigua and Barbuda',\n",
       " '117',\n",
       " 'United States',\n",
       " 'French Polynesia',\n",
       " '40',\n",
       " 'Nicaragua',\n",
       " 'United States',\n",
       " '179',\n",
       " 'United States',\n",
       " 'Latvia',\n",
       " '15',\n",
       " 'United States',\n",
       " 'Dominica',\n",
       " '27',\n",
       " 'United States',\n",
       " 'Czech Republic',\n",
       " '12',\n",
       " 'United States',\n",
       " 'Australia',\n",
       " '258',\n",
       " 'United States',\n",
       " 'Cook Islands',\n",
       " '13',\n",
       " 'Austria',\n",
       " 'United States',\n",
       " '62',\n",
       " 'Jordan',\n",
       " 'United States',\n",
       " '44',\n",
       " 'Palau',\n",
       " 'United States',\n",
       " '30',\n",
       " 'South Korea',\n",
       " 'United States',\n",
       " '1048',\n",
       " 'Angola',\n",
       " 'United States',\n",
       " '15',\n",
       " 'Ghana',\n",
       " 'United States',\n",
       " '18',\n",
       " 'New Caledonia',\n",
       " 'United States',\n",
       " '1',\n",
       " 'Guadeloupe',\n",
       " 'United States',\n",
       " '56',\n",
       " 'France',\n",
       " 'United States',\n",
       " '935',\n",
       " 'Poland',\n",
       " 'United States',\n",
       " '32',\n",
       " 'Nigeria',\n",
       " 'United States',\n",
       " '59',\n",
       " 'United States',\n",
       " 'Uruguay',\n",
       " '13',\n",
       " 'Greenland',\n",
       " 'United States',\n",
       " '2',\n",
       " 'United States',\n",
       " 'Bermuda',\n",
       " '193',\n",
       " 'Chile',\n",
       " 'United States',\n",
       " '174',\n",
       " 'United States',\n",
       " 'Cuba',\n",
       " '478',\n",
       " 'United States',\n",
       " 'Montenegro',\n",
       " '1',\n",
       " 'United States',\n",
       " 'Colombia',\n",
       " '867',\n",
       " 'United States',\n",
       " 'Barbados',\n",
       " '130',\n",
       " 'United States',\n",
       " 'Qatar',\n",
       " '109',\n",
       " 'Australia',\n",
       " 'United States',\n",
       " '329',\n",
       " 'United States',\n",
       " 'Cayman Islands',\n",
       " '310',\n",
       " 'United States',\n",
       " 'Jordan',\n",
       " '44',\n",
       " 'United States',\n",
       " 'Namibia',\n",
       " '1',\n",
       " 'United States',\n",
       " 'Trinidad and Tobago',\n",
       " '217',\n",
       " 'United States',\n",
       " 'Bolivia',\n",
       " '13',\n",
       " 'Cook Islands',\n",
       " 'United States',\n",
       " '13',\n",
       " 'Bulgaria',\n",
       " 'United States',\n",
       " '3',\n",
       " 'United States',\n",
       " 'Saint Kitts and Nevis',\n",
       " '145',\n",
       " 'Uruguay',\n",
       " 'United States',\n",
       " '43',\n",
       " 'United States',\n",
       " 'Haiti',\n",
       " '225',\n",
       " '\"Bonaire',\n",
       " ' Sint Eustatius',\n",
       " ' and Saba\"',\n",
       " 'United States',\n",
       " '58',\n",
       " 'Greece',\n",
       " 'United States',\n",
       " '30']"
      ]
     },
     "execution_count": 7,
     "metadata": {},
     "output_type": "execute_result"
    }
   ],
   "source": [
    "rdd_file.flatMap(lambda x: x.split(',')).collect()"
   ]
  },
  {
   "cell_type": "code",
   "execution_count": null,
   "id": "15d123e3-32dc-4b8d-a2b4-932264f91c81",
   "metadata": {},
   "outputs": [],
   "source": []
  }
 ],
 "metadata": {
  "kernelspec": {
   "display_name": "Python 3 (ipykernel)",
   "language": "python",
   "name": "python3"
  },
  "language_info": {
   "codemirror_mode": {
    "name": "ipython",
    "version": 3
   },
   "file_extension": ".py",
   "mimetype": "text/x-python",
   "name": "python",
   "nbconvert_exporter": "python",
   "pygments_lexer": "ipython3",
   "version": "3.11.6"
  }
 },
 "nbformat": 4,
 "nbformat_minor": 5
}
