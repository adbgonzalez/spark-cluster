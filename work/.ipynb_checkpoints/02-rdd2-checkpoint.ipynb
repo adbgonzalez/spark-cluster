{
 "cells": [
  {
   "cell_type": "markdown",
   "id": "1e373dd0-9a41-4742-98f8-5842779d7d74",
   "metadata": {},
   "source": [
    "# Uso de RDD's avanzado\n",
    "En Big Data es habitual trabajar con datos en formato clave-valor. Por ello, Spark ofrece transformaciones y acciones específicas para estos casos"
   ]
  },
  {
   "cell_type": "code",
   "execution_count": 4,
   "id": "73569b94-4023-42c8-a0db-ce766fbcbad0",
   "metadata": {},
   "outputs": [],
   "source": [
    "# Inicializamos SparkSession y SparkContext\n",
    "from pyspark.sql import SparkSession\n",
    "spark = SparkSession.builder.getOrCreate()\n",
    "sc = spark.sparkContext"
   ]
  },
  {
   "cell_type": "code",
   "execution_count": 9,
   "id": "65cb2c61-9729-414f-9c04-9ad870f65a23",
   "metadata": {},
   "outputs": [
    {
     "name": "stdout",
     "output_type": "stream",
     "text": [
      "[('a', 1), ('b', 1), ('c', 1)]\n",
      "[('Big', 1), ('Data', 1), ('aplicado.', 1), ('Curso', 1), ('de', 1), ('especialización', 1), ('de', 1), ('Inteligencia', 1), ('Artificial', 1), ('y', 1), ('Big', 1), ('Data', 1)]\n"
     ]
    }
   ],
   "source": [
    "rdd_pares1 = sc.parallelize([('a', 1), ('b', 1), ('c', 1)])\n",
    "print (rdd_pares1.collect())\n",
    "\n",
    "rdd_st = sc.parallelize (\"Big Data aplicado. Curso de especialización de Inteligencia Artificial y Big Data\".split())\n",
    "rdd_pares2 = rdd_st.map(lambda palabra: (palabra,1))\n",
    "print (rdd_pares2.collect())"
   ]
  },
  {
   "cell_type": "markdown",
   "id": "b543059a-7a60-4631-8f5a-b0980aa44ebc",
   "metadata": {},
   "source": [
    "Lo interesante de los RDD's de pares clave valor es que proporcionar una serie de transformaciones y acciones adicionales\n",
    "## Transformaciones\n",
    "### keyBy\n",
    "Función que crea una clave para cada valor actual de un RDD"
   ]
  },
  {
   "cell_type": "code",
   "execution_count": 25,
   "id": "1220c006-861a-4f88-89b9-3dde91fe0dae",
   "metadata": {},
   "outputs": [
    {
     "name": "stdout",
     "output_type": "stream",
     "text": [
      "[(3, 'Big'), (4, 'Data'), (9, 'aplicado.'), (5, 'Curso'), (2, 'de'), (15, 'especialización'), (2, 'de'), (12, 'Inteligencia'), (10, 'Artificial'), (1, 'y'), (3, 'Big'), (4, 'Data')]\n"
     ]
    }
   ],
   "source": [
    "# La clave es la inicial de cada palabra\n",
    "rdd_pares = rdd_st.keyBy(lambda palabra: palabra[0])\n",
    "rdd_pares.collect()\n",
    "rdd_pares3 = rdd_st.keyBy (lambda palabra: len(palabra))\n",
    "print (rdd_pares3.collect())"
   ]
  },
  {
   "cell_type": "markdown",
   "id": "95f9d596-d983-4670-a440-d5bab54100ed",
   "metadata": {},
   "source": [
    "### mapValues\n",
    "Realiza una operación map sólo sobre los valores del RDD"
   ]
  },
  {
   "cell_type": "code",
   "execution_count": 12,
   "id": "a9ce58c8-7b65-4eac-9a41-6783e119575b",
   "metadata": {},
   "outputs": [
    {
     "data": {
      "text/plain": [
       "[('B', 'BIG'),\n",
       " ('D', 'DATA'),\n",
       " ('a', 'APLICADO.'),\n",
       " ('C', 'CURSO'),\n",
       " ('d', 'DE'),\n",
       " ('e', 'ESPECIALIZACIÓN'),\n",
       " ('d', 'DE'),\n",
       " ('I', 'INTELIGENCIA'),\n",
       " ('A', 'ARTIFICIAL'),\n",
       " ('y', 'Y'),\n",
       " ('B', 'BIG'),\n",
       " ('D', 'DATA')]"
      ]
     },
     "execution_count": 12,
     "metadata": {},
     "output_type": "execute_result"
    }
   ],
   "source": [
    "rdd_pares.mapValues(lambda x: x.upper()).collect()"
   ]
  },
  {
   "cell_type": "markdown",
   "id": "2a8ba589-2bcd-45e0-825b-6d193e4e9be6",
   "metadata": {},
   "source": [
    "### groupByKey\n",
    "Agrupa los valores en función de la clave"
   ]
  },
  {
   "cell_type": "code",
   "execution_count": 16,
   "id": "384f3053-5329-4bc7-af7d-e220ce0e5987",
   "metadata": {},
   "outputs": [
    {
     "data": {
      "text/plain": [
       "[('e', <pyspark.resultiterable.ResultIterable at 0x7f16e00c36d0>),\n",
       " ('B', <pyspark.resultiterable.ResultIterable at 0x7f16d160bb10>),\n",
       " ('I', <pyspark.resultiterable.ResultIterable at 0x7f16d1609d50>),\n",
       " ('A', <pyspark.resultiterable.ResultIterable at 0x7f16d1609cd0>),\n",
       " ('D', <pyspark.resultiterable.ResultIterable at 0x7f16e2df39d0>),\n",
       " ('d', <pyspark.resultiterable.ResultIterable at 0x7f16c031bf10>),\n",
       " ('y', <pyspark.resultiterable.ResultIterable at 0x7f16d1e33110>),\n",
       " ('a', <pyspark.resultiterable.ResultIterable at 0x7f16d160a6d0>),\n",
       " ('C', <pyspark.resultiterable.ResultIterable at 0x7f16d1609c50>)]"
      ]
     },
     "execution_count": 16,
     "metadata": {},
     "output_type": "execute_result"
    }
   ],
   "source": [
    "rdd_pares.groupByKey().collect()"
   ]
  },
  {
   "cell_type": "markdown",
   "id": "9acc93fa-fd04-4f5f-9626-0a7c79aab99e",
   "metadata": {},
   "source": [
    "### reduceByKey\n",
    "Aplica una función reductora después de agrupar los valores del RDD en función de la clave"
   ]
  },
  {
   "cell_type": "code",
   "execution_count": 21,
   "id": "a698b429-56fb-40cc-a57a-fa9f0687d6c3",
   "metadata": {},
   "outputs": [
    {
     "data": {
      "text/plain": [
       "[('Curso', 1),\n",
       " ('aplicado.', 1),\n",
       " ('especialización', 1),\n",
       " ('Big', 2),\n",
       " ('de', 2),\n",
       " ('y', 1),\n",
       " ('Inteligencia', 1),\n",
       " ('Artificial', 1),\n",
       " ('Data', 2)]"
      ]
     },
     "execution_count": 21,
     "metadata": {},
     "output_type": "execute_result"
    }
   ],
   "source": [
    "rdd_pares2.reduceByKey(lambda x,y: x+y).collect()"
   ]
  },
  {
   "cell_type": "markdown",
   "id": "fbb5f0b9-a48e-46ae-b61a-e053a066ca31",
   "metadata": {},
   "source": [
    "### sortByKey\n",
    "Ordena"
   ]
  },
  {
   "cell_type": "code",
   "execution_count": 29,
   "id": "2d2cc6fb-5c9b-4c21-9d0c-a312f32c9d1a",
   "metadata": {},
   "outputs": [
    {
     "data": {
      "text/plain": [
       "[(15, 'especialización'),\n",
       " (12, 'Inteligencia'),\n",
       " (10, 'Artificial'),\n",
       " (9, 'aplicado.'),\n",
       " (5, 'Curso'),\n",
       " (4, 'Data'),\n",
       " (4, 'Data'),\n",
       " (3, 'Big'),\n",
       " (3, 'Big'),\n",
       " (2, 'de'),\n",
       " (2, 'de'),\n",
       " (1, 'y')]"
      ]
     },
     "execution_count": 29,
     "metadata": {},
     "output_type": "execute_result"
    }
   ],
   "source": [
    "rdd_pares3.sortByKey(ascending=False).collect()"
   ]
  },
  {
   "cell_type": "markdown",
   "id": "e661934a-7492-475d-a42b-1732debcf56a",
   "metadata": {},
   "source": [
    "### join\n",
    "Hay varios tipos posibles de join\n",
    "- Inner join: join()\n",
    "- Full outer join: fullOuterJoin()\n",
    "- left outer join: leftOuterJoin()\n",
    "- right outer join: rightOuterJoin()\n",
    "- producto cartesiano: cartesian() (no se recomienda su uso)"
   ]
  },
  {
   "cell_type": "code",
   "execution_count": 1,
   "id": "0dcb3912-3823-4fe5-b5e3-ba9cc3138014",
   "metadata": {},
   "outputs": [
    {
     "ename": "NameError",
     "evalue": "name 'sc' is not defined",
     "output_type": "error",
     "traceback": [
      "\u001b[0;31m---------------------------------------------------------------------------\u001b[0m",
      "\u001b[0;31mNameError\u001b[0m                                 Traceback (most recent call last)",
      "Cell \u001b[0;32mIn[1], line 1\u001b[0m\n\u001b[0;32m----> 1\u001b[0m rdd1 \u001b[38;5;241m=\u001b[39m \u001b[43msc\u001b[49m\u001b[38;5;241m.\u001b[39mparallelize([(\u001b[38;5;124m'\u001b[39m\u001b[38;5;124ma\u001b[39m\u001b[38;5;124m'\u001b[39m, \u001b[38;5;241m1\u001b[39m), (\u001b[38;5;124m'\u001b[39m\u001b[38;5;124mb\u001b[39m\u001b[38;5;124m'\u001b[39m, \u001b[38;5;241m2\u001b[39m), (\u001b[38;5;124m'\u001b[39m\u001b[38;5;124mc\u001b[39m\u001b[38;5;124m'\u001b[39m, \u001b[38;5;241m3\u001b[39m)])\n\u001b[1;32m      2\u001b[0m rdd2 \u001b[38;5;241m=\u001b[39m sc\u001b[38;5;241m.\u001b[39mparallelize([(\u001b[38;5;124m'\u001b[39m\u001b[38;5;124ma\u001b[39m\u001b[38;5;124m'\u001b[39m, \u001b[38;5;241m4\u001b[39m), (\u001b[38;5;124m'\u001b[39m\u001b[38;5;124mb\u001b[39m\u001b[38;5;124m'\u001b[39m, \u001b[38;5;241m5\u001b[39m), (\u001b[38;5;124m'\u001b[39m\u001b[38;5;124mc\u001b[39m\u001b[38;5;124m'\u001b[39m, \u001b[38;5;241m6\u001b[39m)])\n\u001b[1;32m      3\u001b[0m rdd3 \u001b[38;5;241m=\u001b[39m rdd1\u001b[38;5;241m.\u001b[39mjoin(rdd2)\n",
      "\u001b[0;31mNameError\u001b[0m: name 'sc' is not defined"
     ]
    }
   ],
   "source": [
    "rdd1 = sc.parallelize([('a', 1), ('b', 2), ('c', 3)])\n",
    "rdd2 = sc.parallelize([('a', 4), ('b', 5), ('c', 6)])\n",
    "rdd3 = rdd1.join(rdd2)\n",
    "print(rdd3.collect())\n",
    "\n",
    "rdd4 = rdd1.leftOuterJoin(rdd2)\n",
    "print (rdd2.collect())"
   ]
  },
  {
   "cell_type": "markdown",
   "id": "088fefc2-7499-4109-b190-9d2892f7aba3",
   "metadata": {},
   "source": [
    "### union\n",
    "Permite unir varios RDD's"
   ]
  },
  {
   "cell_type": "code",
   "execution_count": 8,
   "id": "cc0474f7-92eb-435e-8efd-6ddb27a2cb7e",
   "metadata": {},
   "outputs": [
    {
     "data": {
      "text/plain": [
       "[('a', 1), ('b', 2), ('b', 3), ('a', 3), ('b', 1), ('c', 2)]"
      ]
     },
     "execution_count": 8,
     "metadata": {},
     "output_type": "execute_result"
    }
   ],
   "source": [
    "rdda = sc.parallelize ([('a',1),('b',2),('b',3)])\n",
    "rddb = sc.parallelize ([('a',3),('b',1),('c',2)])\n",
    "rdd_union = rdda.union(rddb)\n",
    "rdd_union.collect()"
   ]
  },
  {
   "cell_type": "markdown",
   "id": "88567cbb-286c-4881-ae1e-fa0baa319b5c",
   "metadata": {},
   "source": [
    "## Acciones\n",
    "### lookup\n",
    "Devuelve sólo los valores que coinciden con la clave especificada"
   ]
  },
  {
   "cell_type": "code",
   "execution_count": 13,
   "id": "eedf7e0d-7a7c-4e32-b4fd-351aec2b1597",
   "metadata": {},
   "outputs": [
    {
     "data": {
      "text/plain": [
       "['Big', 'Big']"
      ]
     },
     "execution_count": 13,
     "metadata": {},
     "output_type": "execute_result"
    }
   ],
   "source": [
    "rdd_pares.lookup('B')"
   ]
  },
  {
   "cell_type": "markdown",
   "id": "8dc1e8e6-5b33-4541-bc0c-59dc6ffb5b64",
   "metadata": {},
   "source": [
    "### countByKey\n",
    "Permite contar el número de valores que se corresponden con una determinada clave"
   ]
  },
  {
   "cell_type": "code",
   "execution_count": 18,
   "id": "acd6e18c-e75b-426d-97d9-747e1ae36096",
   "metadata": {},
   "outputs": [
    {
     "data": {
      "text/plain": [
       "defaultdict(int,\n",
       "            {'B': 2,\n",
       "             'D': 2,\n",
       "             'a': 1,\n",
       "             'C': 1,\n",
       "             'd': 2,\n",
       "             'e': 1,\n",
       "             'I': 1,\n",
       "             'A': 1,\n",
       "             'y': 1})"
      ]
     },
     "execution_count": 18,
     "metadata": {},
     "output_type": "execute_result"
    }
   ],
   "source": [
    "rdd_pares.countByKey()"
   ]
  },
  {
   "cell_type": "code",
   "execution_count": null,
   "id": "b17c75c4-5217-43b7-bdd5-b282bf5fb313",
   "metadata": {},
   "outputs": [],
   "source": []
  }
 ],
 "metadata": {
  "kernelspec": {
   "display_name": "Python 3 (ipykernel)",
   "language": "python",
   "name": "python3"
  },
  "language_info": {
   "codemirror_mode": {
    "name": "ipython",
    "version": 3
   },
   "file_extension": ".py",
   "mimetype": "text/x-python",
   "name": "python",
   "nbconvert_exporter": "python",
   "pygments_lexer": "ipython3",
   "version": "3.11.6"
  }
 },
 "nbformat": 4,
 "nbformat_minor": 5
}
