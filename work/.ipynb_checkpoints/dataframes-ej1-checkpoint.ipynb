{
 "cells": [
  {
   "cell_type": "markdown",
   "id": "b1bfe3ed-163e-40ba-b351-4edb7d831520",
   "metadata": {},
   "source": [
    "# Ejercicios Dataframes 1\n",
    "Realiza los siguientes ejercicios. Soluciona cada uno de ellos empleando la DataFrame API y Spark SQL\n",
    "1. Inicializa la variable spark (0)"
   ]
  },
  {
   "cell_type": "code",
   "execution_count": null,
   "id": "df77145a-ca3d-4d6a-b1a3-de67d78ec797",
   "metadata": {},
   "outputs": [],
   "source": []
  },
  {
   "cell_type": "markdown",
   "id": "2b409446-04e9-49ac-b0e4-d85b5ca211d2",
   "metadata": {},
   "source": [
    "2. Crea un dataframe llamado mi_df con los datos del archivo *data/retail-data/all/online-retail-dataset.csv*"
   ]
  },
  {
   "cell_type": "code",
   "execution_count": null,
   "id": "7801ebe4-7c84-47ce-a748-6d22ee0fcbd5",
   "metadata": {},
   "outputs": [],
   "source": [
    "#DataFrame API\n",
    "\n",
    "\n",
    "#SQL\n",
    "\n"
   ]
  },
  {
   "cell_type": "markdown",
   "id": "e2d6cb80-b1d1-4057-852d-e7f54dc60588",
   "metadata": {},
   "source": [
    "3. Muestra las 10 primeras filas del dataframe"
   ]
  },
  {
   "cell_type": "code",
   "execution_count": null,
   "id": "5d798706-e551-4a08-a9d5-efd718b6735a",
   "metadata": {},
   "outputs": [],
   "source": [
    "#DataFrame API\n",
    "\n",
    "\n",
    "#SQL\n",
    "\n"
   ]
  },
  {
   "cell_type": "markdown",
   "id": "e1180d54-8a5e-45ac-bdcb-511f1dcfead3",
   "metadata": {},
   "source": [
    "4. Muestra sólo los camos \"InvoiceNo\", \"Description\" y \"Quantity\" de las 5 primeras filas"
   ]
  },
  {
   "cell_type": "code",
   "execution_count": null,
   "id": "656d5df2-34a3-4b68-a15f-77889ef78069",
   "metadata": {},
   "outputs": [],
   "source": [
    "#DataFrame API\n",
    "\n",
    "\n",
    "#SQL\n",
    "\n"
   ]
  },
  {
   "cell_type": "markdown",
   "id": "f45da884-a12f-4832-92a1-73796994444f",
   "metadata": {},
   "source": [
    "5. Muestra sólo los campos \"InvoiceNo\" (Factura), \"Description\" (Descripción) y \"Quantity\" (Cantidad) de lsa 5 primeras filas"
   ]
  },
  {
   "cell_type": "code",
   "execution_count": null,
   "id": "2aff3971-b944-41b2-9866-98689dad19d6",
   "metadata": {},
   "outputs": [],
   "source": [
    "#DataFrame API\n",
    "\n",
    "\n",
    "#SQL\n",
    "\n"
   ]
  },
  {
   "cell_type": "markdown",
   "id": "4e16b87e-5960-415a-bf27-83fc235f5fd4",
   "metadata": {},
   "source": [
    "6. Muestra los campos \"Description\" y \"Quantity\" de las 5 primeras filas para el número de factura 536365"
   ]
  },
  {
   "cell_type": "code",
   "execution_count": null,
   "id": "a965b84b-611c-43b7-90b8-4083b877e7c3",
   "metadata": {},
   "outputs": [],
   "source": [
    "#DataFrame API\n",
    "\n",
    "\n",
    "#SQL\n",
    "\n"
   ]
  },
  {
   "cell_type": "markdown",
   "id": "33fa0bb2-5174-443b-bd34-c28a7b97f74f",
   "metadata": {},
   "source": [
    "7. Añade una nueva columna llamada \"Mayor_que_20\" que contenga el valor True si el coste total (quantity * UnitPrice) es mayor que 20, False en caso contrario. Muestra las 5 primeras filas."
   ]
  },
  {
   "cell_type": "code",
   "execution_count": null,
   "id": "100b8c0c-b09c-4ecc-a542-7e73ee0b02e6",
   "metadata": {},
   "outputs": [],
   "source": [
    "#DataFrame API\n",
    "\n",
    "\n",
    "#SQL\n",
    "\n"
   ]
  },
  {
   "cell_type": "markdown",
   "id": "9e6477dd-9231-49f5-a4e7-a7a106c8586f",
   "metadata": {},
   "source": [
    "8. Elimina la columna CustomerID"
   ]
  },
  {
   "cell_type": "code",
   "execution_count": null,
   "id": "ff03c0ef-0dcf-4e0c-bc2a-f994f06b4015",
   "metadata": {},
   "outputs": [],
   "source": [
    "#DataFrame API\n",
    "\n",
    "\n",
    "#SQL\n",
    "\n"
   ]
  },
  {
   "cell_type": "markdown",
   "id": "14390748-8b44-42b5-9b9d-f8e59b8cc2cf",
   "metadata": {},
   "source": [
    "9. Muestra los países distintos (10 primeros)"
   ]
  },
  {
   "cell_type": "code",
   "execution_count": null,
   "id": "c6c99cd2-962e-47c8-a682-a4a3b4a7a8a5",
   "metadata": {},
   "outputs": [],
   "source": [
    "#DataFrame API\n",
    "\n",
    "\n",
    "#SQL\n",
    "\n"
   ]
  },
  {
   "cell_type": "markdown",
   "id": "3e4a324b-9299-4988-b178-67ac1bea23ee",
   "metadata": {},
   "source": [
    "10. Muestra el número de países distintos"
   ]
  },
  {
   "cell_type": "code",
   "execution_count": null,
   "id": "43f12815-50d2-43d7-9f66-886421a9e00e",
   "metadata": {},
   "outputs": [],
   "source": [
    "#DataFrame API\n",
    "\n",
    "\n",
    "#SQL\n",
    "\n"
   ]
  },
  {
   "cell_type": "markdown",
   "id": "37dc14d7-e6e4-4ec0-ac24-648494cabaf5",
   "metadata": {},
   "source": [
    "11. Muestra el número de países distintos, ordenados de forma ascendente"
   ]
  },
  {
   "cell_type": "code",
   "execution_count": null,
   "id": "9b15bdb7-f591-44e4-8cfc-ce068e3f9f31",
   "metadata": {},
   "outputs": [],
   "source": [
    "#DataFrame API\n",
    "\n",
    "\n",
    "#SQL\n",
    "\n"
   ]
  }
 ],
 "metadata": {
  "kernelspec": {
   "display_name": "Python 3 (ipykernel)",
   "language": "python",
   "name": "python3"
  },
  "language_info": {
   "codemirror_mode": {
    "name": "ipython",
    "version": 3
   },
   "file_extension": ".py",
   "mimetype": "text/x-python",
   "name": "python",
   "nbconvert_exporter": "python",
   "pygments_lexer": "ipython3",
   "version": "3.11.6"
  }
 },
 "nbformat": 4,
 "nbformat_minor": 5
}
