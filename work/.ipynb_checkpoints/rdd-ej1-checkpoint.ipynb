{
 "cells": [
  {
   "cell_type": "markdown",
   "id": "89475821-66a0-4c6c-b4ce-65885e7963b9",
   "metadata": {},
   "source": [
    "# Ejercicios basicos RDD\n",
    "1. Inicia las variables SparkSession y SparkContext (0,5)"
   ]
  },
  {
   "cell_type": "code",
   "execution_count": null,
   "id": "95f588dd-1dce-4313-a263-a6b5b393125e",
   "metadata": {},
   "outputs": [],
   "source": []
  },
  {
   "cell_type": "markdown",
   "id": "3bdcc80c-0b1b-489c-b231-7ae38eaf4d27",
   "metadata": {},
   "source": [
    "2. Crea un rdd de enteros en un rango de 100 llamado rdd1 (0,5)"
   ]
  },
  {
   "cell_type": "code",
   "execution_count": null,
   "id": "b1d1443f-7765-4f33-a66f-afc8dc2fa853",
   "metadata": {},
   "outputs": [],
   "source": []
  },
  {
   "cell_type": "markdown",
   "id": "739deac0-b155-4f9d-b977-94887240842d",
   "metadata": {},
   "source": [
    "3. Crea un rdd de strings a partir de la frase ___ con el nombre rdd2 (0,5)"
   ]
  },
  {
   "cell_type": "code",
   "execution_count": null,
   "id": "05d4e60c-166d-4a85-ad8f-973a9cd28d88",
   "metadata": {},
   "outputs": [],
   "source": []
  },
  {
   "cell_type": "markdown",
   "id": "29721a2c-64dd-4c45-98d8-b2997fa0010e",
   "metadata": {},
   "source": [
    "4. Crea un rdd a partir del archivo data/el_quijote.txt con el nombre rdd3 (0,5)"
   ]
  },
  {
   "cell_type": "code",
   "execution_count": null,
   "id": "424a575b-e78e-4c6c-a37d-baeb1f7aaaed",
   "metadata": {},
   "outputs": [],
   "source": []
  },
  {
   "cell_type": "markdown",
   "id": "be548089-1d22-4231-8155-e4daf642fbf8",
   "metadata": {},
   "source": [
    "5. Para el rdd1 (2):\n",
    "   - a. Muestra los 3 primeros elementos\n",
    "   - b. muestra todos los elementos\n",
    "   - c. Obtén la suma de todos sus elementos\n",
    "   - d. Obtén la suma de los elementos que son múltiplos de 2\n",
    "   "
   ]
  },
  {
   "cell_type": "code",
   "execution_count": null,
   "id": "5df58c57-c49b-4445-89b0-1b8719a01188",
   "metadata": {},
   "outputs": [],
   "source": [
    "\n"
   ]
  },
  {
   "cell_type": "markdown",
   "id": "d22a48c9-b96a-4e2c-82eb-6b8ae72a67ce",
   "metadata": {},
   "source": [
    "6. Para el rdd2 (2):\n",
    "   - a) Muestra una muestra del 40% de los elementos\n",
    "   - b) Muestra el número de elementos\n",
    "   - c) Muestra el número de elementos que empiezan por la letra 'b', después de pasar los elementos a minúsculas\n",
    "   - d) Muestra los elementos distintos\n",
    "   - e) Muestra el número de elementos distintos\n",
    "   "
   ]
  },
  {
   "cell_type": "code",
   "execution_count": null,
   "id": "ba075395-e8fc-4fd8-b8b8-5c1d8f0d2d91",
   "metadata": {},
   "outputs": [],
   "source": []
  },
  {
   "cell_type": "markdown",
   "id": "0390e347-5e96-49c9-8ec0-c565aa7c0b07",
   "metadata": {},
   "source": [
    "7. Para el rdd3 (4):\n",
    "   - a) Obtén el número de líneas\n",
    "   - b) Obtén el número de palabras\n",
    "   - c) Obtén la línea de mayor longitud\n",
    "   - d) Obtén la palabra de mayor longitud\n",
    "   - e) Obtén las 3 palabras más largas\n",
    "   - f) Obtén la suma de las longitudes de todas las palabras\n",
    "   - g) Obtén el número de líneas que contengan la palabra \"quijote\" (pasa primero a minúsculas)\n",
    "   - h) Obtén el número de palabras con longitud superior a 6"
   ]
  },
  {
   "cell_type": "code",
   "execution_count": null,
   "id": "e322dd77-8a9d-4d46-ace4-f50a53ff94b0",
   "metadata": {},
   "outputs": [],
   "source": []
  },
  {
   "cell_type": "code",
   "execution_count": null,
   "id": "8499d6e7-6c0d-4c84-9acd-3e0899c16a69",
   "metadata": {},
   "outputs": [],
   "source": []
  }
 ],
 "metadata": {
  "kernelspec": {
   "display_name": "Python 3 (ipykernel)",
   "language": "python",
   "name": "python3"
  },
  "language_info": {
   "codemirror_mode": {
    "name": "ipython",
    "version": 3
   },
   "file_extension": ".py",
   "mimetype": "text/x-python",
   "name": "python",
   "nbconvert_exporter": "python",
   "pygments_lexer": "ipython3",
   "version": "3.11.6"
  }
 },
 "nbformat": 4,
 "nbformat_minor": 5
}
