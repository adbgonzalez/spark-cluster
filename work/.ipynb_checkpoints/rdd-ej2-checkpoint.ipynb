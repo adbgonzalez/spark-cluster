{
 "cells": [
  {
   "cell_type": "markdown",
   "id": "3f57987d-a229-486b-8556-9d01504e4aa1",
   "metadata": {},
   "source": [
    "# Ejercicios RDD de pares\n",
    "1. Inicia las variables SparkSession y SparkContext (0)"
   ]
  },
  {
   "cell_type": "code",
   "execution_count": 30,
   "id": "ef9b91cb-568c-48ae-b033-18bd92eb18e3",
   "metadata": {},
   "outputs": [],
   "source": []
  },
  {
   "cell_type": "markdown",
   "id": "e3a0f810-ba11-481f-a22c-0204752702a8",
   "metadata": {},
   "source": [
    "2. Crea un rdd de pares de la forma (palabra, 1) a partir del fichero data/el_quijote.txt (1)"
   ]
  },
  {
   "cell_type": "code",
   "execution_count": null,
   "id": "087896ff-3e79-48bc-afb4-210f9b237064",
   "metadata": {},
   "outputs": [],
   "source": []
  },
  {
   "cell_type": "markdown",
   "id": "5b0c9b12-89de-4306-a400-3e4c2dcafce0",
   "metadata": {},
   "source": [
    "3. A partir del RDD anterior, cuenta el número de ocurrencias de cada palabra (1)"
   ]
  },
  {
   "cell_type": "code",
   "execution_count": null,
   "id": "5cee66f5-464c-452c-b3d5-fe72d00c6f9a",
   "metadata": {},
   "outputs": [],
   "source": []
  },
  {
   "cell_type": "markdown",
   "id": "1fef2c56-ca9d-4cde-8714-12b7b02a7b87",
   "metadata": {},
   "source": [
    "4. Repite los ejercicios 2 y 3 de forma que no se tengan en cuenta los signos de puntación y no se distingan mayúsculas de minúsculas (mapea todo a minúsuculas) (2)"
   ]
  },
  {
   "cell_type": "code",
   "execution_count": null,
   "id": "c5f221d6-54f7-44dc-968c-73ed113051ca",
   "metadata": {},
   "outputs": [],
   "source": []
  },
  {
   "cell_type": "markdown",
   "id": "da5279c8-2a9f-4ab1-82c0-136f280b2eb2",
   "metadata": {},
   "source": [
    "5. A partir de los ficheros data/notas/notas_mates.txt, data/notas/notas_fisica.txt y data/notas/notas_ingles.txt, realiza las siguientes operaciones:\n",
    "   - a) Crea 3 RDD de pares uno para cada asignatura (notas_mates, notas_ingles, notas_fisica) (0,5)\n",
    "   - b) Crea un RDD que sea la unión de los 3 anteriores (0,5)\n",
    "   - c) Muestra la nota más baja de cada alumno (1)\n",
    "   - d) Muestra la nota media de cada alumno (1)\n",
    "   - e) Muestra cuantos estudiantes suspenden cada asignatura (1)\n",
    "   - f) Muestra en qué asignatura suspende más gente (1)\n",
    "   - g) Obtén un RDD que que asocie a cada alumno con las notas en todas las asignaturas (1)"
   ]
  },
  {
   "cell_type": "code",
   "execution_count": 23,
   "id": "60d940f3-8d71-4bb3-b2cf-7e7ae711e9f7",
   "metadata": {},
   "outputs": [],
   "source": [
    "# a)"
   ]
  },
  {
   "cell_type": "code",
   "execution_count": 24,
   "id": "b008dd84-05ca-486b-a251-b80a68c521b7",
   "metadata": {},
   "outputs": [],
   "source": [
    "# b)"
   ]
  },
  {
   "cell_type": "code",
   "execution_count": 25,
   "id": "307eb58f-e7cd-40c8-8f34-8f953dae0627",
   "metadata": {},
   "outputs": [],
   "source": [
    "# c)"
   ]
  },
  {
   "cell_type": "code",
   "execution_count": 26,
   "id": "84ca9b75-ee55-4d26-9367-a814c5a9632c",
   "metadata": {},
   "outputs": [],
   "source": [
    "# d)"
   ]
  },
  {
   "cell_type": "code",
   "execution_count": 27,
   "id": "bd47e7ef-5fab-4d29-b4d2-9ed65993aee8",
   "metadata": {},
   "outputs": [],
   "source": [
    "# e)"
   ]
  },
  {
   "cell_type": "code",
   "execution_count": 28,
   "id": "86fe1177-092d-471f-88fd-18ca9015ddc1",
   "metadata": {},
   "outputs": [],
   "source": [
    "# f)"
   ]
  },
  {
   "cell_type": "code",
   "execution_count": 29,
   "id": "32d6b4d5-bd02-4e15-8d47-9f600e88070e",
   "metadata": {},
   "outputs": [],
   "source": [
    "# g)"
   ]
  },
  {
   "cell_type": "code",
   "execution_count": null,
   "id": "e0e66b4b-cbad-41ad-9b48-bc085b445af4",
   "metadata": {},
   "outputs": [],
   "source": []
  }
 ],
 "metadata": {
  "kernelspec": {
   "display_name": "Python 3 (ipykernel)",
   "language": "python",
   "name": "python3"
  },
  "language_info": {
   "codemirror_mode": {
    "name": "ipython",
    "version": 3
   },
   "file_extension": ".py",
   "mimetype": "text/x-python",
   "name": "python",
   "nbconvert_exporter": "python",
   "pygments_lexer": "ipython3",
   "version": "3.11.6"
  }
 },
 "nbformat": 4,
 "nbformat_minor": 5
}
