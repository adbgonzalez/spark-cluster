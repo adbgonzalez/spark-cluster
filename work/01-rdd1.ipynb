{
 "cells": [
  {
   "cell_type": "markdown",
   "id": "1452f549-7f7b-4f55-bdf3-6cc0a946f6db",
   "metadata": {},
   "source": [
    "# Uso de RDD's en Spark"
   ]
  },
  {
   "cell_type": "markdown",
   "id": "eb853ffb-7e32-4b9f-91b3-140a4e37b301",
   "metadata": {},
   "source": [
    "## Creación de un RDD \n",
    "Lo primero es obtener el objeto SparkContext. Recomendación personal: Hacerlo a partir del objeto SparkSession"
   ]
  },
  {
   "cell_type": "code",
   "execution_count": 1,
   "id": "47c7356c-d909-415a-b237-31554630371a",
   "metadata": {},
   "outputs": [],
   "source": [
    "from pyspark.sql import SparkSession\n",
    "spark = SparkSession.builder.getOrCreate()\n",
    "sc = spark.sparkContext"
   ]
  },
  {
   "cell_type": "markdown",
   "id": "abc90f67-aeb0-4d5f-9544-fe1b20a04abf",
   "metadata": {},
   "source": [
    "### A partir de una colección\n",
    "Para crear un RDD a partir de una colección se usa el método parallelize. A continuación se muestran dos ejemplos: Uno para enteros y otro para strings"
   ]
  },
  {
   "cell_type": "code",
   "execution_count": 2,
   "id": "c7f52f5a-68e9-4532-a5e2-d0b563d9ccd9",
   "metadata": {},
   "outputs": [],
   "source": [
    "rdd_int = sc.parallelize(range(10))\n",
    "rdd_st = sc.parallelize (\"Big Data aplicado. Curso de especialización de Inteligencia Artificial y Big Data\".split())"
   ]
  },
  {
   "cell_type": "markdown",
   "id": "51873a2d-893b-4852-806f-c8648ff2a497",
   "metadata": {},
   "source": [
    "### A partir de fuentes de datos\n",
    "Para ello tenemos dos opciones:\n",
    "- textfile: Para crear un RDD a partir de un archivo de texto\n",
    "- wholeTextFiles: Para crear un RDD a partir de varios archivos de texto"
   ]
  },
  {
   "cell_type": "code",
   "execution_count": 4,
   "id": "7dc07552-72bd-4926-ab49-d73ff1714414",
   "metadata": {},
   "outputs": [],
   "source": [
    "rdd_file = sc.textFile(\"data/flight-data/csv/2015-summary.csv\")\n",
    "rdd_whole_files = sc.wholeTextFiles(\"data/flight-data/csv\")"
   ]
  },
  {
   "cell_type": "markdown",
   "id": "e657e217-f480-4bc0-98af-0aaec91de766",
   "metadata": {},
   "source": [
    "## Acciones\n",
    "A continuación vamos a ver algunas de las acciones más frecuentes:\n",
    "### Collect\n",
    "Permite mostrar todos los elementos de un RDD\n"
   ]
  },
  {
   "cell_type": "code",
   "execution_count": 3,
   "id": "aacbacd3-af7b-4f94-85c6-f29ff2806917",
   "metadata": {},
   "outputs": [
    {
     "name": "stdout",
     "output_type": "stream",
     "text": [
      "[0, 1, 2, 3, 4, 5, 6, 7, 8, 9]\n",
      "['Big', 'Data', 'aplicado.', 'Curso', 'de', 'especialización', 'de', 'Inteligencia', 'Artificial', 'y', 'Big', 'Data']\n"
     ]
    }
   ],
   "source": [
    "print (rdd_int.collect())\n",
    "print (rdd_st.collect())\n",
    "#print (rdd_file.collect())\n",
    "#print (rdd_whole_files.collect())"
   ]
  },
  {
   "cell_type": "markdown",
   "id": "e9960c1e-521c-441f-842a-52d94bc5d83c",
   "metadata": {},
   "source": [
    "### Take\n",
    "Permite obtener un número determinado de elmentos del RDD"
   ]
  },
  {
   "cell_type": "code",
   "execution_count": 16,
   "id": "35d8e043-489e-44e9-89b8-ef317b8a8bfc",
   "metadata": {},
   "outputs": [
    {
     "name": "stdout",
     "output_type": "stream",
     "text": [
      "[0, 1, 2]\n",
      "['Big', 'Data', 'aplicado.']\n",
      "['DEST_COUNTRY_NAME,ORIGIN_COUNTRY_NAME,count', 'United States,Romania,15']\n"
     ]
    }
   ],
   "source": [
    "print (rdd_int.take(3))\n",
    "print (rdd_st.take(3))\n",
    "print (rdd_file.take(2))\n",
    "#print (rdd_whole_files.take(2))"
   ]
  },
  {
   "cell_type": "markdown",
   "id": "bc451b6e-bbc1-4711-9605-31e208259445",
   "metadata": {},
   "source": [
    "### Count\n",
    "Devuelve el número de elementos de un RDD"
   ]
  },
  {
   "cell_type": "code",
   "execution_count": 13,
   "id": "9b91a6ea-3c23-4d6d-b56c-de2df2b85ac7",
   "metadata": {},
   "outputs": [
    {
     "name": "stdout",
     "output_type": "stream",
     "text": [
      "10\n",
      "12\n",
      "257\n",
      "6\n"
     ]
    }
   ],
   "source": [
    "print (rdd_int.count())\n",
    "print (rdd_st.count())\n",
    "print (rdd_file.count())\n",
    "print (rdd_whole_files.count())"
   ]
  },
  {
   "cell_type": "code",
   "execution_count": 9,
   "id": "b88e9f12-54a1-42dd-91a3-2cb3ce943265",
   "metadata": {},
   "outputs": [
    {
     "data": {
      "text/plain": [
       "12"
      ]
     },
     "execution_count": 9,
     "metadata": {},
     "output_type": "execute_result"
    }
   ],
   "source": [
    "rdd_st.count()"
   ]
  },
  {
   "attachments": {},
   "cell_type": "markdown",
   "id": "f05a9273-0312-4b04-934f-82ab4848a71e",
   "metadata": {},
   "source": [
    "### Reduce\n",
    "Permite, mediante una función especificada por el programador reducir el RDD a un único valor.\r\n"
   ]
  },
  {
   "cell_type": "code",
   "execution_count": 25,
   "id": "b3bc55e2-f783-4615-b609-46932e827918",
   "metadata": {},
   "outputs": [
    {
     "name": "stdout",
     "output_type": "stream",
     "text": [
      "45\n",
      "especialización\n",
      "\"Bonaire, Sint Eustatius, and Saba\",United States,58\n"
     ]
    }
   ],
   "source": [
    "# Sumamos todos los elementos\n",
    "print(rdd_int.reduce (lambda x,y: x+y))\n",
    "\n",
    "def word_length_reducer(word1,word2):\n",
    "    if (len(word1) > len (word2)):\n",
    "        return word1\n",
    "    else:\n",
    "        return word2\n",
    "\n",
    "\n",
    "print (rdd_st.reduce (word_length_reducer))\n",
    "print ( rdd_file.reduce (word_length_reducer))"
   ]
  },
  {
   "cell_type": "markdown",
   "id": "9ea4b816-f313-4982-9aaa-a618f1185218",
   "metadata": {},
   "source": [
    "### First\n",
    "Devuelve el primer elemento de un RDD"
   ]
  },
  {
   "cell_type": "code",
   "execution_count": 7,
   "id": "2c4d0126-cd65-48b2-ab40-129e703e5112",
   "metadata": {},
   "outputs": [
    {
     "data": {
      "text/plain": [
       "0"
      ]
     },
     "execution_count": 7,
     "metadata": {},
     "output_type": "execute_result"
    }
   ],
   "source": [
    "rdd_int.first()"
   ]
  },
  {
   "cell_type": "code",
   "execution_count": 8,
   "id": "cfecb66f-e1dc-47ed-ae3c-d3eaf63a5e61",
   "metadata": {},
   "outputs": [
    {
     "data": {
      "text/plain": [
       "'Big'"
      ]
     },
     "execution_count": 8,
     "metadata": {},
     "output_type": "execute_result"
    }
   ],
   "source": [
    "rdd_st.first()"
   ]
  },
  {
   "cell_type": "markdown",
   "id": "144738f8-6fad-4f25-8fbd-3ad7db58d361",
   "metadata": {},
   "source": [
    "### Max/min\n",
    "Devuelve el valor máximo/mínimo de un RDD\n",
    "\n"
   ]
  },
  {
   "cell_type": "code",
   "execution_count": 9,
   "id": "22a93988-4941-46a2-b57f-3b9f848eb1ab",
   "metadata": {},
   "outputs": [
    {
     "data": {
      "text/plain": [
       "0"
      ]
     },
     "execution_count": 9,
     "metadata": {},
     "output_type": "execute_result"
    }
   ],
   "source": [
    "rdd_int.min()"
   ]
  },
  {
   "cell_type": "code",
   "execution_count": 10,
   "id": "f7702912-26b8-4bf9-a4ab-09366318cefd",
   "metadata": {},
   "outputs": [
    {
     "data": {
      "text/plain": [
       "'y'"
      ]
     },
     "execution_count": 10,
     "metadata": {},
     "output_type": "execute_result"
    }
   ],
   "source": [
    "rdd_st.max()"
   ]
  },
  {
   "attachments": {},
   "cell_type": "markdown",
   "id": "cb4294e6-68f6-40aa-8cc3-23cbc168983e",
   "metadata": {},
   "source": [
    "## Transformaciones\n",
    "### Map\n",
    "Permite aplicar una función especificada por el programador a cada uno de los elementos del RDD devolviendo un RDD del mismo tamaño que el original"
   ]
  },
  {
   "cell_type": "code",
   "execution_count": 12,
   "id": "0ac0437a-0872-4d73-9e5b-5e75805e8639",
   "metadata": {},
   "outputs": [
    {
     "data": {
      "text/plain": [
       "[0, 2, 4, 6, 8, 10, 12, 14, 16, 18]"
      ]
     },
     "execution_count": 12,
     "metadata": {},
     "output_type": "execute_result"
    }
   ],
   "source": [
    "rdd_int.map (lambda x: 2*x).collect()"
   ]
  },
  {
   "cell_type": "code",
   "execution_count": 15,
   "id": "b5b0ddd9-d9b1-4840-b350-0b9b768bda3f",
   "metadata": {},
   "outputs": [
    {
     "data": {
      "text/plain": [
       "['BIG',\n",
       " 'DATA',\n",
       " 'APLICADO.',\n",
       " 'CURSO',\n",
       " 'DE',\n",
       " 'ESPECIALIZACIÓN',\n",
       " 'DE',\n",
       " 'INTELIGENCIA',\n",
       " 'ARTIFICIAL',\n",
       " 'Y',\n",
       " 'BIG',\n",
       " 'DATA']"
      ]
     },
     "execution_count": 15,
     "metadata": {},
     "output_type": "execute_result"
    }
   ],
   "source": [
    "rdd_st.map (lambda x: x.upper()).collect()"
   ]
  },
  {
   "cell_type": "markdown",
   "id": "86060939-674b-4bf1-807d-6e72c7ea8e29",
   "metadata": {},
   "source": [
    "### Distinct\n",
    "Elimina los duplicados"
   ]
  },
  {
   "cell_type": "code",
   "execution_count": 16,
   "id": "3125e293-1fbc-41fe-a6f8-693f807286cf",
   "metadata": {},
   "outputs": [
    {
     "data": {
      "text/plain": [
       "['Curso',\n",
       " 'aplicado.',\n",
       " 'especialización',\n",
       " 'Big',\n",
       " 'de',\n",
       " 'y',\n",
       " 'Inteligencia',\n",
       " 'Artificial',\n",
       " 'Data']"
      ]
     },
     "execution_count": 16,
     "metadata": {},
     "output_type": "execute_result"
    }
   ],
   "source": [
    "rdd_st.distinct().collect()"
   ]
  },
  {
   "attachments": {},
   "cell_type": "markdown",
   "id": "a6013f71-0876-43bd-8c95-6a35979ac584",
   "metadata": {},
   "source": [
    "### Filter\n",
    "Permite seleccionar los elementos del RDD que cumplen determinada condición\r\n"
   ]
  },
  {
   "cell_type": "code",
   "execution_count": 17,
   "id": "2a75745d-6218-48e0-91d2-519ca9f8ba20",
   "metadata": {},
   "outputs": [
    {
     "data": {
      "text/plain": [
       "[0, 2, 4, 6, 8]"
      ]
     },
     "execution_count": 17,
     "metadata": {},
     "output_type": "execute_result"
    }
   ],
   "source": [
    "rdd_int.filter(lambda x: x % 2 == 0).collect()"
   ]
  },
  {
   "cell_type": "code",
   "execution_count": 20,
   "id": "e30ea757-ba87-4dd7-9391-1b20318715a5",
   "metadata": {},
   "outputs": [
    {
     "data": {
      "text/plain": [
       "['aplicado.', 'Curso', 'especialización', 'Inteligencia', 'Artificial']"
      ]
     },
     "execution_count": 20,
     "metadata": {},
     "output_type": "execute_result"
    }
   ],
   "source": [
    "rdd_st.filter(lambda x: len(x) >= 5).collect()"
   ]
  },
  {
   "attachments": {},
   "cell_type": "markdown",
   "id": "424814d0-b3c5-4057-93ec-b59d250170d7",
   "metadata": {},
   "source": [
    "### SortBy\n",
    "Permite reordenar el RDD en función de un criterio que puede ser especificado mediante una función lambda"
   ]
  },
  {
   "cell_type": "code",
   "execution_count": 23,
   "id": "69a0a9a2-57dd-4fda-9b8f-1468d9fb569f",
   "metadata": {},
   "outputs": [
    {
     "data": {
      "text/plain": [
       "['y',\n",
       " 'de',\n",
       " 'de',\n",
       " 'Big',\n",
       " 'Big',\n",
       " 'Data',\n",
       " 'Data',\n",
       " 'Curso',\n",
       " 'aplicado.',\n",
       " 'Artificial',\n",
       " 'Inteligencia',\n",
       " 'especialización']"
      ]
     },
     "execution_count": 23,
     "metadata": {},
     "output_type": "execute_result"
    }
   ],
   "source": [
    "rdd_st.sortBy(lambda x: len(x)).collect()"
   ]
  },
  {
   "attachments": {},
   "cell_type": "markdown",
   "id": "7d666b92-f6f4-4478-b33d-8a790a2395ea",
   "metadata": {},
   "source": [
    "### Randomsplit\n",
    "Permite dividir un RDD convirtiéndolo en un array de RDD’s en función de un array de pesos especificado por el programador"
   ]
  },
  {
   "cell_type": "code",
   "execution_count": 21,
   "id": "d29d4d31-9b8f-4165-ab80-22d19278e75b",
   "metadata": {},
   "outputs": [
    {
     "name": "stdout",
     "output_type": "stream",
     "text": [
      "[0, 3, 6]\n",
      "[1, 2, 4, 5, 7, 8, 9]\n",
      "['Big', 'Data', 'aplicado.', 'Curso', 'de', 'especialización', 'y']\n",
      "['de', 'Inteligencia', 'Artificial', 'Big', 'Data']\n"
     ]
    }
   ],
   "source": [
    "for rdd in rdd_int.randomSplit([0.4, 0.6]):\n",
    "    print(rdd.collect())\n",
    "\n",
    "for rdd in rdd_st.randomSplit([0.5,0.5]):\n",
    "    print(rdd.collect())\n"
   ]
  },
  {
   "cell_type": "markdown",
   "id": "b0f53640-c65a-47e5-a6cf-5e379426857f",
   "metadata": {},
   "source": [
    "### FlatMap\n",
    "Permite realizar operaciones map que no sean 1:1. Por ejemplo, al leer un archivo de texto, por defecto, se almacena cada lína como un elemento del RDD. Con flatMap podemos transformar el RDD para que cada elemento sea una palabra. En este caso, separamos por ','\n"
   ]
  },
  {
   "cell_type": "code",
   "execution_count": 4,
   "id": "5b67db13-2bbe-45d7-995c-d4a13a2634ed",
   "metadata": {},
   "outputs": [
    {
     "ename": "NameError",
     "evalue": "name 'rdd_file' is not defined",
     "output_type": "error",
     "traceback": [
      "\u001b[0;31m---------------------------------------------------------------------------\u001b[0m",
      "\u001b[0;31mNameError\u001b[0m                                 Traceback (most recent call last)",
      "Cell \u001b[0;32mIn[4], line 1\u001b[0m\n\u001b[0;32m----> 1\u001b[0m \u001b[43mrdd_file\u001b[49m\u001b[38;5;241m.\u001b[39mflatMap(\u001b[38;5;28;01mlambda\u001b[39;00m x: x\u001b[38;5;241m.\u001b[39msplit(\u001b[38;5;124m'\u001b[39m\u001b[38;5;124m,\u001b[39m\u001b[38;5;124m'\u001b[39m))\u001b[38;5;241m.\u001b[39mcollect()\n",
      "\u001b[0;31mNameError\u001b[0m: name 'rdd_file' is not defined"
     ]
    }
   ],
   "source": [
    "rdd_file.flatMap(lambda x: x.split(',')).collect()"
   ]
  },
  {
   "cell_type": "code",
   "execution_count": null,
   "id": "15d123e3-32dc-4b8d-a2b4-932264f91c81",
   "metadata": {},
   "outputs": [],
   "source": []
  }
 ],
 "metadata": {
  "kernelspec": {
   "display_name": "Python 3 (ipykernel)",
   "language": "python",
   "name": "python3"
  },
  "language_info": {
   "codemirror_mode": {
    "name": "ipython",
    "version": 3
   },
   "file_extension": ".py",
   "mimetype": "text/x-python",
   "name": "python",
   "nbconvert_exporter": "python",
   "pygments_lexer": "ipython3",
   "version": "3.11.2"
  }
 },
 "nbformat": 4,
 "nbformat_minor": 5
}
