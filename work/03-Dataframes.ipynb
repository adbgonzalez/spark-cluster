{
 "cells": [
  {
   "cell_type": "markdown",
   "id": "b4079f44-0788-4243-af2c-fc7ea9dea98c",
   "metadata": {},
   "source": [
    "# Dataframes"
   ]
  },
  {
   "cell_type": "code",
   "execution_count": 1,
   "id": "31d3d662-7f60-4462-a752-4f86428df707",
   "metadata": {},
   "outputs": [],
   "source": [
    "from pyspark.sql import SparkSession\n",
    "spark = SparkSession.builder.getOrCreate()\n",
    "sc = spark.sparkContext"
   ]
  },
  {
   "cell_type": "markdown",
   "id": "7d7bc0cb-2041-4de4-9b39-3b8327ffbe4a",
   "metadata": {},
   "source": [
    "## Creación de Dataframes\n",
    "Se pueden crear Dataframes a partir de diversas fuentes:\n",
    "### A partir de un RDD\n",
    "toDF()"
   ]
  },
  {
   "cell_type": "code",
   "execution_count": 2,
   "id": "f4ae0545-2f1e-41cf-a251-2cfdb860c733",
   "metadata": {},
   "outputs": [
    {
     "name": "stdout",
     "output_type": "stream",
     "text": [
      "+------+\n",
      "|number|\n",
      "+------+\n",
      "|     0|\n",
      "|     1|\n",
      "|     2|\n",
      "|     3|\n",
      "|     4|\n",
      "|     5|\n",
      "|     6|\n",
      "|     7|\n",
      "|     8|\n",
      "|     9|\n",
      "|    10|\n",
      "|    11|\n",
      "|    12|\n",
      "|    13|\n",
      "|    14|\n",
      "|    15|\n",
      "|    16|\n",
      "|    17|\n",
      "|    18|\n",
      "|    19|\n",
      "+------+\n",
      "only showing top 20 rows\n",
      "\n"
     ]
    }
   ],
   "source": [
    "df =spark.range(50).toDF(\"number\")\n",
    "df.show()"
   ]
  },
  {
   "cell_type": "markdown",
   "id": "da85ee2a-b7d4-4f04-8996-e8993a3a6577",
   "metadata": {},
   "source": [
    "### A partir de un archivo\n",
    "- json"
   ]
  },
  {
   "cell_type": "code",
   "execution_count": 3,
   "id": "8350a3a2-298b-4232-9db0-d573131142db",
   "metadata": {},
   "outputs": [
    {
     "name": "stdout",
     "output_type": "stream",
     "text": [
      "+--------------------+-------------------+-----+\n",
      "|   DEST_COUNTRY_NAME|ORIGIN_COUNTRY_NAME|count|\n",
      "+--------------------+-------------------+-----+\n",
      "|       United States|            Romania|    1|\n",
      "|       United States|            Ireland|  264|\n",
      "|       United States|              India|   69|\n",
      "|               Egypt|      United States|   24|\n",
      "|   Equatorial Guinea|      United States|    1|\n",
      "|       United States|          Singapore|   25|\n",
      "|       United States|            Grenada|   54|\n",
      "|          Costa Rica|      United States|  477|\n",
      "|             Senegal|      United States|   29|\n",
      "|       United States|   Marshall Islands|   44|\n",
      "|              Guyana|      United States|   17|\n",
      "|       United States|       Sint Maarten|   53|\n",
      "|               Malta|      United States|    1|\n",
      "|             Bolivia|      United States|   46|\n",
      "|            Anguilla|      United States|   21|\n",
      "|Turks and Caicos ...|      United States|  136|\n",
      "|       United States|        Afghanistan|    2|\n",
      "|Saint Vincent and...|      United States|    1|\n",
      "|               Italy|      United States|  390|\n",
      "|       United States|             Russia|  156|\n",
      "+--------------------+-------------------+-----+\n",
      "only showing top 20 rows\n",
      "\n",
      "root\n",
      " |-- DEST_COUNTRY_NAME: string (nullable = true)\n",
      " |-- ORIGIN_COUNTRY_NAME: string (nullable = true)\n",
      " |-- count: long (nullable = true)\n",
      "\n"
     ]
    }
   ],
   "source": [
    "df2 = spark.read.json(\"data/flight-data/json/2010-summary.json\")\n",
    "df2.show()\n",
    "df2.printSchema()"
   ]
  },
  {
   "cell_type": "markdown",
   "id": "ece556d5-e35e-4025-b59c-66e14a57d825",
   "metadata": {},
   "source": [
    "- csv:"
   ]
  },
  {
   "cell_type": "code",
   "execution_count": 4,
   "id": "bf968800-72bd-46d1-b85e-4cec13b7594d",
   "metadata": {},
   "outputs": [
    {
     "name": "stdout",
     "output_type": "stream",
     "text": [
      "+-----------------+-------------------+-----+\n",
      "|DEST_COUNTRY_NAME|ORIGIN_COUNTRY_NAME|count|\n",
      "+-----------------+-------------------+-----+\n",
      "|    United States|            Romania|   15|\n",
      "|    United States|            Croatia|    1|\n",
      "|    United States|            Ireland|  344|\n",
      "|            Egypt|      United States|   15|\n",
      "|    United States|              India|   62|\n",
      "|    United States|          Singapore|    1|\n",
      "|    United States|            Grenada|   62|\n",
      "|       Costa Rica|      United States|  588|\n",
      "|          Senegal|      United States|   40|\n",
      "|          Moldova|      United States|    1|\n",
      "+-----------------+-------------------+-----+\n",
      "only showing top 10 rows\n",
      "\n"
     ]
    }
   ],
   "source": [
    "df_csv = spark.read.option(\"header\", True).csv('data/flight-data/csv/2015-summary.csv')\n",
    "df_csv.show(10)"
   ]
  },
  {
   "cell_type": "markdown",
   "id": "a304fc21-2ae7-4491-a6b5-9e4dc2cce4a8",
   "metadata": {},
   "source": [
    "- parquet"
   ]
  },
  {
   "cell_type": "code",
   "execution_count": 5,
   "id": "859c6885-2349-4f67-8326-759b239c9f0b",
   "metadata": {},
   "outputs": [
    {
     "name": "stdout",
     "output_type": "stream",
     "text": [
      "+-----------------+-------------------+-----+\n",
      "|DEST_COUNTRY_NAME|ORIGIN_COUNTRY_NAME|count|\n",
      "+-----------------+-------------------+-----+\n",
      "|    United States|            Romania|    1|\n",
      "|    United States|            Ireland|  264|\n",
      "|    United States|              India|   69|\n",
      "|            Egypt|      United States|   24|\n",
      "|Equatorial Guinea|      United States|    1|\n",
      "|    United States|          Singapore|   25|\n",
      "|    United States|            Grenada|   54|\n",
      "|       Costa Rica|      United States|  477|\n",
      "|          Senegal|      United States|   29|\n",
      "|    United States|   Marshall Islands|   44|\n",
      "+-----------------+-------------------+-----+\n",
      "only showing top 10 rows\n",
      "\n"
     ]
    }
   ],
   "source": [
    "df_parquet = spark.read.parquet(\"data/flight-data/parquet/2010-summary.parquet\")\n",
    "df_parquet.show(10)"
   ]
  },
  {
   "cell_type": "markdown",
   "id": "a9e7c0a1-0546-48c0-8c15-87f165df2256",
   "metadata": {},
   "source": [
    "## Persistencia de datos\n",
    "No funciona en Jupyter por problemas de permisos"
   ]
  },
  {
   "cell_type": "code",
   "execution_count": 6,
   "id": "032cd9ae-3735-40c0-b30a-58ef6f954fc2",
   "metadata": {
    "scrolled": true
   },
   "outputs": [],
   "source": [
    "\n",
    "# df_csv.write.csv(\"salida/datos.csv\", header= True, mode=\"overwrite\")\n",
    "# df_csv.write.json(\"salida/datos.json\", mode=\"overwrite\""
   ]
  },
  {
   "cell_type": "markdown",
   "id": "08b655c0-4f20-4e4f-8791-fe38521e5c34",
   "metadata": {},
   "source": [
    "## Transformacioness\n",
    "A continuación vamos a ver algunas de las principales transformaciones permitidas para Dataframes\n",
    "### select\n",
    "Permiten hacer una operación equivalente al select de las BBDDR. Dos variantes:\n",
    "- **select**\n"
   ]
  },
  {
   "cell_type": "code",
   "execution_count": 7,
   "id": "78a9ef5d-9a02-4034-b843-8a9d07ca8f6a",
   "metadata": {},
   "outputs": [
    {
     "name": "stdout",
     "output_type": "stream",
     "text": [
      "+-----------------+\n",
      "|DEST_COUNTRY_NAME|\n",
      "+-----------------+\n",
      "|    United States|\n",
      "|    United States|\n",
      "|    United States|\n",
      "|            Egypt|\n",
      "|    United States|\n",
      "+-----------------+\n",
      "only showing top 5 rows\n",
      "\n"
     ]
    }
   ],
   "source": [
    "df_csv.select(\"DEST_COUNTRY_NAME\").show(5)"
   ]
  },
  {
   "cell_type": "code",
   "execution_count": null,
   "id": "71760cef-3526-40a5-ad7a-3d2d222c2e10",
   "metadata": {},
   "outputs": [],
   "source": []
  },
  {
   "cell_type": "markdown",
   "id": "45a3ae7f-f10c-47bc-84b6-d177daa761db",
   "metadata": {},
   "source": [
    "Podemos usar lal función **expr** para diversas acciones, por ejemplo, usar alias"
   ]
  },
  {
   "cell_type": "code",
   "execution_count": 8,
   "id": "250ce9cf-9c23-479d-9557-b4d3f20b1ff5",
   "metadata": {},
   "outputs": [
    {
     "name": "stdout",
     "output_type": "stream",
     "text": [
      "+-------------+\n",
      "|  destination|\n",
      "+-------------+\n",
      "|United States|\n",
      "|United States|\n",
      "|United States|\n",
      "|        Egypt|\n",
      "|United States|\n",
      "+-------------+\n",
      "only showing top 5 rows\n",
      "\n"
     ]
    }
   ],
   "source": [
    "from pyspark.sql.functions import expr, col, column\n",
    "df_csv.select(expr(\"DEST_COUNTRY_NAME AS destination\")).show(5)"
   ]
  },
  {
   "cell_type": "markdown",
   "id": "830d4452-2ecd-4dc4-8e56-9234212863a1",
   "metadata": {},
   "source": [
    "- **selectExpr**:\n",
    "Permite añadir expresiones de una forma más sencilla. Podemos hacer operaciones sencillas como usar alias (1) u operaciones más complejas como añadir columnas (2) "
   ]
  },
  {
   "cell_type": "code",
   "execution_count": 9,
   "id": "18ee9db7-da3f-4722-92ff-6514fb365536",
   "metadata": {},
   "outputs": [
    {
     "name": "stdout",
     "output_type": "stream",
     "text": [
      "+-------------+-------------+\n",
      "|      Destino|       Origen|\n",
      "+-------------+-------------+\n",
      "|United States|      Romania|\n",
      "|United States|      Croatia|\n",
      "|United States|      Ireland|\n",
      "|        Egypt|United States|\n",
      "|United States|        India|\n",
      "+-------------+-------------+\n",
      "only showing top 5 rows\n",
      "\n",
      "+-----------------+-------------------+-----+-------------+\n",
      "|DEST_COUNTRY_NAME|ORIGIN_COUNTRY_NAME|count|withinCountry|\n",
      "+-----------------+-------------------+-----+-------------+\n",
      "|    United States|            Romania|   15|        false|\n",
      "|    United States|            Croatia|    1|        false|\n",
      "|    United States|            Ireland|  344|        false|\n",
      "|            Egypt|      United States|   15|        false|\n",
      "|    United States|              India|   62|        false|\n",
      "+-----------------+-------------------+-----+-------------+\n",
      "only showing top 5 rows\n",
      "\n"
     ]
    }
   ],
   "source": [
    "# 1:\n",
    "df_csv.selectExpr(\"DEST_COUNTRY_NAME AS Destino\", \"ORIGIN_COUNTRY_NAME AS Origen\").show(5)\n",
    "# 2:\n",
    "df_csv.selectExpr(\"*\", \"(DEST_COUNTRY_NAME = ORIGIN_COUNTRY_NAME) AS withinCountry\").show(5)"
   ]
  },
  {
   "cell_type": "markdown",
   "id": "1948f67f-a1a6-4d80-b70c-2633b68dc1fd",
   "metadata": {},
   "source": [
    "### Añadir columnas\n",
    "Sin embargo, para añadir columnas puede ser más sencillo el método **withColumn**"
   ]
  },
  {
   "cell_type": "code",
   "execution_count": 10,
   "id": "29168119-5372-4d9c-a418-8e35d99124b9",
   "metadata": {},
   "outputs": [
    {
     "name": "stdout",
     "output_type": "stream",
     "text": [
      "+-----------------+-------------------+-----+-------------+\n",
      "|DEST_COUNTRY_NAME|ORIGIN_COUNTRY_NAME|count|withinCountry|\n",
      "+-----------------+-------------------+-----+-------------+\n",
      "|    United States|            Romania|   15|        false|\n",
      "|    United States|            Croatia|    1|        false|\n",
      "|    United States|            Ireland|  344|        false|\n",
      "|            Egypt|      United States|   15|        false|\n",
      "|    United States|              India|   62|        false|\n",
      "+-----------------+-------------------+-----+-------------+\n",
      "only showing top 5 rows\n",
      "\n"
     ]
    }
   ],
   "source": [
    "df_csv.withColumn(\"withinCountry\", expr(\"ORIGIN_COUNTRY_NAME = DEST_COUNTRY_NAME\")).show(5)"
   ]
  },
  {
   "cell_type": "markdown",
   "id": "84ba7673-7530-48b4-821f-b250d7b13b11",
   "metadata": {},
   "source": [
    "### Renombrar columnas\n",
    "De la misma forma, **withColumnRenamed** permite usar alias de forma más directa"
   ]
  },
  {
   "cell_type": "code",
   "execution_count": 11,
   "id": "742cbf5f-a238-490b-a292-f86f31197430",
   "metadata": {},
   "outputs": [
    {
     "name": "stdout",
     "output_type": "stream",
     "text": [
      "+-------------+-------------------+-----+\n",
      "|         dest|ORIGIN_COUNTRY_NAME|count|\n",
      "+-------------+-------------------+-----+\n",
      "|United States|            Romania|   15|\n",
      "|United States|            Croatia|    1|\n",
      "|United States|            Ireland|  344|\n",
      "|        Egypt|      United States|   15|\n",
      "|United States|              India|   62|\n",
      "+-------------+-------------------+-----+\n",
      "only showing top 5 rows\n",
      "\n"
     ]
    }
   ],
   "source": [
    "df_csv.withColumnRenamed(\"DEST_COUNTRY_NAME\",\"dest\").show(5)"
   ]
  },
  {
   "cell_type": "markdown",
   "id": "c2ea7fb4-8bee-438b-810e-be151228151d",
   "metadata": {},
   "source": [
    "### Eliminar columnas\n",
    "La función **drop** permite eliminar una columna"
   ]
  },
  {
   "cell_type": "code",
   "execution_count": 12,
   "id": "103259d3-b335-4a24-890d-1363d0fee56a",
   "metadata": {},
   "outputs": [
    {
     "name": "stdout",
     "output_type": "stream",
     "text": [
      "+-----------------+-----+\n",
      "|DEST_COUNTRY_NAME|count|\n",
      "+-----------------+-----+\n",
      "|    United States|   15|\n",
      "|    United States|    1|\n",
      "|    United States|  344|\n",
      "|            Egypt|   15|\n",
      "|    United States|   62|\n",
      "+-----------------+-----+\n",
      "only showing top 5 rows\n",
      "\n"
     ]
    }
   ],
   "source": [
    "df_csv.drop(\"ORIGIN_COUNTRY_NAME\").show(5)"
   ]
  },
  {
   "cell_type": "markdown",
   "id": "1f137720-8b7e-4431-b41a-db67c7981ba9",
   "metadata": {},
   "source": [
    "### Filtrar columnas\n",
    "Las funciones **where/filter** permiten filtrar el DF por un criterio, de forma similar a la cláusula Where de SQL"
   ]
  },
  {
   "cell_type": "code",
   "execution_count": 13,
   "id": "cd7bd2fc-3bb8-467e-8144-1852a9b51690",
   "metadata": {},
   "outputs": [
    {
     "name": "stdout",
     "output_type": "stream",
     "text": [
      "+-----------------+-------------------+-----+\n",
      "|DEST_COUNTRY_NAME|ORIGIN_COUNTRY_NAME|count|\n",
      "+-----------------+-------------------+-----+\n",
      "|    United States|            Croatia|    1|\n",
      "|    United States|          Singapore|    1|\n",
      "|    United States|          Gibraltar|    1|\n",
      "|    United States|             Cyprus|    1|\n",
      "|    United States|           Malaysia|    3|\n",
      "+-----------------+-------------------+-----+\n",
      "only showing top 5 rows\n",
      "\n"
     ]
    }
   ],
   "source": [
    "df_csv.filter(\"DEST_COUNTRY_NAME = 'United States' AND count < 5\").show(5)"
   ]
  },
  {
   "cell_type": "markdown",
   "id": "573a03f7-be1d-4f5d-9d30-c26f58b748b2",
   "metadata": {},
   "source": [
    "### Obtener filas únicas\n",
    "La función **distinct** permite elminar duplicados"
   ]
  },
  {
   "cell_type": "code",
   "execution_count": 14,
   "id": "7ba2c1a4-2bd9-4c65-af75-eeef9403a4da",
   "metadata": {},
   "outputs": [
    {
     "name": "stdout",
     "output_type": "stream",
     "text": [
      "+-------------------+-----------------+\n",
      "|ORIGIN_COUNTRY_NAME|DEST_COUNTRY_NAME|\n",
      "+-------------------+-----------------+\n",
      "|            Romania|    United States|\n",
      "|            Croatia|    United States|\n",
      "|            Ireland|    United States|\n",
      "|      United States|            Egypt|\n",
      "|              India|    United States|\n",
      "+-------------------+-----------------+\n",
      "only showing top 5 rows\n",
      "\n"
     ]
    }
   ],
   "source": [
    "df_csv.select(\"ORIGIN_COUNTRY_NAME\",\"DEST_COUNTRY_NAME\").distinct().show(5)"
   ]
  },
  {
   "cell_type": "markdown",
   "id": "dcf287a1-28fe-4966-871a-20b617260db5",
   "metadata": {},
   "source": [
    "### Ordenando filas\n",
    "Con **sort** podemos ordenar el DF en función de la columna especificada. Las funciones **asc** y **desc** nos permiten especificar el sentido de la ordenación (por defecto ascendente)\n"
   ]
  },
  {
   "cell_type": "code",
   "execution_count": 15,
   "id": "70ad527a-25f7-4712-b510-c56e7f6e9c93",
   "metadata": {},
   "outputs": [
    {
     "name": "stdout",
     "output_type": "stream",
     "text": [
      "+--------------------+-------------------+-----+\n",
      "|   DEST_COUNTRY_NAME|ORIGIN_COUNTRY_NAME|count|\n",
      "+--------------------+-------------------+-----+\n",
      "|       United States|          Gibraltar|    1|\n",
      "|       United States|             Cyprus|    1|\n",
      "|Saint Vincent and...|      United States|    1|\n",
      "|       United States|          Singapore|    1|\n",
      "|             Moldova|      United States|    1|\n",
      "+--------------------+-------------------+-----+\n",
      "only showing top 5 rows\n",
      "\n"
     ]
    }
   ],
   "source": [
    "df_csv.sort(\"count\").show(5)"
   ]
  },
  {
   "cell_type": "code",
   "execution_count": 16,
   "id": "ad2b6b23-5ba4-4ddd-8c6d-832782108fb2",
   "metadata": {},
   "outputs": [
    {
     "name": "stdout",
     "output_type": "stream",
     "text": [
      "+-----------------+-------------------+-----+\n",
      "|DEST_COUNTRY_NAME|ORIGIN_COUNTRY_NAME|count|\n",
      "+-----------------+-------------------+-----+\n",
      "|    United States|        The Bahamas|  986|\n",
      "|      The Bahamas|      United States|  955|\n",
      "|    United States|             France|  952|\n",
      "|           France|      United States|  935|\n",
      "|    United States|              China|  920|\n",
      "+-----------------+-------------------+-----+\n",
      "only showing top 5 rows\n",
      "\n"
     ]
    }
   ],
   "source": [
    "from pyspark.sql.functions import desc, asc\n",
    "df_csv.sort(col('count').desc(), col('ORIGIN_COUNTRY_NAME').asc()).show(5)"
   ]
  },
  {
   "cell_type": "markdown",
   "id": "7dc9f893-84ba-4039-97ce-2f00c98308e2",
   "metadata": {},
   "source": [
    "### Agregaciones\n",
    "Spark permite el uso de diversas funciones de agregación con *Dataframes*. A continuación, algunas de las más importantes:"
   ]
  },
  {
   "cell_type": "markdown",
   "id": "c39e178d-3c39-4d88-b9c6-f506108c2185",
   "metadata": {},
   "source": [
    "#### count: podemos usarla de tres formas:\n",
    "- Especificanco una columna\n",
    "- Especificando todas las columnas (*)\n",
    "- Contar todas las filas como un literal (1)"
   ]
  },
  {
   "cell_type": "code",
   "execution_count": 17,
   "id": "2a363aa0-b2ef-42eb-8dc7-acdfbb8a2c0b",
   "metadata": {},
   "outputs": [
    {
     "name": "stdout",
     "output_type": "stream",
     "text": [
      "+--------------------------+\n",
      "|count(ORIGIN_COUNTRY_NAME)|\n",
      "+--------------------------+\n",
      "|                       256|\n",
      "+--------------------------+\n",
      "\n",
      "+--------+\n",
      "|count(1)|\n",
      "+--------+\n",
      "|     256|\n",
      "+--------+\n",
      "\n"
     ]
    }
   ],
   "source": [
    "from pyspark.sql.functions import count\n",
    "df_csv.select(count(\"ORIGIN_COUNTRY_NAME\")).show(5)\n",
    "\n",
    "df_csv.select(count(\"*\")).show()\n",
    "\n",
    "#df_csv.select(count(1)).show()"
   ]
  },
  {
   "cell_type": "markdown",
   "id": "8a7753ca-1755-4ce9-b559-5fc29671cbf0",
   "metadata": {},
   "source": [
    "#### countDistinct: \n",
    "Cuenta el número de ocurrencias distintas de una columna"
   ]
  },
  {
   "cell_type": "code",
   "execution_count": 18,
   "id": "13f4998b-74e9-495a-8565-e10f89a6cad6",
   "metadata": {},
   "outputs": [
    {
     "name": "stdout",
     "output_type": "stream",
     "text": [
      "+---------------------------------+\n",
      "|count(DISTINCT DEST_COUNTRY_NAME)|\n",
      "+---------------------------------+\n",
      "|                              132|\n",
      "+---------------------------------+\n",
      "\n"
     ]
    }
   ],
   "source": [
    "from pyspark.sql.functions import countDistinct\n",
    "df_csv.select(countDistinct(\"DEST_COUNTRY_NAME\")).show()"
   ]
  },
  {
   "cell_type": "markdown",
   "id": "28c05c09-ceb4-458a-b1d3-7675a5dd10f7",
   "metadata": {},
   "source": [
    "#### approx_count_distinct\n",
    "Al trabajar con grandes conjuntos de datos puede interesar una aproximación"
   ]
  },
  {
   "cell_type": "code",
   "execution_count": 19,
   "id": "6ec96f67-3c14-436e-9cc2-0b300c6e1fb7",
   "metadata": {},
   "outputs": [
    {
     "name": "stdout",
     "output_type": "stream",
     "text": [
      "+----------------------------------------+\n",
      "|approx_count_distinct(DEST_COUNTRY_NAME)|\n",
      "+----------------------------------------+\n",
      "|                                     108|\n",
      "+----------------------------------------+\n",
      "\n"
     ]
    }
   ],
   "source": [
    "from pyspark.sql.functions import approx_count_distinct\n",
    "df_csv.select(approx_count_distinct(\"DEST_COUNTRY_NAME\",0.1)).show()"
   ]
  },
  {
   "cell_type": "markdown",
   "id": "85951668-7fe7-4fe2-b43b-0749aae9dd63",
   "metadata": {},
   "source": [
    "#### first y last\n",
    "Permiten obtener el *primero* o el *último* elemento de una columna"
   ]
  },
  {
   "cell_type": "code",
   "execution_count": 20,
   "id": "f21ac3d1-3568-4c50-b5de-ed8739810bc7",
   "metadata": {},
   "outputs": [
    {
     "name": "stdout",
     "output_type": "stream",
     "text": [
      "+------------------------+-----------------------+\n",
      "|first(DEST_COUNTRY_NAME)|last(DEST_COUNTRY_NAME)|\n",
      "+------------------------+-----------------------+\n",
      "|                 Algeria|                 Zambia|\n",
      "+------------------------+-----------------------+\n",
      "\n"
     ]
    }
   ],
   "source": [
    "from pyspark.sql.functions import first,last\n",
    "df_csv.orderBy(\"DEST_COUNTRY_NAME\").select(first(\"DEST_COUNTRY_NAME\"), last(\"DEST_COUNTRY_NAME\")).show()"
   ]
  },
  {
   "cell_type": "markdown",
   "id": "8269b012-23a9-445b-afda-743886804dfe",
   "metadata": {},
   "source": [
    "#### min/max\n",
    "Permiten obtener el valor *máximo* o *mínimo* de una columna."
   ]
  },
  {
   "cell_type": "code",
   "execution_count": 21,
   "id": "2edb3565-19a1-47b4-a2c6-66aee0ba3a09",
   "metadata": {},
   "outputs": [
    {
     "name": "stdout",
     "output_type": "stream",
     "text": [
      "+----------+----------+\n",
      "|max(count)|min(count)|\n",
      "+----------+----------+\n",
      "|       986|         1|\n",
      "+----------+----------+\n",
      "\n"
     ]
    }
   ],
   "source": [
    "from pyspark.sql.functions import max,min\n",
    "df_csv.select(max(\"count\"),min(\"count\")).show()"
   ]
  },
  {
   "cell_type": "markdown",
   "id": "cfd387bd-4911-477f-9394-4f0647ac8be0",
   "metadata": {},
   "source": [
    "#### sum, sumDistinct\n",
    "Mientras que **sum** realiza la suma de todos los elementos de una columna **sum_distinct** hace lo mismo pero eliminando antes los repetidos."
   ]
  },
  {
   "cell_type": "code",
   "execution_count": 22,
   "id": "55209eef-0dd1-476c-b1f2-108eab5b2fc0",
   "metadata": {},
   "outputs": [
    {
     "name": "stdout",
     "output_type": "stream",
     "text": [
      "+----------+\n",
      "|sum(count)|\n",
      "+----------+\n",
      "|  453316.0|\n",
      "+----------+\n",
      "\n",
      "+-------------------+\n",
      "|sum(DISTINCT count)|\n",
      "+-------------------+\n",
      "|           450718.0|\n",
      "+-------------------+\n",
      "\n"
     ]
    }
   ],
   "source": [
    "from pyspark.sql.functions import sum, sum_distinct\n",
    "df_csv.select(sum(\"count\")).show()\n",
    "df_csv.select(sum_distinct(\"count\")).show()"
   ]
  },
  {
   "cell_type": "markdown",
   "id": "57bb756f-4b86-4b38-8622-8ee61f58cc99",
   "metadata": {},
   "source": [
    "#### avg\n",
    "Realiza la *media aritmética* de los valores de una columna"
   ]
  },
  {
   "cell_type": "code",
   "execution_count": 23,
   "id": "b1573811-11c9-430f-beda-1bdb17024f4f",
   "metadata": {},
   "outputs": [
    {
     "name": "stdout",
     "output_type": "stream",
     "text": [
      "+-----------+\n",
      "| avg(count)|\n",
      "+-----------+\n",
      "|1770.765625|\n",
      "+-----------+\n",
      "\n"
     ]
    }
   ],
   "source": [
    "from pyspark.sql.functions import avg\n",
    "\n",
    "df_csv.select(avg(\"count\")).show()"
   ]
  },
  {
   "cell_type": "markdown",
   "id": "cf2ea6b2-b34d-419f-ba54-55adf43a5b23",
   "metadata": {},
   "source": [
    "#### Otros parámetros estadísticos\n",
    "- varianza y desviación estándar\n"
   ]
  },
  {
   "cell_type": "code",
   "execution_count": 24,
   "id": "bc1fa0b6-3202-46a3-901d-a71e93aadedc",
   "metadata": {},
   "outputs": [
    {
     "name": "stdout",
     "output_type": "stream",
     "text": [
      "+--------------------+-----------------+\n",
      "|      var_pop(count)|stddev_pop(count)|\n",
      "+--------------------+-----------------+\n",
      "|5.3274658249975514E8|23081.30374350104|\n",
      "+--------------------+-----------------+\n",
      "\n",
      "+-------------------+------------------+\n",
      "|    var_samp(count)|stddev_samp(count)|\n",
      "+-------------------+------------------+\n",
      "|5.348357847840679E8|23126.516918551915|\n",
      "+-------------------+------------------+\n",
      "\n"
     ]
    }
   ],
   "source": [
    "from pyspark.sql.functions import var_pop, stddev_pop, var_samp, stddev_samp\n",
    "# Calculando varianza y desviación estándar sobre el total de la población\n",
    "df_csv.select(var_pop(\"count\"), stddev_pop(\"count\")).show()\n",
    "\n",
    "# Calculando varianza y desviación estándar sobre un muestreo de la población\n",
    "df_csv.select(var_samp(\"count\"), stddev_samp(\"count\")).show()"
   ]
  },
  {
   "cell_type": "markdown",
   "id": "235a920e-9779-465a-81d5-237995645302",
   "metadata": {},
   "source": [
    "- oblicuidad y curtosis\n",
    "- covarianza y correlación "
   ]
  },
  {
   "cell_type": "code",
   "execution_count": 25,
   "id": "7bb3281f-faf2-4eae-8399-93356df00984",
   "metadata": {},
   "outputs": [
    {
     "ename": "SyntaxError",
     "evalue": "incomplete input (3670619121.py, line 6)",
     "output_type": "error",
     "traceback": [
      "\u001b[0;36m  Cell \u001b[0;32mIn[25], line 6\u001b[0;36m\u001b[0m\n\u001b[0;31m    df_csv.select(\u001b[0m\n\u001b[0m                   ^\u001b[0m\n\u001b[0;31mSyntaxError\u001b[0m\u001b[0;31m:\u001b[0m incomplete input\n"
     ]
    }
   ],
   "source": [
    "from pyspark.sql.functions import skewness, kurtosis\n",
    "df_csv.select(skewness(\"count\"), kurtosis(\"count\")).show()\n",
    "\n",
    "from pyspark.sql.funcions import corr, covar_pop, covar_samp\n",
    "\n",
    "df_csv.select( "
   ]
  },
  {
   "cell_type": "markdown",
   "id": "0cca2f4e-ff70-4722-b8eb-974a860b220b",
   "metadata": {},
   "source": [
    "#### GroupBy"
   ]
  },
  {
   "cell_type": "code",
   "execution_count": null,
   "id": "e2ded3e6-f7b4-4ca0-bb31-3aa7feaa0bff",
   "metadata": {},
   "outputs": [],
   "source": [
    "df_csv.groupBy(\"ORIGIN_COUNTRY_NAME\").count().orderBy(\"count\",ascending=False).show()"
   ]
  },
  {
   "cell_type": "markdown",
   "id": "c0885736-10ba-44dd-ab8c-8aa028e00b6e",
   "metadata": {},
   "source": [
    "### Joins\n",
    "Antes de nada vamos a crear unos dataframes de ejemplo para trabajar con joins"
   ]
  },
  {
   "cell_type": "code",
   "execution_count": 32,
   "id": "47c8e3f3-dd03-4720-ad38-a3e290fc3eb9",
   "metadata": {},
   "outputs": [
    {
     "name": "stdout",
     "output_type": "stream",
     "text": [
      "+---+----------------+--------+---------------+\n",
      "| id|            name|graduate|          marks|\n",
      "+---+----------------+--------+---------------+\n",
      "|  0|   Bill Chambers|       0|          [100]|\n",
      "|  1|   Matel Zaharla|       1|[500, 250, 100]|\n",
      "|  2|Michael Armbrust|       1|     [250, 100]|\n",
      "+---+----------------+--------+---------------+\n",
      "\n",
      "+---+-------+--------------------+-----------+\n",
      "| id| degree|          department|      scool|\n",
      "+---+-------+--------------------+-----------+\n",
      "|  0|Masters|School of Informa...|UC Berkeley|\n",
      "|  2|Masters|                EECS|UC Berkeley|\n",
      "|  1| Ph. D.|                EECS|UC Berkeley|\n",
      "+---+-------+--------------------+-----------+\n",
      "\n",
      "+---+--------------+\n",
      "| id|        status|\n",
      "+---+--------------+\n",
      "|500|Vice President|\n",
      "|250|    PMC Member|\n",
      "|100|   Contributer|\n",
      "+---+--------------+\n",
      "\n"
     ]
    }
   ],
   "source": [
    "person = spark.createDataFrame([(0, \"Bill Chambers\", 0, [100]), (1, \"Matel Zaharla\", 1, [500, 250, 100]), (2, \"Michael Armbrust\", 1, [250, 100])]).toDF(\"id\", \"name\", \"graduate\", \"marks\")\n",
    "person.show()\n",
    "\n",
    "graduate_program = spark.createDataFrame([(0, \"Masters\", \"School of Information\", \"UC Berkeley\"), (2, \"Masters\", \"EECS\", \"UC Berkeley\"), (1, \"Ph. D.\", \"EECS\", \"UC Berkeley\")]).toDF(\"id\", \"degree\", \"department\", \"scool\")\n",
    "graduate_program.show()\n",
    "spark_status = spark.createDataFrame([(500, \"Vice President\"), (250, \"PMC Member\"), (100, \"Contributer\")]).toDF(\"id\", \"status\")\n",
    "spark_status.show()\n"
   ]
  },
  {
   "cell_type": "markdown",
   "id": "f6a51798-51e5-4f7b-9ffe-cff683c9579b",
   "metadata": {},
   "source": [
    "#### Inner join\n",
    "Evalúa las claves en ambos dataframes e incluye sólo las filas cuya evaluación es verdadera"
   ]
  },
  {
   "cell_type": "code",
   "execution_count": 33,
   "id": "07a42e56-7db2-457b-9c3f-be6b1b3e4316",
   "metadata": {},
   "outputs": [
    {
     "name": "stdout",
     "output_type": "stream",
     "text": [
      "+---+----------------+--------+---------------+---+-------+--------------------+-----------+\n",
      "| id|            name|graduate|          marks| id| degree|          department|      scool|\n",
      "+---+----------------+--------+---------------+---+-------+--------------------+-----------+\n",
      "|  0|   Bill Chambers|       0|          [100]|  0|Masters|School of Informa...|UC Berkeley|\n",
      "|  1|   Matel Zaharla|       1|[500, 250, 100]|  1| Ph. D.|                EECS|UC Berkeley|\n",
      "|  2|Michael Armbrust|       1|     [250, 100]|  1| Ph. D.|                EECS|UC Berkeley|\n",
      "+---+----------------+--------+---------------+---+-------+--------------------+-----------+\n",
      "\n"
     ]
    }
   ],
   "source": [
    "join_expression = person[\"graduate\"] == graduate_program[\"id\"]\n",
    "person.join(graduate_program,join_expression).show()"
   ]
  },
  {
   "cell_type": "markdown",
   "id": "d45d824f-5d0d-45bb-b1e3-e1c10ca86523",
   "metadata": {},
   "source": [
    "#### Outer join\n",
    "Evalúa las claves en ambos dataframes y devuelve las filas cuya evaluación es verdadera o falsa, poniendo a NULL los campos para los que no tenga valor"
   ]
  },
  {
   "cell_type": "code",
   "execution_count": null,
   "id": "e6581c09-df14-4f25-bd8f-42be2035f3e3",
   "metadata": {},
   "outputs": [],
   "source": [
    "join_type = \"outer\"\n",
    "person.join(graduate_program,join_expression, join_type).show()"
   ]
  },
  {
   "cell_type": "markdown",
   "id": "a33378c9-2bbe-4525-b2e3-a0306d4c11b4",
   "metadata": {},
   "source": [
    "#### Left Outer join\n",
    "Evalúa las claves en ambos dataframes y devuelve todas las filas del Dataframe de la izquierda, unidas a las filas del Dataframe de la derecha que han sido evaluadas como verdaderas. Se pone a NUll los camos del Dataframe derecho que no tengan valor"
   ]
  },
  {
   "cell_type": "code",
   "execution_count": 31,
   "id": "1a754ae9-fa65-43b0-9a2c-24080a929ffb",
   "metadata": {},
   "outputs": [
    {
     "ename": "NameError",
     "evalue": "name 'person' is not defined",
     "output_type": "error",
     "traceback": [
      "\u001b[0;31m---------------------------------------------------------------------------\u001b[0m",
      "\u001b[0;31mNameError\u001b[0m                                 Traceback (most recent call last)",
      "Cell \u001b[0;32mIn[31], line 2\u001b[0m\n\u001b[1;32m      1\u001b[0m join_type \u001b[38;5;241m=\u001b[39m \u001b[38;5;124m\"\u001b[39m\u001b[38;5;124mleft_outer\u001b[39m\u001b[38;5;124m\"\u001b[39m\n\u001b[0;32m----> 2\u001b[0m \u001b[43mperson\u001b[49m\u001b[38;5;241m.\u001b[39mjoin(graduate_program,join_expression, join_type)\u001b[38;5;241m.\u001b[39mshow()\n",
      "\u001b[0;31mNameError\u001b[0m: name 'person' is not defined"
     ]
    }
   ],
   "source": [
    "join_type = \"left_outer\"\n",
    "person.join(graduate_program,join_expression, join_type).show()"
   ]
  },
  {
   "cell_type": "markdown",
   "id": "e8ac158c-8c21-4f03-ac61-32af94909797",
   "metadata": {},
   "source": [
    "#### Right outer join\n",
    "Evalúa las claves en ambos dataframes y devuelve todas las filas del Dataframe de la izquierda, unidas a las filas del Dataframe de la derecha que han sido evaluadas como verdaderas. Se pone a NUll los camos del Dataframe derecho que no tengan valor"
   ]
  },
  {
   "cell_type": "code",
   "execution_count": 26,
   "id": "7d2f351a-36d8-4320-8356-3ecc41f2b84a",
   "metadata": {},
   "outputs": [
    {
     "ename": "NameError",
     "evalue": "name 'person' is not defined",
     "output_type": "error",
     "traceback": [
      "\u001b[0;31m---------------------------------------------------------------------------\u001b[0m",
      "\u001b[0;31mNameError\u001b[0m                                 Traceback (most recent call last)",
      "Cell \u001b[0;32mIn[26], line 2\u001b[0m\n\u001b[1;32m      1\u001b[0m join_type \u001b[38;5;241m=\u001b[39m \u001b[38;5;124m\"\u001b[39m\u001b[38;5;124mright_outer\u001b[39m\u001b[38;5;124m\"\u001b[39m\n\u001b[0;32m----> 2\u001b[0m \u001b[43mperson\u001b[49m\u001b[38;5;241m.\u001b[39mjoin(graduate_program,join_expression, join_type)\u001b[38;5;241m.\u001b[39mshow()\n",
      "\u001b[0;31mNameError\u001b[0m: name 'person' is not defined"
     ]
    }
   ],
   "source": [
    "join_type = \"right_outer\"\n",
    "person.join(graduate_program,join_expression, join_type).show()"
   ]
  },
  {
   "cell_type": "markdown",
   "id": "51cfed3b-5b70-4c79-886f-1afbf13bcfad",
   "metadata": {},
   "source": [
    "#### Left semi joins\n",
    "Este tipo de \"join\" no incluye datos del segundo DataFrame. Simplemente se limita a mostrar las filas del primer DataFrame que tienen sus correspondientes datos en el segundo"
   ]
  },
  {
   "cell_type": "code",
   "execution_count": 27,
   "id": "9915b36d-a963-4f7d-ac6f-4c2e5a80eb22",
   "metadata": {},
   "outputs": [
    {
     "ename": "NameError",
     "evalue": "name 'person' is not defined",
     "output_type": "error",
     "traceback": [
      "\u001b[0;31m---------------------------------------------------------------------------\u001b[0m",
      "\u001b[0;31mNameError\u001b[0m                                 Traceback (most recent call last)",
      "Cell \u001b[0;32mIn[27], line 2\u001b[0m\n\u001b[1;32m      1\u001b[0m join_type \u001b[38;5;241m=\u001b[39m \u001b[38;5;124m\"\u001b[39m\u001b[38;5;124mleft_semi\u001b[39m\u001b[38;5;124m\"\u001b[39m\n\u001b[0;32m----> 2\u001b[0m \u001b[43mperson\u001b[49m\u001b[38;5;241m.\u001b[39mjoin(graduate_program,join_expression, join_type)\u001b[38;5;241m.\u001b[39mshow()\n",
      "\u001b[0;31mNameError\u001b[0m: name 'person' is not defined"
     ]
    }
   ],
   "source": [
    "join_type = \"left_semi\"\n",
    "person.join(graduate_program,join_expression, join_type).show()"
   ]
  },
  {
   "cell_type": "markdown",
   "id": "5e1d7f29-f2fa-4326-b8b2-e35366b3e9aa",
   "metadata": {},
   "source": [
    "#### left anti\n",
    "Sol lo opuesto a los *left semi joins*"
   ]
  },
  {
   "cell_type": "code",
   "execution_count": 28,
   "id": "ecd1fa29-c63a-4642-b8ba-939e0f738c57",
   "metadata": {},
   "outputs": [
    {
     "ename": "NameError",
     "evalue": "name 'person' is not defined",
     "output_type": "error",
     "traceback": [
      "\u001b[0;31m---------------------------------------------------------------------------\u001b[0m",
      "\u001b[0;31mNameError\u001b[0m                                 Traceback (most recent call last)",
      "Cell \u001b[0;32mIn[28], line 2\u001b[0m\n\u001b[1;32m      1\u001b[0m join_type \u001b[38;5;241m=\u001b[39m \u001b[38;5;124m\"\u001b[39m\u001b[38;5;124mleft_anti\u001b[39m\u001b[38;5;124m\"\u001b[39m\n\u001b[0;32m----> 2\u001b[0m \u001b[43mperson\u001b[49m\u001b[38;5;241m.\u001b[39mjoin(graduate_program,join_expression, join_type)\u001b[38;5;241m.\u001b[39mshow()\n",
      "\u001b[0;31mNameError\u001b[0m: name 'person' is not defined"
     ]
    }
   ],
   "source": [
    "join_type = \"left_anti\"\n",
    "person.join(graduate_program,join_expression, join_type).show()"
   ]
  },
  {
   "cell_type": "markdown",
   "id": "54983b3e-e834-4cf7-973a-08fdd9b819b2",
   "metadata": {},
   "source": [
    "#### cross joins\n",
    "Realiza un producto cartesiano"
   ]
  },
  {
   "cell_type": "code",
   "execution_count": 29,
   "id": "a1ee7cc3-3073-4a08-86bb-a8bcc01bb41c",
   "metadata": {},
   "outputs": [
    {
     "ename": "NameError",
     "evalue": "name 'person' is not defined",
     "output_type": "error",
     "traceback": [
      "\u001b[0;31m---------------------------------------------------------------------------\u001b[0m",
      "\u001b[0;31mNameError\u001b[0m                                 Traceback (most recent call last)",
      "Cell \u001b[0;32mIn[29], line 1\u001b[0m\n\u001b[0;32m----> 1\u001b[0m \u001b[43mperson\u001b[49m\u001b[38;5;241m.\u001b[39mcrossJoin(graduate_program)\u001b[38;5;241m.\u001b[39mshow()\n",
      "\u001b[0;31mNameError\u001b[0m: name 'person' is not defined"
     ]
    }
   ],
   "source": [
    "person.crossJoin(graduate_program).show()"
   ]
  },
  {
   "cell_type": "markdown",
   "id": "a3ba27a3-5f3d-40af-9fb5-1dec06b44594",
   "metadata": {},
   "source": [
    "# SQL\n",
    "Desde la versión 2.6 se pueden realizar consultas en SQL sobre los Dataframes empleando la función spark.sql(). Para poder hacerlo es necesario crear una vista temporal con la función createOrReplaceTempView()"
   ]
  },
  {
   "cell_type": "code",
   "execution_count": 30,
   "id": "833f2e37-5558-4cc1-bdfc-196a428d07f9",
   "metadata": {},
   "outputs": [
    {
     "name": "stdout",
     "output_type": "stream",
     "text": [
      "+-----------------+-------------------+-----+\n",
      "|DEST_COUNTRY_NAME|ORIGIN_COUNTRY_NAME|count|\n",
      "+-----------------+-------------------+-----+\n",
      "|    United States|            Croatia|    1|\n",
      "|    United States|          Singapore|    1|\n",
      "|          Moldova|      United States|    1|\n",
      "|            Malta|      United States|    1|\n",
      "|    United States|          Gibraltar|    1|\n",
      "+-----------------+-------------------+-----+\n",
      "only showing top 5 rows\n",
      "\n"
     ]
    }
   ],
   "source": [
    "df_csv.createOrReplaceTempView(\"vuelos\")\n",
    "spark.sql(\"SELECT * FROM vuelos WHERE count = 1\").show(5)"
   ]
  },
  {
   "cell_type": "markdown",
   "id": "f8350faf-3056-424e-87b0-f2a8ba9b151f",
   "metadata": {},
   "source": [
    "## Exportar a pandas"
   ]
  },
  {
   "cell_type": "markdown",
   "id": "5dbc9756-433c-4edf-b71e-95a025ad3f92",
   "metadata": {},
   "source": [
    "Podemos pasar un Dataframe de Spark a DataFrame de Pandas empleando el método *toPandas()*. Primero, recordamos como podemos generar un DF con una estructura específica:"
   ]
  },
  {
   "cell_type": "code",
   "execution_count": 38,
   "id": "f9f2420e-aada-4499-92b9-ea7bb603a0e9",
   "metadata": {},
   "outputs": [
    {
     "name": "stdout",
     "output_type": "stream",
     "text": [
      "+---------+---------+--------------------+--------+-----------+---------+----------+--------------+\n",
      "|InvoiceNo|StockCode|         Description|Quantity|InvoiceDate|UnitPrice|CustomerID|       Country|\n",
      "+---------+---------+--------------------+--------+-----------+---------+----------+--------------+\n",
      "|   536365|   85123A|WHITE HANGING HEA...|       6|       NULL|     2.55|     17850|United Kingdom|\n",
      "|   536365|    71053| WHITE METAL LANTERN|       6|       NULL|     3.39|     17850|United Kingdom|\n",
      "|   536365|   84406B|CREAM CUPID HEART...|       8|       NULL|     2.75|     17850|United Kingdom|\n",
      "|   536365|   84029G|KNITTED UNION FLA...|       6|       NULL|     3.39|     17850|United Kingdom|\n",
      "|   536365|   84029E|RED WOOLLY HOTTIE...|       6|       NULL|     3.39|     17850|United Kingdom|\n",
      "|   536365|    22752|SET 7 BABUSHKA NE...|       2|       NULL|     7.65|     17850|United Kingdom|\n",
      "|   536365|    21730|GLASS STAR FROSTE...|       6|       NULL|     4.25|     17850|United Kingdom|\n",
      "|   536366|    22633|HAND WARMER UNION...|       6|       NULL|     1.85|     17850|United Kingdom|\n",
      "|   536366|    22632|HAND WARMER RED P...|       6|       NULL|     1.85|     17850|United Kingdom|\n",
      "|   536367|    84879|ASSORTED COLOUR B...|      32|       NULL|     1.69|     13047|United Kingdom|\n",
      "+---------+---------+--------------------+--------+-----------+---------+----------+--------------+\n",
      "only showing top 10 rows\n",
      "\n"
     ]
    }
   ],
   "source": [
    "\n",
    "\n",
    "\n",
    "#DataFrame API\n",
    "\n",
    "from pyspark.sql.types import StructType, StructField, StringType, IntegerType, DoubleType, TimestampType\n",
    "\n",
    "# Definir el esquema\n",
    "\n",
    "schema = StructType([\n",
    "\n",
    "    StructField(\"InvoiceNo\", IntegerType(), True),\n",
    "\n",
    "    StructField(\"StockCode\", StringType(), True),\n",
    "\n",
    "    StructField(\"Description\", StringType(), True),\n",
    "\n",
    "    StructField(\"Quantity\", IntegerType(), True),\n",
    "\n",
    "    StructField(\"InvoiceDate\", TimestampType(), True),\n",
    "\n",
    "    StructField(\"UnitPrice\", DoubleType(), True),\n",
    "\n",
    "    StructField(\"CustomerID\", IntegerType(), True),\n",
    "\n",
    "    StructField(\"Country\", StringType(), True)\n",
    "\n",
    "])\n",
    "\n",
    "\n",
    "\n",
    "# Leer el archivo CSV con el esquema especificado\n",
    "\n",
    "df_struct = spark.read.csv(\"data/retail-data/all/online-retail-dataset.csv\", header=True, schema=schema)\n",
    "df_struct.show(10)"
   ]
  },
  {
   "cell_type": "markdown",
   "id": "fbc1f1c5-48c5-4908-bbb0-b8e6f2b62378",
   "metadata": {},
   "source": [
    " Una vez tengamos el DF preparado, lo convertimos en un DataFrame de Pandas:"
   ]
  },
  {
   "cell_type": "code",
   "execution_count": 52,
   "id": "78cc6675-d94c-422b-be09-e83436e32f1b",
   "metadata": {},
   "outputs": [
    {
     "name": "stdout",
     "output_type": "stream",
     "text": [
      "+---------------+-------------+\n",
      "|        Country|sum(Quantity)|\n",
      "+---------------+-------------+\n",
      "|         Sweden|        35637|\n",
      "|        Germany|       117448|\n",
      "|         France|       110480|\n",
      "|        Belgium|        23152|\n",
      "|        Finland|        10666|\n",
      "|          Italy|         7999|\n",
      "|           EIRE|       142637|\n",
      "|      Lithuania|          652|\n",
      "|         Norway|        19247|\n",
      "|          Spain|        26824|\n",
      "|        Denmark|         8188|\n",
      "|        Iceland|         2458|\n",
      "|         Israel|         4353|\n",
      "|Channel Islands|         9479|\n",
      "|         Cyprus|         6317|\n",
      "|    Switzerland|        30325|\n",
      "|          Japan|        25218|\n",
      "|         Poland|         3653|\n",
      "|       Portugal|        16180|\n",
      "|      Australia|        83653|\n",
      "+---------------+-------------+\n",
      "only showing top 20 rows\n",
      "\n"
     ]
    },
    {
     "data": {
      "text/html": [
       "<div>\n",
       "<style scoped>\n",
       "    .dataframe tbody tr th:only-of-type {\n",
       "        vertical-align: middle;\n",
       "    }\n",
       "\n",
       "    .dataframe tbody tr th {\n",
       "        vertical-align: top;\n",
       "    }\n",
       "\n",
       "    .dataframe thead th {\n",
       "        text-align: right;\n",
       "    }\n",
       "</style>\n",
       "<table border=\"1\" class=\"dataframe\">\n",
       "  <thead>\n",
       "    <tr style=\"text-align: right;\">\n",
       "      <th></th>\n",
       "      <th>Country</th>\n",
       "      <th>sum(Quantity)</th>\n",
       "    </tr>\n",
       "  </thead>\n",
       "  <tbody>\n",
       "    <tr>\n",
       "      <th>0</th>\n",
       "      <td>Sweden</td>\n",
       "      <td>35637</td>\n",
       "    </tr>\n",
       "    <tr>\n",
       "      <th>1</th>\n",
       "      <td>Germany</td>\n",
       "      <td>117448</td>\n",
       "    </tr>\n",
       "    <tr>\n",
       "      <th>2</th>\n",
       "      <td>France</td>\n",
       "      <td>110480</td>\n",
       "    </tr>\n",
       "    <tr>\n",
       "      <th>3</th>\n",
       "      <td>Belgium</td>\n",
       "      <td>23152</td>\n",
       "    </tr>\n",
       "    <tr>\n",
       "      <th>4</th>\n",
       "      <td>Finland</td>\n",
       "      <td>10666</td>\n",
       "    </tr>\n",
       "    <tr>\n",
       "      <th>5</th>\n",
       "      <td>Italy</td>\n",
       "      <td>7999</td>\n",
       "    </tr>\n",
       "    <tr>\n",
       "      <th>6</th>\n",
       "      <td>EIRE</td>\n",
       "      <td>142637</td>\n",
       "    </tr>\n",
       "    <tr>\n",
       "      <th>7</th>\n",
       "      <td>Lithuania</td>\n",
       "      <td>652</td>\n",
       "    </tr>\n",
       "    <tr>\n",
       "      <th>8</th>\n",
       "      <td>Norway</td>\n",
       "      <td>19247</td>\n",
       "    </tr>\n",
       "    <tr>\n",
       "      <th>9</th>\n",
       "      <td>Spain</td>\n",
       "      <td>26824</td>\n",
       "    </tr>\n",
       "    <tr>\n",
       "      <th>10</th>\n",
       "      <td>Denmark</td>\n",
       "      <td>8188</td>\n",
       "    </tr>\n",
       "    <tr>\n",
       "      <th>11</th>\n",
       "      <td>Iceland</td>\n",
       "      <td>2458</td>\n",
       "    </tr>\n",
       "    <tr>\n",
       "      <th>12</th>\n",
       "      <td>Israel</td>\n",
       "      <td>4353</td>\n",
       "    </tr>\n",
       "    <tr>\n",
       "      <th>13</th>\n",
       "      <td>Channel Islands</td>\n",
       "      <td>9479</td>\n",
       "    </tr>\n",
       "    <tr>\n",
       "      <th>14</th>\n",
       "      <td>Cyprus</td>\n",
       "      <td>6317</td>\n",
       "    </tr>\n",
       "    <tr>\n",
       "      <th>15</th>\n",
       "      <td>Switzerland</td>\n",
       "      <td>30325</td>\n",
       "    </tr>\n",
       "    <tr>\n",
       "      <th>16</th>\n",
       "      <td>Japan</td>\n",
       "      <td>25218</td>\n",
       "    </tr>\n",
       "    <tr>\n",
       "      <th>17</th>\n",
       "      <td>Poland</td>\n",
       "      <td>3653</td>\n",
       "    </tr>\n",
       "    <tr>\n",
       "      <th>18</th>\n",
       "      <td>Portugal</td>\n",
       "      <td>16180</td>\n",
       "    </tr>\n",
       "    <tr>\n",
       "      <th>19</th>\n",
       "      <td>Australia</td>\n",
       "      <td>83653</td>\n",
       "    </tr>\n",
       "    <tr>\n",
       "      <th>20</th>\n",
       "      <td>Austria</td>\n",
       "      <td>4827</td>\n",
       "    </tr>\n",
       "    <tr>\n",
       "      <th>21</th>\n",
       "      <td>Bahrain</td>\n",
       "      <td>260</td>\n",
       "    </tr>\n",
       "    <tr>\n",
       "      <th>22</th>\n",
       "      <td>United Kingdom</td>\n",
       "      <td>4263829</td>\n",
       "    </tr>\n",
       "    <tr>\n",
       "      <th>23</th>\n",
       "      <td>Netherlands</td>\n",
       "      <td>200128</td>\n",
       "    </tr>\n",
       "    <tr>\n",
       "      <th>24</th>\n",
       "      <td>Singapore</td>\n",
       "      <td>5234</td>\n",
       "    </tr>\n",
       "    <tr>\n",
       "      <th>25</th>\n",
       "      <td>Greece</td>\n",
       "      <td>1556</td>\n",
       "    </tr>\n",
       "    <tr>\n",
       "      <th>26</th>\n",
       "      <td>Hong Kong</td>\n",
       "      <td>4769</td>\n",
       "    </tr>\n",
       "    <tr>\n",
       "      <th>27</th>\n",
       "      <td>United Arab Emirates</td>\n",
       "      <td>982</td>\n",
       "    </tr>\n",
       "    <tr>\n",
       "      <th>28</th>\n",
       "      <td>Lebanon</td>\n",
       "      <td>386</td>\n",
       "    </tr>\n",
       "    <tr>\n",
       "      <th>29</th>\n",
       "      <td>Saudi Arabia</td>\n",
       "      <td>75</td>\n",
       "    </tr>\n",
       "    <tr>\n",
       "      <th>30</th>\n",
       "      <td>Canada</td>\n",
       "      <td>2763</td>\n",
       "    </tr>\n",
       "    <tr>\n",
       "      <th>31</th>\n",
       "      <td>Czech Republic</td>\n",
       "      <td>592</td>\n",
       "    </tr>\n",
       "    <tr>\n",
       "      <th>32</th>\n",
       "      <td>European Community</td>\n",
       "      <td>497</td>\n",
       "    </tr>\n",
       "    <tr>\n",
       "      <th>33</th>\n",
       "      <td>Unspecified</td>\n",
       "      <td>3300</td>\n",
       "    </tr>\n",
       "    <tr>\n",
       "      <th>34</th>\n",
       "      <td>USA</td>\n",
       "      <td>1034</td>\n",
       "    </tr>\n",
       "    <tr>\n",
       "      <th>35</th>\n",
       "      <td>Brazil</td>\n",
       "      <td>356</td>\n",
       "    </tr>\n",
       "    <tr>\n",
       "      <th>36</th>\n",
       "      <td>Malta</td>\n",
       "      <td>944</td>\n",
       "    </tr>\n",
       "    <tr>\n",
       "      <th>37</th>\n",
       "      <td>RSA</td>\n",
       "      <td>352</td>\n",
       "    </tr>\n",
       "  </tbody>\n",
       "</table>\n",
       "</div>"
      ],
      "text/plain": [
       "                 Country  sum(Quantity)\n",
       "0                 Sweden          35637\n",
       "1                Germany         117448\n",
       "2                 France         110480\n",
       "3                Belgium          23152\n",
       "4                Finland          10666\n",
       "5                  Italy           7999\n",
       "6                   EIRE         142637\n",
       "7              Lithuania            652\n",
       "8                 Norway          19247\n",
       "9                  Spain          26824\n",
       "10               Denmark           8188\n",
       "11               Iceland           2458\n",
       "12                Israel           4353\n",
       "13       Channel Islands           9479\n",
       "14                Cyprus           6317\n",
       "15           Switzerland          30325\n",
       "16                 Japan          25218\n",
       "17                Poland           3653\n",
       "18              Portugal          16180\n",
       "19             Australia          83653\n",
       "20               Austria           4827\n",
       "21               Bahrain            260\n",
       "22        United Kingdom        4263829\n",
       "23           Netherlands         200128\n",
       "24             Singapore           5234\n",
       "25                Greece           1556\n",
       "26             Hong Kong           4769\n",
       "27  United Arab Emirates            982\n",
       "28               Lebanon            386\n",
       "29          Saudi Arabia             75\n",
       "30                Canada           2763\n",
       "31        Czech Republic            592\n",
       "32    European Community            497\n",
       "33           Unspecified           3300\n",
       "34                   USA           1034\n",
       "35                Brazil            356\n",
       "36                 Malta            944\n",
       "37                   RSA            352"
      ]
     },
     "metadata": {},
     "output_type": "display_data"
    }
   ],
   "source": [
    "df2 = df_struct.groupBy(\"Country\").sum(\"Quantity\")\n",
    "df2.show()\n",
    "df2_pandas = df2.toPandas()\n",
    "display (df2_pandas)"
   ]
  },
  {
   "cell_type": "markdown",
   "id": "155098c6-f866-44a3-a248-54e41a7eb8f3",
   "metadata": {},
   "source": [
    "Esto nos puede permitir generar gráficos de forma sencilla:"
   ]
  },
  {
   "cell_type": "code",
   "execution_count": 53,
   "id": "54d61aab-4569-494e-8091-db19528c77e4",
   "metadata": {},
   "outputs": [
    {
     "data": {
      "image/png": "[encoded data removed]",
      "text/plain": [
       "<Figure size 1000x600 with 1 Axes>"
      ]
     },
     "metadata": {},
     "output_type": "display_data"
    }
   ],
   "source": [
    "import pandas as pd\n",
    "import matplotlib.pyplot as plt\n",
    "import seaborn as sns\n",
    "\n",
    "plt.figure(figsize=(10,6))\n",
    "plt.ticklabel_format(useOffset=False, style=\"plain\")\n",
    "sns.set_theme(style=\"whitegrid\")\n",
    "sns.barplot(x=\"sum(Quantity)\", y=\"Country\", data=df2_pandas).set_title(\"Productos vendidos por país\")\n",
    "plt.xlabel(\"Productos Vendidos\")\n",
    "plt.ylabel(\"Países\")\n",
    "\n",
    "plt.show()"
   ]
  },
  {
   "cell_type": "code",
   "execution_count": null,
   "id": "87651ae1-48f2-4b7a-b514-3b03d8c75fc6",
   "metadata": {},
   "outputs": [],
   "source": []
  }
 ],
 "metadata": {
  "kernelspec": {
   "display_name": "Python 3 (ipykernel)",
   "language": "python",
   "name": "python3"
  },
  "language_info": {
   "codemirror_mode": {
    "name": "ipython",
    "version": 3
   },
   "file_extension": ".py",
   "mimetype": "text/x-python",
   "name": "python",
   "nbconvert_exporter": "python",
   "pygments_lexer": "ipython3",
   "version": "3.11.6"
  }
 },
 "nbformat": 4,
 "nbformat_minor": 5
}
