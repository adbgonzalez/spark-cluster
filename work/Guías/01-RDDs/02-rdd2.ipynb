{
 "cells": [
  {
   "cell_type": "markdown",
   "id": "1e373dd0-9a41-4742-98f8-5842779d7d74",
   "metadata": {},
   "source": [
    "# Uso de RDD's avanzado\n",
    "En Big Data es habitual trabajar con datos en formato clave-valor. Por ello, Spark ofrece transformaciones y acciones específicas para estos casos"
   ]
  },
  {
   "cell_type": "code",
   "execution_count": 3,
   "id": "73569b94-4023-42c8-a0db-ce766fbcbad0",
   "metadata": {},
   "outputs": [],
   "source": [
    "# Inicializamos SparkSession y SparkContext\n",
    "from pyspark.sql import SparkSession\n",
    "\n",
    "spark = SparkSession.builder \\\n",
    "    .master(\"spark://spark-master:7077\") \\\n",
    "    .appName(\"02-rdd2\") \\\n",
    "    .config(\"spark.eventLog.enabled\", \"true\") \\\n",
    "    .config(\"spark.eventLog.dir\", \"file:///opt/spark/logs/history\") \\\n",
    "    .config(\"spark.history.fs.logDirectory\", \"file:///opt/spark/logs/history\") \\\n",
    "    .getOrCreate()\n",
    "\n",
    "spark.version  # Verifica la versión de Spark\n",
    "\n",
    "#spark = SparkSession.builder.getOrCreate()\n",
    "\n",
    "sc = spark.sparkContext"
   ]
  },
  {
   "cell_type": "code",
   "execution_count": 14,
   "id": "69d384bb-3a41-49b8-ac78-1cb895f85637",
   "metadata": {},
   "outputs": [
    {
     "name": "stdout",
     "output_type": "stream",
     "text": [
      "[('a', 1), ('b', 1), ('c', 1)]\n",
      "[('Big', 1), ('Data', 1), ('aplicado.', 1), ('Curso', 1), ('de', 1), ('especialización', 1), ('de', 1), ('Inteligencia', 1), ('Artificial', 1), ('y', 1), ('Big', 1), ('Data', 1)]\n"
     ]
    }
   ],
   "source": [
    "rdd_pares1 = sc.parallelize([('a', 1), ('b', 1), ('c', 1)])\n",
    "print (rdd_pares1.collect())\n",
    "\n",
    "rdd_st = sc.parallelize (\"Big Data aplicado. Curso de especialización de Inteligencia Artificial y Big Data\".split())\n",
    "rdd_pares2 = rdd_st.map(lambda palabra: (palabra,1))\n",
    "print (rdd_pares2.collect())"
   ]
  },
  {
   "cell_type": "markdown",
   "id": "b543059a-7a60-4631-8f5a-b0980aa44ebc",
   "metadata": {},
   "source": [
    "Lo interesante de los RDD's de pares clave valor es que proporcionan una serie de transformaciones y acciones adicionales\n",
    "## Operaciones clave-valor básicas\n",
    "### keyBy\n",
    "Función que crea una clave para cada valor actual de un RDD"
   ]
  },
  {
   "cell_type": "code",
   "execution_count": 4,
   "id": "1220c006-861a-4f88-89b9-3dde91fe0dae",
   "metadata": {},
   "outputs": [
    {
     "name": "stdout",
     "output_type": "stream",
     "text": [
      "[('B', 'Big'), ('D', 'Data'), ('a', 'aplicado.'), ('C', 'Curso'), ('d', 'de'), ('e', 'especialización'), ('d', 'de'), ('I', 'Inteligencia'), ('A', 'Artificial'), ('y', 'y'), ('B', 'Big'), ('D', 'Data')]\n",
      "[(3, 'Big'), (4, 'Data'), (9, 'aplicado.'), (5, 'Curso'), (2, 'de'), (15, 'especialización'), (2, 'de'), (12, 'Inteligencia'), (10, 'Artificial'), (1, 'y'), (3, 'Big'), (4, 'Data')]\n"
     ]
    }
   ],
   "source": [
    "# La clave es la inicial de cada palabra\n",
    "rdd_pares = rdd_st.keyBy(lambda palabra: palabra[0])\n",
    "print(rdd_pares.collect())\n",
    "rdd_pares2 = rdd_st.keyBy (lambda palabra: len(palabra))\n",
    "print (rdd_pares2.collect())"
   ]
  },
  {
   "cell_type": "markdown",
   "id": "95f9d596-d983-4670-a440-d5bab54100ed",
   "metadata": {},
   "source": [
    "### mapValues\n",
    "Realiza una operación map sólo sobre los valores del RDD"
   ]
  },
  {
   "cell_type": "code",
   "execution_count": 4,
   "id": "a9ce58c8-7b65-4eac-9a41-6783e119575b",
   "metadata": {},
   "outputs": [
    {
     "data": {
      "text/plain": [
       "[('B', 'BIG'),\n",
       " ('D', 'DATA'),\n",
       " ('a', 'APLICADO.'),\n",
       " ('C', 'CURSO'),\n",
       " ('d', 'DE'),\n",
       " ('e', 'ESPECIALIZACIÓN'),\n",
       " ('d', 'DE'),\n",
       " ('I', 'INTELIGENCIA'),\n",
       " ('A', 'ARTIFICIAL'),\n",
       " ('y', 'Y'),\n",
       " ('B', 'BIG'),\n",
       " ('D', 'DATA')]"
      ]
     },
     "execution_count": 4,
     "metadata": {},
     "output_type": "execute_result"
    }
   ],
   "source": [
    "rdd_pares.mapValues(lambda x: x.upper()).collect()"
   ]
  },
  {
   "cell_type": "markdown",
   "id": "457e4545-c8a4-49b4-8e97-fa176928a4ef",
   "metadata": {},
   "source": [
    "### keys\n",
    "Devuelve un RDD sólo con las claves"
   ]
  },
  {
   "cell_type": "code",
   "execution_count": 5,
   "id": "343ae619-26c8-4c88-9053-1d0acf6d719e",
   "metadata": {},
   "outputs": [
    {
     "data": {
      "text/plain": [
       "['B', 'D', 'a', 'C', 'd', 'e', 'd', 'I', 'A', 'y', 'B', 'D']"
      ]
     },
     "execution_count": 5,
     "metadata": {},
     "output_type": "execute_result"
    }
   ],
   "source": [
    "rdd_pares.keys().collect()"
   ]
  },
  {
   "cell_type": "markdown",
   "id": "603c8e15-60ea-4f41-9ac8-dd3aae48719d",
   "metadata": {},
   "source": [
    "### values\n",
    "Devuelve un RDD sólo con los valores"
   ]
  },
  {
   "cell_type": "code",
   "execution_count": 6,
   "id": "6c763a91-3cfb-4958-babf-e5ae289272b3",
   "metadata": {},
   "outputs": [
    {
     "data": {
      "text/plain": [
       "['Big',\n",
       " 'Data',\n",
       " 'aplicado.',\n",
       " 'Curso',\n",
       " 'de',\n",
       " 'especialización',\n",
       " 'de',\n",
       " 'Inteligencia',\n",
       " 'Artificial',\n",
       " 'y',\n",
       " 'Big',\n",
       " 'Data']"
      ]
     },
     "execution_count": 6,
     "metadata": {},
     "output_type": "execute_result"
    }
   ],
   "source": [
    "rdd_pares.values().collect()"
   ]
  },
  {
   "cell_type": "markdown",
   "id": "88567cbb-286c-4881-ae1e-fa0baa319b5c",
   "metadata": {},
   "source": [
    "### lookup\n",
    "Devuelve sólo los valores que coinciden con la clave especificada"
   ]
  },
  {
   "cell_type": "code",
   "execution_count": 13,
   "id": "eedf7e0d-7a7c-4e32-b4fd-351aec2b1597",
   "metadata": {},
   "outputs": [
    {
     "data": {
      "text/plain": [
       "['Big', 'Big']"
      ]
     },
     "execution_count": 13,
     "metadata": {},
     "output_type": "execute_result"
    }
   ],
   "source": [
    "rdd_pares.lookup('B')"
   ]
  },
  {
   "cell_type": "markdown",
   "id": "0e7a5859-7a13-48fe-a6bc-822e282bed62",
   "metadata": {},
   "source": [
    "### sampleByKey"
   ]
  },
  {
   "cell_type": "code",
   "execution_count": 15,
   "id": "9f99bca0-8c49-4e88-8deb-ea4fa96aa868",
   "metadata": {},
   "outputs": [
    {
     "data": {
      "text/plain": [
       "[('D', 'Data'), ('a', 'aplicado.'), ('d', 'de'), ('y', 'y')]"
      ]
     },
     "execution_count": 15,
     "metadata": {},
     "output_type": "execute_result"
    }
   ],
   "source": [
    "caracteres_distintos = rdd_pares.keys().collect()\n",
    "map_muestra = dict(map(lambda c: (c, random.random()), caracteres_distintos))\n",
    "rdd_pares.sampleByKey(True, map_muestra, 6).collect()\n"
   ]
  },
  {
   "cell_type": "markdown",
   "id": "2a8ba589-2bcd-45e0-825b-6d193e4e9be6",
   "metadata": {},
   "source": [
    "## Agregaciones\n",
    "### groupByKey\n",
    "Agrupa los valores en función de la clave"
   ]
  },
  {
   "cell_type": "code",
   "execution_count": 10,
   "id": "384f3053-5329-4bc7-af7d-e220ce0e5987",
   "metadata": {},
   "outputs": [
    {
     "name": "stdout",
     "output_type": "stream",
     "text": [
      "Clave: e, Valores: ['especialización']\n",
      "Clave: B, Valores: ['Big', 'Big']\n",
      "Clave: I, Valores: ['Inteligencia']\n",
      "Clave: A, Valores: ['Artificial']\n",
      "Clave: D, Valores: ['Data', 'Data']\n",
      "Clave: d, Valores: ['de', 'de']\n",
      "Clave: y, Valores: ['y']\n",
      "Clave: a, Valores: ['aplicado.']\n",
      "Clave: C, Valores: ['Curso']\n"
     ]
    }
   ],
   "source": [
    "for key, values_iterable in rdd_pares.groupByKey().collect():\n",
    "    # Convertir el iterable de resultados a una lista\n",
    "    values_list = list(values_iterable)\n",
    "    # Imprimir la clave y los valores\n",
    "    print(f\"Clave: {key}, Valores: {values_list}\")"
   ]
  },
  {
   "cell_type": "markdown",
   "id": "9acc93fa-fd04-4f5f-9626-0a7c79aab99e",
   "metadata": {},
   "source": [
    "### reduceByKey\n",
    "Aplica una función reductora después de agrupar los valores del RDD en función de la clave"
   ]
  },
  {
   "cell_type": "code",
   "execution_count": 18,
   "id": "a698b429-56fb-40cc-a57a-fa9f0687d6c3",
   "metadata": {},
   "outputs": [
    {
     "data": {
      "text/plain": [
       "[('e', 'especialización'),\n",
       " ('B', 6),\n",
       " ('I', 'Inteligencia'),\n",
       " ('A', 'Artificial'),\n",
       " ('D', 8),\n",
       " ('d', 4),\n",
       " ('y', 'y'),\n",
       " ('a', 'aplicado.'),\n",
       " ('C', 'Curso')]"
      ]
     },
     "execution_count": 18,
     "metadata": {},
     "output_type": "execute_result"
    }
   ],
   "source": [
    "rdd_pares.reduceByKey(lambda x,y:len(x)+len(y)).collect()"
   ]
  },
  {
   "cell_type": "markdown",
   "id": "fbb5f0b9-a48e-46ae-b61a-e053a066ca31",
   "metadata": {},
   "source": [
    "### sortByKey\n",
    "Ordena"
   ]
  },
  {
   "cell_type": "code",
   "execution_count": 29,
   "id": "2d2cc6fb-5c9b-4c21-9d0c-a312f32c9d1a",
   "metadata": {},
   "outputs": [
    {
     "data": {
      "text/plain": [
       "[(15, 'especialización'),\n",
       " (12, 'Inteligencia'),\n",
       " (10, 'Artificial'),\n",
       " (9, 'aplicado.'),\n",
       " (5, 'Curso'),\n",
       " (4, 'Data'),\n",
       " (4, 'Data'),\n",
       " (3, 'Big'),\n",
       " (3, 'Big'),\n",
       " (2, 'de'),\n",
       " (2, 'de'),\n",
       " (1, 'y')]"
      ]
     },
     "execution_count": 29,
     "metadata": {},
     "output_type": "execute_result"
    }
   ],
   "source": [
    "rdd_pares3.sortByKey(ascending=False).collect()"
   ]
  },
  {
   "cell_type": "markdown",
   "id": "8dc1e8e6-5b33-4541-bc0c-59dc6ffb5b64",
   "metadata": {},
   "source": [
    "### countByKey\n",
    "Permite contar el número de valores que se corresponden con una determinada clave"
   ]
  },
  {
   "cell_type": "code",
   "execution_count": 18,
   "id": "acd6e18c-e75b-426d-97d9-747e1ae36096",
   "metadata": {},
   "outputs": [
    {
     "data": {
      "text/plain": [
       "defaultdict(int,\n",
       "            {'B': 2,\n",
       "             'D': 2,\n",
       "             'a': 1,\n",
       "             'C': 1,\n",
       "             'd': 2,\n",
       "             'e': 1,\n",
       "             'I': 1,\n",
       "             'A': 1,\n",
       "             'y': 1})"
      ]
     },
     "execution_count": 18,
     "metadata": {},
     "output_type": "execute_result"
    }
   ],
   "source": [
    "rdd_pares.countByKey()"
   ]
  },
  {
   "cell_type": "markdown",
   "id": "b483d663-2dda-404c-aedc-f06ea61b2844",
   "metadata": {},
   "source": [
    "### aggregate\n",
    "Esta función requiere un *null* y un *valor inicial*, así como dos funciones. La primera agrega dentro de una partición y la segunda entre particiones:"
   ]
  },
  {
   "cell_type": "code",
   "execution_count": 21,
   "id": "28e29956-492e-42a9-a7b6-ad1e7809a98e",
   "metadata": {},
   "outputs": [
    {
     "name": "stdout",
     "output_type": "stream",
     "text": [
      "[[1, 2], [3, 4]]\n"
     ]
    },
    {
     "data": {
      "text/plain": [
       "(10, 4)"
      ]
     },
     "execution_count": 21,
     "metadata": {},
     "output_type": "execute_result"
    }
   ],
   "source": [
    "rdd_pruebas = sc.parallelize([1,2,3,4],2)\n",
    "\n",
    "print(rdd_pruebas.glom().collect())\n",
    "max_func = (lambda x,y: (x[0] +y, x[1] +1))\n",
    "add_func = (lambda x,y: (x[0] + y[0], x[1] + y[1]))\n",
    "rdd_pruebas.aggregate((0,0),max_func, add_func)"
   ]
  },
  {
   "cell_type": "code",
   "execution_count": 23,
   "id": "603cfd3e-2136-405a-9b9b-e2fb0f1b11f4",
   "metadata": {},
   "outputs": [
    {
     "data": {
      "text/plain": [
       "(24, 4)"
      ]
     },
     "execution_count": 23,
     "metadata": {},
     "output_type": "execute_result"
    }
   ],
   "source": [
    "seq_op = (lambda x,y: (x[0] * y, x[1]+1))\n",
    "comb_op = (lambda x,y: (x[0] * y[0], x[1]+y[1]))\n",
    "rdd_pruebas.aggregate((1,0),seq_op, comb_op)"
   ]
  },
  {
   "cell_type": "code",
   "execution_count": 30,
   "id": "ae862130-65cb-4d9a-9ff5-97623f08f22a",
   "metadata": {},
   "outputs": [
    {
     "data": {
      "text/plain": [
       "10"
      ]
     },
     "execution_count": 30,
     "metadata": {},
     "output_type": "execute_result"
    }
   ],
   "source": [
    "max_func = (lambda x,y: x+y)\n",
    "add_func = (lambda x,y: x+y)\n",
    "rdd_pruebas.aggregate(0,max_func, add_func)"
   ]
  },
  {
   "cell_type": "markdown",
   "id": "73f08ec5-65fc-40fa-b264-63412cfdc6c9",
   "metadata": {},
   "source": [
    "### aggregateByKey\n",
    "Similar a *aggregate* pero en vez de hacer la agregación partición a partición lo hace clave a clave."
   ]
  },
  {
   "cell_type": "code",
   "execution_count": 4,
   "id": "44f6cfa0-0938-484b-8226-639c434ded81",
   "metadata": {},
   "outputs": [
    {
     "data": {
      "text/plain": [
       "[('b', (9, 2)), ('a', (6, 3))]"
      ]
     },
     "execution_count": 4,
     "metadata": {},
     "output_type": "execute_result"
    }
   ],
   "source": [
    "# Ejemplo aggregateByKey\n",
    "rdd_ejemplo2 = sc.parallelize([(\"a\",1),(\"a\",2),(\"a\",3),(\"b\",4),(\"b\",5)])\n",
    "seq_op = (lambda acc, new_value: (acc[0]+new_value, acc[1]+1))\n",
    "comb_op = (lambda r1, r2: (r1[0] + r2[0], r1[1]+r2[1]))\n",
    "rdd_ejemplo2.aggregateByKey((0,0), seq_op, comb_op).collect()"
   ]
  },
  {
   "cell_type": "markdown",
   "id": "79e18aab-4f1a-4250-8f1d-da195c0033ff",
   "metadata": {},
   "source": [
    "### combineByKey\n",
    "Permite combinar valores y distribuirlos en número especificado de particiones. Necesita los siguiente parámetros:\n",
    "- Función valor a combinable: Mapea los valores a valores combinables (ejemplo: entero a array)\n",
    "- Función mezclar valores: Mezcla los valores (ejemplo: añade valores a un array)\n",
    "- Función mezclar combinaciones: Une los resultados de las distintas particiones (ejemplo: une los arrays)"
   ]
  },
  {
   "cell_type": "code",
   "execution_count": 31,
   "id": "80c80e10-30ca-41de-b23c-095137330270",
   "metadata": {},
   "outputs": [
    {
     "data": {
      "text/plain": [
       "[('b', [4, 5]), ('a', [1, 2, 3])]"
      ]
     },
     "execution_count": 31,
     "metadata": {},
     "output_type": "execute_result"
    }
   ],
   "source": [
    "def valor_a_comb (valor):\n",
    "    return [valor]\n",
    "\n",
    "def mezclar_valores_func (valores, valor_nuevo):\n",
    "    valores.append(valor_nuevo)\n",
    "    return valores\n",
    "\n",
    "def mezclar_comb_func (valores1, valores2):\n",
    "    return valores1 + valores2\n",
    "\n",
    "particiones_salida = 3\n",
    "rdd_ejemplo2.combineByKey(valor_a_comb,mezclar_valores_func, mezclar_comb_func,particiones_salida).collect()\n",
    "\n"
   ]
  },
  {
   "cell_type": "markdown",
   "id": "b702d22b-f864-41cd-bd40-7d154005d281",
   "metadata": {},
   "source": [
    "### foldByKey\n",
    "Mezcla los valores para cada clave usando una función asociativa y un *\"valor neutral\"*. El resultado de dicha función debe ser del mismo tipo que los valores."
   ]
  },
  {
   "cell_type": "code",
   "execution_count": 9,
   "id": "b9635a7e-4587-468b-b67f-d72bf2101813",
   "metadata": {},
   "outputs": [
    {
     "data": {
      "text/plain": [
       "[('b', 9), ('a', 6)]"
      ]
     },
     "execution_count": 9,
     "metadata": {},
     "output_type": "execute_result"
    }
   ],
   "source": [
    "seq_op = (lambda acc, new_value: acc+new_value)\n",
    "rdd_ejemplo2.foldByKey(0,seq_op).collect()"
   ]
  },
  {
   "cell_type": "markdown",
   "id": "5c725952-571d-441f-b108-3886fa92073d",
   "metadata": {},
   "source": [
    "### coGroup\n",
    "Permite agrupar hasta dos RDD's clave-valor. El resultado es un nuevo RDD clave valor donde el *valor* es un array formado por los valores de esa clave en ambos RDD's originales"
   ]
  },
  {
   "cell_type": "code",
   "execution_count": 19,
   "id": "83800249-b9ed-46a9-82a1-1e6ea38aeb55",
   "metadata": {},
   "outputs": [
    {
     "name": "stdout",
     "output_type": "stream",
     "text": [
      "Clave: e\n",
      "Valores de charRDD: [0.8557557820743064]\n",
      "Valores de charRDD2: [0.3384470507939661]\n",
      "Clave: c\n",
      "Valores de charRDD: [0.2095152626782243]\n",
      "Valores de charRDD2: [0.23419542972218188]\n",
      "Clave: f\n",
      "Valores de charRDD: [0.6047797568079555]\n",
      "Valores de charRDD2: [0.49035820673134534]\n",
      "Clave: l\n",
      "Valores de charRDD: [0.19153664154481698]\n",
      "Valores de charRDD2: [0.357001064361923]\n",
      "Clave: n\n",
      "Valores de charRDD: [0.9237495352355761]\n",
      "Valores de charRDD2: [0.6211029457315603]\n"
     ]
    }
   ],
   "source": [
    "import random\n",
    "distinctChars = rdd_st.flatMap(lambda word: word.lower()).distinct()\n",
    "charRDD = distinctChars.map(lambda c: (c, random.random()))\n",
    "charRDD2 = distinctChars.map(lambda c: (c, random.random()))\n",
    "resultado = charRDD.cogroup(charRDD2).take(5)\n",
    "\n",
    "for clave, valores in resultado:\n",
    "    print(\"Clave:\", clave)\n",
    "    print(\"Valores de charRDD:\", list(valores[0]))  # Convertimos el iterable de valores a lista\n",
    "    print(\"Valores de charRDD2:\", list(valores[1])) # Convertimos el iterable de valores a lista"
   ]
  },
  {
   "cell_type": "markdown",
   "id": "e661934a-7492-475d-a42b-1732debcf56a",
   "metadata": {},
   "source": [
    "## joins\n",
    "Hay varios tipos posibles de join\n",
    "- *Inner join*: join()\n",
    "- *Full outer join*: fullOuterJoin()\n",
    "- *left outer join*: leftOuterJoin()\n",
    "- *right outer join*: rightOuterJoin()\n",
    "- *producto cartesiano*: cartesian() (no se recomienda su uso)"
   ]
  },
  {
   "cell_type": "code",
   "execution_count": 23,
   "id": "0dcb3912-3823-4fe5-b5e3-ba9cc3138014",
   "metadata": {},
   "outputs": [
    {
     "name": "stdout",
     "output_type": "stream",
     "text": [
      "Inner join:\n",
      "[('c', (3, 6)), ('a', (1, 4)), ('b', (2, 5))]\n",
      "Full Outer join:\n",
      "[('e', (None, 5)), ('c', (3, 6)), ('d', (4, None)), ('a', (1, 4)), ('b', (2, 5))]\n",
      "Left Outer join:\n",
      "[('c', (3, 6)), ('d', (4, None)), ('a', (1, 4)), ('b', (2, 5))]\n",
      "Right Outer join:\n",
      "[('e', (None, 5)), ('c', (3, 6)), ('a', (1, 4)), ('b', (2, 5))]\n",
      "Cartesian:\n",
      "[(('a', 1), ('a', 4)), (('a', 1), ('b', 5)), (('a', 1), ('c', 6)), (('a', 1), ('e', 5)), (('b', 2), ('a', 4)), (('b', 2), ('b', 5)), (('b', 2), ('c', 6)), (('b', 2), ('e', 5)), (('c', 3), ('a', 4)), (('c', 3), ('b', 5)), (('c', 3), ('c', 6)), (('c', 3), ('e', 5)), (('d', 4), ('a', 4)), (('d', 4), ('b', 5)), (('d', 4), ('c', 6)), (('d', 4), ('e', 5))]\n"
     ]
    }
   ],
   "source": [
    "rdd1 = sc.parallelize([('a', 1), ('b', 2), ('c', 3), ('d', 4)])\n",
    "rdd2 = sc.parallelize([('a', 4), ('b', 5), ('c', 6), ('e', 5)])\n",
    "rdd3 = rdd1.join(rdd2)\n",
    "print(\"Inner join:\")\n",
    "print(rdd3.collect())\n",
    "\n",
    "rdd4 = rdd1.fullOuterJoin(rdd2)\n",
    "print (\"Full Outer join:\")\n",
    "print (rdd4.collect())\n",
    "\n",
    "rdd5 = rdd1.leftOuterJoin(rdd2)\n",
    "print (\"Left Outer join:\")\n",
    "print (rdd5.collect())\n",
    "\n",
    "rdd6 = rdd1.rightOuterJoin(rdd2)\n",
    "print (\"Right Outer join:\")\n",
    "print (rdd6.collect())\n",
    "\n",
    "\n",
    "rdd7 = rdd1.cartesian(rdd2)\n",
    "print (\"Cartesian:\")\n",
    "print (rdd7.collect())"
   ]
  },
  {
   "cell_type": "markdown",
   "id": "088fefc2-7499-4109-b190-9d2892f7aba3",
   "metadata": {},
   "source": [
    "### union\n",
    "Permite unir varios RDD's"
   ]
  },
  {
   "cell_type": "code",
   "execution_count": 12,
   "id": "cc0474f7-92eb-435e-8efd-6ddb27a2cb7e",
   "metadata": {},
   "outputs": [
    {
     "name": "stdout",
     "output_type": "stream",
     "text": [
      "[('a', 1), ('b', 2), ('b', 3), ('a', 3), ('b', 1), ('c', 2)]\n",
      "[('c', 2), ('a', 4), ('b', 6)]\n"
     ]
    }
   ],
   "source": [
    "rdda = sc.parallelize ([('a',1),('b',2),('b',3)])\n",
    "rddb = sc.parallelize ([('a',3),('b',1),('c',2)])\n",
    "rdd_union = rdda.union(rddb)\n",
    "print(rdd_union.collect())\n",
    "# Se puede combinar con reduceByKey()\n",
    "print(rdd_union.reduceByKey(lambda x,y: x+y).collect())"
   ]
  },
  {
   "cell_type": "markdown",
   "id": "9f02ded2-1449-4a4a-a19e-78644537c053",
   "metadata": {},
   "source": [
    "### zip\n",
    "No es exactamente un join pero sirve para unir dos RDD's. En este caso, asume que ambos tienen la misma longitud y crea un RDD clave-valor, donde la clave es un elemento del primer RDD y el valor uno del segundo"
   ]
  },
  {
   "cell_type": "code",
   "execution_count": 27,
   "id": "93fc0a08-81c4-4419-9bc8-41f940ca6883",
   "metadata": {},
   "outputs": [
    {
     "data": {
      "text/plain": [
       "[(0, 'Esta'),\n",
       " (1, 'es'),\n",
       " (2, 'una'),\n",
       " (3, 'frase'),\n",
       " (4, 'de'),\n",
       " (5, 'prueba'),\n",
       " (6, 'a'),\n",
       " (7, 'ver'),\n",
       " (8, 'que'),\n",
       " (9, 'tal')]"
      ]
     },
     "execution_count": 27,
     "metadata": {},
     "output_type": "execute_result"
    }
   ],
   "source": [
    "rdd1 = sc.parallelize(range(10),3)\n",
    "rdd2 = sc.parallelize(\"Esta es una frase de prueba a ver que tal\".split(),3)\n",
    "rdd1.zip(rdd2).collect()"
   ]
  },
  {
   "cell_type": "markdown",
   "id": "bd4515a2-90a5-4859-b7d7-520d8d79a309",
   "metadata": {},
   "source": [
    "## Controlando particiones\n",
    "La API de RDD's permite controlar cómo se distribuyen físicamente los datos a través del cluster.\n",
    "### coalesce\n",
    "Permite *colapsar* las particiones que se encuentran en el mismo *worker* con el objetivo de evitar *barajar* los datos al reparticionar."
   ]
  },
  {
   "cell_type": "code",
   "execution_count": 34,
   "id": "a7607fce-73ac-482a-b582-8422664b47a7",
   "metadata": {},
   "outputs": [
    {
     "name": "stdout",
     "output_type": "stream",
     "text": [
      "20\n",
      "2\n"
     ]
    }
   ],
   "source": [
    "print (rdd_st.getNumPartitions())\n",
    "print (rdd_st.coalesce(2).getNumPartitions())"
   ]
  },
  {
   "cell_type": "markdown",
   "id": "faaf961b-4695-4f9d-b051-f9fc39bf0460",
   "metadata": {},
   "source": [
    "### repartition\n",
    "Permite modificar el número de particiones, pero realiza un proceso de *baraje* a través de los nodos."
   ]
  },
  {
   "cell_type": "code",
   "execution_count": 33,
   "id": "386e2675-9bc9-4a6d-8d49-31b7c9052470",
   "metadata": {},
   "outputs": [
    {
     "name": "stdout",
     "output_type": "stream",
     "text": [
      "4\n"
     ]
    }
   ],
   "source": [
    "print (rdd_st.repartition(4).getNumPartitions())"
   ]
  },
  {
   "cell_type": "markdown",
   "id": "f8aafaae-438a-4791-a272-05c0692e52df",
   "metadata": {},
   "source": [
    "### repartitionAndSortWithinPartitions\n",
    "Permite reparticionar y, además, ordenar los valores dentro de cada partición. Admite los siguientes parámetros:\n",
    "- *num_particiones* ( *numPartitions*): Opcional. Permite establecer el número de particiones\n",
    "- *funcion_particionamiento* (*partitionFunc*): Opcional. Permite controlar el índice de particiones\n",
    "- *ascendente* (*ascending*): Opcional. Permite establecer si el ordenamiento es ascendente (por defecto) o descendente.\n",
    "- *funcion_clave* (*keyfunc*): Permite realizar cálculos sobre la clave\n"
   ]
  },
  {
   "cell_type": "code",
   "execution_count": 46,
   "id": "52c3dcd6-879e-4c6c-973c-218cdb2fb175",
   "metadata": {},
   "outputs": [
    {
     "data": {
      "text/plain": [
       "[[(0, 5), (0, 8), (2, 6)], [(1, 3), (3, 8), (3, 8)]]"
      ]
     },
     "execution_count": 46,
     "metadata": {},
     "output_type": "execute_result"
    }
   ],
   "source": [
    "\n",
    "rdd = sc.parallelize([(0, 5), (3, 8), (2, 6), (0, 8), (3, 8), (1, 3)])\n",
    "rdd2 = rdd.repartitionAndSortWithinPartitions(2, lambda x: x % 2, True)\n",
    "rdd2.glom().collect()\n"
   ]
  },
  {
   "cell_type": "code",
   "execution_count": null,
   "id": "c562a19a-0678-47e9-80cc-c59324c6c9e4",
   "metadata": {},
   "outputs": [],
   "source": []
  },
  {
   "cell_type": "code",
   "execution_count": null,
   "id": "f8607b21-caf4-4de3-93b5-b1b88cb870b9",
   "metadata": {},
   "outputs": [],
   "source": []
  }
 ],
 "metadata": {
  "kernelspec": {
   "display_name": "Python 3 (ipykernel)",
   "language": "python",
   "name": "python3"
  },
  "language_info": {
   "codemirror_mode": {
    "name": "ipython",
    "version": 3
   },
   "file_extension": ".py",
   "mimetype": "text/x-python",
   "name": "python",
   "nbconvert_exporter": "python",
   "pygments_lexer": "ipython3",
   "version": "3.11.2"
  }
 },
 "nbformat": 4,
 "nbformat_minor": 5
}
