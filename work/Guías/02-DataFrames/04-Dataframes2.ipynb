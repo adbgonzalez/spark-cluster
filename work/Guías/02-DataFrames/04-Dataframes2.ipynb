{
 "cells": [
  {
   "cell_type": "markdown",
   "id": "23fd43e5-4d09-4e94-aa83-84ea1e2c7bc2",
   "metadata": {},
   "source": [
    "# DataFrames: Operaciones avanzadas\n",
    "Ahora que ya conocemos las operaciones básicas con *DataFrames* es el momento de ver algunas operaciones más complejas, como por ejemplo:\n",
    "- Joins\n",
    "- Agrupaciones complejas\n",
    "- Operaciones con ventanas\n",
    "- Rollups\n",
    "- Cubos\n",
    "- Pivotes\n",
    "\n",
    "Para que funcionen algunos ejemplos, esta vez al crear la *SparkSession* usaremos una configuración especial para manejar fechas."
   ]
  },
  {
   "cell_type": "code",
   "execution_count": 3,
   "id": "82059df1-f06a-4c9d-bbc7-719eb537b090",
   "metadata": {},
   "outputs": [],
   "source": [
    "from pyspark.sql import SparkSession\n",
    "spark = SparkSession.builder \\\n",
    "    .appName(\"MyApp\") \\\n",
    "    .config(\"spark.sql.legacy.timeParserPolicy\", \"LEGACY\") \\\n",
    "    .getOrCreate()\n",
    "sc = spark.sparkContext"
   ]
  },
  {
   "cell_type": "markdown",
   "id": "114f021c-e3de-4573-a068-664fca37fc0a",
   "metadata": {},
   "source": [
    "## Joins\n",
    "Antes de nada vamos a crear unos dataframes de ejemplo para trabajar con joins"
   ]
  },
  {
   "cell_type": "code",
   "execution_count": 3,
   "id": "1ba1662c-5db6-4949-a659-03c413af278b",
   "metadata": {},
   "outputs": [
    {
     "name": "stdout",
     "output_type": "stream",
     "text": [
      "+---+----------------+--------+---------------+\n",
      "| id|            name|graduate|          marks|\n",
      "+---+----------------+--------+---------------+\n",
      "|  0|   Bill Chambers|       0|          [100]|\n",
      "|  1|   Matel Zaharla|       1|[500, 250, 100]|\n",
      "|  2|Michael Armbrust|       1|     [250, 100]|\n",
      "+---+----------------+--------+---------------+\n",
      "\n",
      "+---+-------+--------------------+-----------+\n",
      "| id| degree|          department|      scool|\n",
      "+---+-------+--------------------+-----------+\n",
      "|  0|Masters|School of Informa...|UC Berkeley|\n",
      "|  2|Masters|                EECS|UC Berkeley|\n",
      "|  1| Ph. D.|                EECS|UC Berkeley|\n",
      "+---+-------+--------------------+-----------+\n",
      "\n",
      "+---+--------------+\n",
      "| id|        status|\n",
      "+---+--------------+\n",
      "|500|Vice President|\n",
      "|250|    PMC Member|\n",
      "|100|   Contributer|\n",
      "+---+--------------+\n",
      "\n"
     ]
    }
   ],
   "source": [
    "person = spark.createDataFrame([(0, \"Bill Chambers\", 0, [100]), (1, \"Matel Zaharla\", 1, [500, 250, 100]), (2, \"Michael Armbrust\", 1, [250, 100])]).toDF(\"id\", \"name\", \"graduate\", \"marks\")\n",
    "person.show()\n",
    "\n",
    "graduate_program = spark.createDataFrame([(0, \"Masters\", \"School of Information\", \"UC Berkeley\"), (2, \"Masters\", \"EECS\", \"UC Berkeley\"), (1, \"Ph. D.\", \"EECS\", \"UC Berkeley\")]).toDF(\"id\", \"degree\", \"department\", \"scool\")\n",
    "graduate_program.show()\n",
    "spark_status = spark.createDataFrame([(500, \"Vice President\"), (250, \"PMC Member\"), (100, \"Contributer\")]).toDF(\"id\", \"status\")\n",
    "spark_status.show()\n"
   ]
  },
  {
   "cell_type": "markdown",
   "id": "6f0c5e48-beab-4131-8c2b-10d5621ec3ac",
   "metadata": {},
   "source": [
    "### Inner join\n",
    "Evalúa las claves en ambos dataframes e incluye sólo las filas cuya evaluación es verdadera"
   ]
  },
  {
   "cell_type": "code",
   "execution_count": 5,
   "id": "6b2c737a-fd08-473d-a393-eb25dbb40f7a",
   "metadata": {
    "scrolled": true
   },
   "outputs": [
    {
     "name": "stdout",
     "output_type": "stream",
     "text": [
      "+---+----------------+--------+---------------+---+-------+--------------------+-----------+\n",
      "| id|            name|graduate|          marks| id| degree|          department|      scool|\n",
      "+---+----------------+--------+---------------+---+-------+--------------------+-----------+\n",
      "|  0|   Bill Chambers|       0|          [100]|  0|Masters|School of Informa...|UC Berkeley|\n",
      "|  1|   Matel Zaharla|       1|[500, 250, 100]|  1| Ph. D.|                EECS|UC Berkeley|\n",
      "|  2|Michael Armbrust|       1|     [250, 100]|  1| Ph. D.|                EECS|UC Berkeley|\n",
      "+---+----------------+--------+---------------+---+-------+--------------------+-----------+\n",
      "\n"
     ]
    }
   ],
   "source": [
    "join_expression = person[\"graduate\"] == graduate_program[\"id\"]\n",
    "person.join(graduate_program,join_expression).show()"
   ]
  },
  {
   "cell_type": "markdown",
   "id": "79ba44b1-893a-43be-9fbe-6c9e809d716e",
   "metadata": {},
   "source": [
    "### Outer join\n",
    "Evalúa las claves en ambos dataframes y devuelve las filas cuya evaluación es verdadera o falsa, poniendo a NULL los campos para los que no tenga valor"
   ]
  },
  {
   "cell_type": "code",
   "execution_count": 6,
   "id": "3f821d31-9684-4896-ae31-c617fbeb1177",
   "metadata": {},
   "outputs": [
    {
     "name": "stdout",
     "output_type": "stream",
     "text": [
      "+----+----------------+--------+---------------+---+-------+--------------------+-----------+\n",
      "|  id|            name|graduate|          marks| id| degree|          department|      scool|\n",
      "+----+----------------+--------+---------------+---+-------+--------------------+-----------+\n",
      "|   0|   Bill Chambers|       0|          [100]|  0|Masters|School of Informa...|UC Berkeley|\n",
      "|   1|   Matel Zaharla|       1|[500, 250, 100]|  1| Ph. D.|                EECS|UC Berkeley|\n",
      "|   2|Michael Armbrust|       1|     [250, 100]|  1| Ph. D.|                EECS|UC Berkeley|\n",
      "|NULL|            NULL|    NULL|           NULL|  2|Masters|                EECS|UC Berkeley|\n",
      "+----+----------------+--------+---------------+---+-------+--------------------+-----------+\n",
      "\n"
     ]
    }
   ],
   "source": [
    "join_type = \"outer\"\n",
    "person.join(graduate_program,join_expression, join_type).show()"
   ]
  },
  {
   "cell_type": "markdown",
   "id": "571df2e3-226a-4696-a0b3-f4c8712d9d7f",
   "metadata": {},
   "source": [
    "### Left Outer join\n",
    "Evalúa las claves en ambos dataframes y devuelve todas las filas del Dataframe de la izquierda, unidas a las filas del Dataframe de la derecha que han sido evaluadas como verdaderas. Se pone a NUll los camos del Dataframe derecho que no tengan valor"
   ]
  },
  {
   "cell_type": "code",
   "execution_count": 7,
   "id": "f18e0163-23e8-494c-b2ff-3bf6320ebbda",
   "metadata": {},
   "outputs": [
    {
     "name": "stdout",
     "output_type": "stream",
     "text": [
      "+---+----------------+--------+---------------+---+-------+--------------------+-----------+\n",
      "| id|            name|graduate|          marks| id| degree|          department|      scool|\n",
      "+---+----------------+--------+---------------+---+-------+--------------------+-----------+\n",
      "|  0|   Bill Chambers|       0|          [100]|  0|Masters|School of Informa...|UC Berkeley|\n",
      "|  1|   Matel Zaharla|       1|[500, 250, 100]|  1| Ph. D.|                EECS|UC Berkeley|\n",
      "|  2|Michael Armbrust|       1|     [250, 100]|  1| Ph. D.|                EECS|UC Berkeley|\n",
      "+---+----------------+--------+---------------+---+-------+--------------------+-----------+\n",
      "\n"
     ]
    }
   ],
   "source": [
    "join_type = \"left_outer\"\n",
    "person.join(graduate_program,join_expression, join_type).show()"
   ]
  },
  {
   "cell_type": "markdown",
   "id": "b4f14ec1-7fc1-4a4f-a9c6-17f3a502ebe2",
   "metadata": {},
   "source": [
    "### Right outer join\n",
    "Evalúa las claves en ambos dataframes y devuelve todas las filas del Dataframe de la izquierda, unidas a las filas del Dataframe de la derecha que han sido evaluadas como verdaderas. Se pone a NUll los camos del Dataframe derecho que no tengan valor"
   ]
  },
  {
   "cell_type": "code",
   "execution_count": 8,
   "id": "5aaf9686-525b-46b5-a03d-a3556bae4dc5",
   "metadata": {},
   "outputs": [
    {
     "name": "stdout",
     "output_type": "stream",
     "text": [
      "+----+----------------+--------+---------------+---+-------+--------------------+-----------+\n",
      "|  id|            name|graduate|          marks| id| degree|          department|      scool|\n",
      "+----+----------------+--------+---------------+---+-------+--------------------+-----------+\n",
      "|   0|   Bill Chambers|       0|          [100]|  0|Masters|School of Informa...|UC Berkeley|\n",
      "|NULL|            NULL|    NULL|           NULL|  2|Masters|                EECS|UC Berkeley|\n",
      "|   2|Michael Armbrust|       1|     [250, 100]|  1| Ph. D.|                EECS|UC Berkeley|\n",
      "|   1|   Matel Zaharla|       1|[500, 250, 100]|  1| Ph. D.|                EECS|UC Berkeley|\n",
      "+----+----------------+--------+---------------+---+-------+--------------------+-----------+\n",
      "\n"
     ]
    }
   ],
   "source": [
    "join_type = \"right_outer\"\n",
    "person.join(graduate_program,join_expression, join_type).show()"
   ]
  },
  {
   "cell_type": "markdown",
   "id": "d0671797-adb3-481b-b276-064963d75e2b",
   "metadata": {},
   "source": [
    "### Left semi joins\n",
    "Este tipo de \"join\" no incluye datos del segundo DataFrame. Simplemente se limita a mostrar las filas del primer DataFrame que tienen sus correspondientes datos en el segundo"
   ]
  },
  {
   "cell_type": "code",
   "execution_count": 9,
   "id": "04f44992-4ad4-4397-bef0-1d871653780d",
   "metadata": {},
   "outputs": [
    {
     "name": "stdout",
     "output_type": "stream",
     "text": [
      "+---+----------------+--------+---------------+\n",
      "| id|            name|graduate|          marks|\n",
      "+---+----------------+--------+---------------+\n",
      "|  0|   Bill Chambers|       0|          [100]|\n",
      "|  1|   Matel Zaharla|       1|[500, 250, 100]|\n",
      "|  2|Michael Armbrust|       1|     [250, 100]|\n",
      "+---+----------------+--------+---------------+\n",
      "\n"
     ]
    }
   ],
   "source": [
    "join_type = \"left_semi\"\n",
    "person.join(graduate_program,join_expression, join_type).show()"
   ]
  },
  {
   "cell_type": "markdown",
   "id": "8f9d0913-ab77-496c-bf83-e6713e2256ae",
   "metadata": {},
   "source": [
    "### left anti\n",
    "Sol lo opuesto a los *left semi joins*"
   ]
  },
  {
   "cell_type": "code",
   "execution_count": 10,
   "id": "f88c4e2a-24fa-461c-9bf8-1fcd8642330a",
   "metadata": {},
   "outputs": [
    {
     "name": "stdout",
     "output_type": "stream",
     "text": [
      "+---+----+--------+-----+\n",
      "| id|name|graduate|marks|\n",
      "+---+----+--------+-----+\n",
      "+---+----+--------+-----+\n",
      "\n"
     ]
    }
   ],
   "source": [
    "join_type = \"left_anti\"\n",
    "person.join(graduate_program,join_expression, join_type).show()"
   ]
  },
  {
   "cell_type": "markdown",
   "id": "0be531b6-320a-4587-9bd3-a98937e19619",
   "metadata": {},
   "source": [
    "### cross joins\n",
    "Realiza un producto cartesiano"
   ]
  },
  {
   "cell_type": "code",
   "execution_count": 11,
   "id": "ea60a056-316c-4a95-9841-e2b3f976aa00",
   "metadata": {},
   "outputs": [
    {
     "name": "stdout",
     "output_type": "stream",
     "text": [
      "+---+----------------+--------+---------------+---+-------+--------------------+-----------+\n",
      "| id|            name|graduate|          marks| id| degree|          department|      scool|\n",
      "+---+----------------+--------+---------------+---+-------+--------------------+-----------+\n",
      "|  0|   Bill Chambers|       0|          [100]|  0|Masters|School of Informa...|UC Berkeley|\n",
      "|  0|   Bill Chambers|       0|          [100]|  2|Masters|                EECS|UC Berkeley|\n",
      "|  0|   Bill Chambers|       0|          [100]|  1| Ph. D.|                EECS|UC Berkeley|\n",
      "|  1|   Matel Zaharla|       1|[500, 250, 100]|  0|Masters|School of Informa...|UC Berkeley|\n",
      "|  1|   Matel Zaharla|       1|[500, 250, 100]|  2|Masters|                EECS|UC Berkeley|\n",
      "|  1|   Matel Zaharla|       1|[500, 250, 100]|  1| Ph. D.|                EECS|UC Berkeley|\n",
      "|  2|Michael Armbrust|       1|     [250, 100]|  0|Masters|School of Informa...|UC Berkeley|\n",
      "|  2|Michael Armbrust|       1|     [250, 100]|  2|Masters|                EECS|UC Berkeley|\n",
      "|  2|Michael Armbrust|       1|     [250, 100]|  1| Ph. D.|                EECS|UC Berkeley|\n",
      "+---+----------------+--------+---------------+---+-------+--------------------+-----------+\n",
      "\n"
     ]
    }
   ],
   "source": [
    "person.crossJoin(graduate_program).show()"
   ]
  },
  {
   "cell_type": "markdown",
   "id": "1d807cb4-bc02-40ea-9433-3ab250717880",
   "metadata": {},
   "source": [
    "## Operaciones con ventanas\n",
    "Se pueden usar *operaciones con ventanas* para conseguir *agregaciones* únicas sobre *\"ventanas\"* específicas de datos, que se definen referenciando los datos actuales. Esta especificación de ventana define que columnas se pasarán a esta función. Vamos a ver en qué se diferencia de un *group-by* clásico.\n",
    "\n",
    "En un *group-by*, cada fila pertenece solamente a una agrupación. Una *función de ventana* devuelve un valor para cada fila de entrada basado en un grupo de filas, al que llamaremos *marco*. Cada fila puede pertenecer a más de un marco. Un ejemplo sería calcular la media de un determinado valor para el cual cada fila representa un día de la semana. Así, cada fila acabaría en siete marcos diferentes.\n",
    "![Funciones con ventanas](./images/windows.png)\n",
    "Vamos a añadir una nueva columna a nuestro Dataframe que contiene la fecha pero sin horas ni minutos:"
   ]
  },
  {
   "cell_type": "code",
   "execution_count": 4,
   "id": "400679e4-240b-46b2-956d-caa9ad3479df",
   "metadata": {
    "scrolled": true
   },
   "outputs": [
    {
     "name": "stdout",
     "output_type": "stream",
     "text": [
      "root\n",
      " |-- InvoiceNo: string (nullable = true)\n",
      " |-- StockCode: string (nullable = true)\n",
      " |-- Description: string (nullable = true)\n",
      " |-- Quantity: integer (nullable = true)\n",
      " |-- InvoiceDate: string (nullable = true)\n",
      " |-- UnitPrice: double (nullable = true)\n",
      " |-- CustomerID: integer (nullable = true)\n",
      " |-- Country: string (nullable = true)\n",
      "\n",
      "+---------+---------+--------------------+--------+---------+----------+--------------+----------+\n",
      "|InvoiceNo|StockCode|         Description|Quantity|UnitPrice|CustomerID|       Country|      date|\n",
      "+---------+---------+--------------------+--------+---------+----------+--------------+----------+\n",
      "|   536365|   85123A|WHITE HANGING HEA...|       6|     2.55|     17850|United Kingdom|2010-12-01|\n",
      "|   536365|    71053| WHITE METAL LANTERN|       6|     3.39|     17850|United Kingdom|2010-12-01|\n",
      "|   536365|   84406B|CREAM CUPID HEART...|       8|     2.75|     17850|United Kingdom|2010-12-01|\n",
      "|   536365|   84029G|KNITTED UNION FLA...|       6|     3.39|     17850|United Kingdom|2010-12-01|\n",
      "|   536365|   84029E|RED WOOLLY HOTTIE...|       6|     3.39|     17850|United Kingdom|2010-12-01|\n",
      "|   536365|    22752|SET 7 BABUSHKA NE...|       2|     7.65|     17850|United Kingdom|2010-12-01|\n",
      "|   536365|    21730|GLASS STAR FROSTE...|       6|     4.25|     17850|United Kingdom|2010-12-01|\n",
      "|   536366|    22633|HAND WARMER UNION...|       6|     1.85|     17850|United Kingdom|2010-12-01|\n",
      "|   536366|    22632|HAND WARMER RED P...|       6|     1.85|     17850|United Kingdom|2010-12-01|\n",
      "|   536367|    84879|ASSORTED COLOUR B...|      32|     1.69|     13047|United Kingdom|2010-12-01|\n",
      "|   536367|    22745|POPPY'S PLAYHOUSE...|       6|      2.1|     13047|United Kingdom|2010-12-01|\n",
      "|   536367|    22748|POPPY'S PLAYHOUSE...|       6|      2.1|     13047|United Kingdom|2010-12-01|\n",
      "|   536367|    22749|FELTCRAFT PRINCES...|       8|     3.75|     13047|United Kingdom|2010-12-01|\n",
      "|   536367|    22310|IVORY KNITTED MUG...|       6|     1.65|     13047|United Kingdom|2010-12-01|\n",
      "|   536367|    84969|BOX OF 6 ASSORTED...|       6|     4.25|     13047|United Kingdom|2010-12-01|\n",
      "|   536367|    22623|BOX OF VINTAGE JI...|       3|     4.95|     13047|United Kingdom|2010-12-01|\n",
      "|   536367|    22622|BOX OF VINTAGE AL...|       2|     9.95|     13047|United Kingdom|2010-12-01|\n",
      "|   536367|    21754|HOME BUILDING BLO...|       3|     5.95|     13047|United Kingdom|2010-12-01|\n",
      "|   536367|    21755|LOVE BUILDING BLO...|       3|     5.95|     13047|United Kingdom|2010-12-01|\n",
      "|   536367|    21777|RECIPE BOX WITH M...|       4|     7.95|     13047|United Kingdom|2010-12-01|\n",
      "+---------+---------+--------------------+--------+---------+----------+--------------+----------+\n",
      "only showing top 20 rows\n",
      "\n"
     ]
    }
   ],
   "source": [
    "from pyspark.sql.functions import col, to_timestamp, date_format\n",
    "#df_con_timestamp = df_ag.withColumn(\"timestamp\", to_timestamp(col(\"InvoiceDate\"), \"MM/d/yyyy H:mm\"))\n",
    "#df_con_fecha = df_con_timestamp.withColumn(\"date\", date_format(col(\"timestamp\"),\"yyyy-MM-dd\"))\n",
    "\n",
    "df_ag = spark.read.format(\"csv\")\\\n",
    "  .option(\"header\", \"true\")\\\n",
    "  .option(\"inferSchema\", \"true\")\\\n",
    "  .load(\"/home/jovyan/work/data/retail-data/all/*.csv\")\\\n",
    "  .coalesce(5)\n",
    "df_ag.cache()\n",
    "df_ag.createOrReplaceTempView(\"dfTable\")\n",
    "df_ag.printSchema()\n",
    "\n",
    "df_con_fecha = df_ag.withColumn(\"date\", date_format(to_timestamp(col(\"InvoiceDate\"), \"MM/d/yyyy H:mm\"), \"yyyy-MM-dd\"))\n",
    "df_con_fecha = df_con_fecha.drop('InvoiceDate')\n",
    "df_con_fecha.createOrReplaceTempView(\"df_con_fecha\")\n",
    "df_con_fecha.show()"
   ]
  },
  {
   "cell_type": "markdown",
   "id": "f80c3de9-bacb-42d2-aebd-9073206baa0a",
   "metadata": {},
   "source": [
    "El primer paso para una *función de ventana* es crear una *especificación de ventana*. La función *partitionBy* no está relacionada con el concepto de particiones visto hasta ahora, simplemente especifica como \"partiremos\" en grupos. La función *orderBy* determina el orden dentro de cada partición. Por último, la función *rowsBetween* especifica que filas se incluyen en el marco en función de la fila de entrada actual. En el siguiente ejemplo, nos fijamos entodas las filas anteriores a la actual:"
   ]
  },
  {
   "cell_type": "code",
   "execution_count": 40,
   "id": "61cd2b46-d8e4-4088-8d99-b4d8aa84fa9c",
   "metadata": {},
   "outputs": [],
   "source": [
    "from pyspark.sql.window import Window\n",
    "from pyspark.sql.functions import desc\n",
    "\n",
    "windowSpec = Window\\\n",
    "    .partitionBy(\"CustomerId\", \"date\")\\\n",
    "    .orderBy(desc(\"Quantity\"))\\\n",
    "    .rowsBetween(Window.unboundedPreceding, Window.currentRow)"
   ]
  },
  {
   "cell_type": "markdown",
   "id": "b0614b4d-36ac-4aec-ad0e-63454e26db62",
   "metadata": {},
   "source": [
    "El siguiente paso es usar una *agregación* para, en este caso, aprender más sobre cada cliente (customer). Un ejemplo podría ser obtener la cantidad (quantity) máxima de compra durante todos los tiempos. Para ello vamos a usar una de las funcionesya vistas, indicando la especificación de ventana que define los marcos de datos sobre los que se aplicará esta función."
   ]
  },
  {
   "cell_type": "code",
   "execution_count": 41,
   "id": "8e6c507d-64e5-4289-81b1-21ed1e6fe1f9",
   "metadata": {},
   "outputs": [],
   "source": [
    "from pyspark.sql.functions import max\n",
    "\n",
    "maxPurchaseQuantity = max(col(\"Quantity\")).over(windowSpec)\n"
   ]
  },
  {
   "cell_type": "markdown",
   "id": "5fe50441-d85c-4baa-ae7f-21e6d50e9db2",
   "metadata": {},
   "source": [
    "La función anterior devuelve una columna o expresión. Ésta puede usarse en una sentencia Select de un DataFrame. Antes, es necesario crear el ranking de cantidad (quantity). Para ello podemos usar dos funciones:\n",
    "- **dense_rank**: Evita la aparición de \"huecos\" en la secuencia cuando hay valores empatados.\n",
    "- **rank**: No evita la aparición de \"huecos\" en la secuencia cuando hay valores empatados."
   ]
  },
  {
   "cell_type": "code",
   "execution_count": 42,
   "id": "f7a69e0c-21e8-480d-9c3e-c5f7c925eb6e",
   "metadata": {},
   "outputs": [
    {
     "name": "stdout",
     "output_type": "stream",
     "text": [
      "+---------+---------+--------------------+--------+---------+----------+--------------+----------+\n",
      "|InvoiceNo|StockCode|         Description|Quantity|UnitPrice|CustomerID|       Country|      date|\n",
      "+---------+---------+--------------------+--------+---------+----------+--------------+----------+\n",
      "|   536365|   85123A|WHITE HANGING HEA...|       6|     2.55|     17850|United Kingdom|2010-12-01|\n",
      "|   536365|    71053| WHITE METAL LANTERN|       6|     3.39|     17850|United Kingdom|2010-12-01|\n",
      "|   536365|   84406B|CREAM CUPID HEART...|       8|     2.75|     17850|United Kingdom|2010-12-01|\n",
      "|   536365|   84029G|KNITTED UNION FLA...|       6|     3.39|     17850|United Kingdom|2010-12-01|\n",
      "|   536365|   84029E|RED WOOLLY HOTTIE...|       6|     3.39|     17850|United Kingdom|2010-12-01|\n",
      "|   536365|    22752|SET 7 BABUSHKA NE...|       2|     7.65|     17850|United Kingdom|2010-12-01|\n",
      "|   536365|    21730|GLASS STAR FROSTE...|       6|     4.25|     17850|United Kingdom|2010-12-01|\n",
      "|   536366|    22633|HAND WARMER UNION...|       6|     1.85|     17850|United Kingdom|2010-12-01|\n",
      "|   536366|    22632|HAND WARMER RED P...|       6|     1.85|     17850|United Kingdom|2010-12-01|\n",
      "|   536367|    84879|ASSORTED COLOUR B...|      32|     1.69|     13047|United Kingdom|2010-12-01|\n",
      "|   536367|    22745|POPPY'S PLAYHOUSE...|       6|      2.1|     13047|United Kingdom|2010-12-01|\n",
      "|   536367|    22748|POPPY'S PLAYHOUSE...|       6|      2.1|     13047|United Kingdom|2010-12-01|\n",
      "|   536367|    22749|FELTCRAFT PRINCES...|       8|     3.75|     13047|United Kingdom|2010-12-01|\n",
      "|   536367|    22310|IVORY KNITTED MUG...|       6|     1.65|     13047|United Kingdom|2010-12-01|\n",
      "|   536367|    84969|BOX OF 6 ASSORTED...|       6|     4.25|     13047|United Kingdom|2010-12-01|\n",
      "|   536367|    22623|BOX OF VINTAGE JI...|       3|     4.95|     13047|United Kingdom|2010-12-01|\n",
      "|   536367|    22622|BOX OF VINTAGE AL...|       2|     9.95|     13047|United Kingdom|2010-12-01|\n",
      "|   536367|    21754|HOME BUILDING BLO...|       3|     5.95|     13047|United Kingdom|2010-12-01|\n",
      "|   536367|    21755|LOVE BUILDING BLO...|       3|     5.95|     13047|United Kingdom|2010-12-01|\n",
      "|   536367|    21777|RECIPE BOX WITH M...|       4|     7.95|     13047|United Kingdom|2010-12-01|\n",
      "+---------+---------+--------------------+--------+---------+----------+--------------+----------+\n",
      "only showing top 20 rows\n",
      "\n"
     ]
    }
   ],
   "source": [
    "from pyspark.sql.functions import dense_rank, rank\n",
    "purchaseDenseRank = dense_rank().over(windowSpec)\n",
    "purchaseRank = rank().over(windowSpec)\n",
    "\n",
    "df_con_fecha.show()"
   ]
  },
  {
   "cell_type": "markdown",
   "id": "510ae0bc-8836-4140-9559-c9a76491336d",
   "metadata": {},
   "source": [
    "Esto también devuelve columnas que pueden ser usadas en sentencia *select*. Así podemos construir un *select* para visualizar todos los *valores de ventana* calculados.\n"
   ]
  },
  {
   "cell_type": "code",
   "execution_count": 43,
   "id": "deec3126-ce40-403d-b0f2-8a95f9da2490",
   "metadata": {},
   "outputs": [
    {
     "name": "stdout",
     "output_type": "stream",
     "text": [
      "+----------+----------+--------+------------+-----------------+-------------------+\n",
      "|CustomerId|      date|Quantity|quantityRank|quantityDenseRank|maxPurchaseQuantity|\n",
      "+----------+----------+--------+------------+-----------------+-------------------+\n",
      "|     12346|2011-01-18|   74215|           1|                1|              74215|\n",
      "|     12346|2011-01-18|  -74215|           2|                2|              74215|\n",
      "|     12347|2010-12-07|      36|           1|                1|                 36|\n",
      "|     12347|2010-12-07|      30|           2|                2|                 36|\n",
      "|     12347|2010-12-07|      24|           3|                3|                 36|\n",
      "|     12347|2010-12-07|      12|           4|                4|                 36|\n",
      "|     12347|2010-12-07|      12|           4|                4|                 36|\n",
      "|     12347|2010-12-07|      12|           4|                4|                 36|\n",
      "|     12347|2010-12-07|      12|           4|                4|                 36|\n",
      "|     12347|2010-12-07|      12|           4|                4|                 36|\n",
      "|     12347|2010-12-07|      12|           4|                4|                 36|\n",
      "|     12347|2010-12-07|      12|           4|                4|                 36|\n",
      "|     12347|2010-12-07|      12|           4|                4|                 36|\n",
      "|     12347|2010-12-07|      12|           4|                4|                 36|\n",
      "|     12347|2010-12-07|      12|           4|                4|                 36|\n",
      "|     12347|2010-12-07|      12|           4|                4|                 36|\n",
      "|     12347|2010-12-07|      12|           4|                4|                 36|\n",
      "|     12347|2010-12-07|      12|           4|                4|                 36|\n",
      "|     12347|2010-12-07|       6|          17|                5|                 36|\n",
      "|     12347|2010-12-07|       6|          17|                5|                 36|\n",
      "+----------+----------+--------+------------+-----------------+-------------------+\n",
      "only showing top 20 rows\n",
      "\n"
     ]
    }
   ],
   "source": [
    "df_con_fecha.where(\"CustomerId IS NOT NULL\").orderBy(\"CustomerId\")\\\n",
    "  .select(\n",
    "    col(\"CustomerId\"),\n",
    "    col(\"date\"),\n",
    "    col(\"Quantity\"),\n",
    "    purchaseRank.alias(\"quantityRank\"),\n",
    "    purchaseDenseRank.alias(\"quantityDenseRank\"),\n",
    "    maxPurchaseQuantity.alias(\"maxPurchaseQuantity\")).show()"
   ]
  },
  {
   "cell_type": "markdown",
   "id": "fefc6ddd-ec29-4b53-8566-ed9283a50d4a",
   "metadata": {},
   "source": [
    "## Grouping sets\n",
    "Hasta ahora hemos visto agrupaciones simples que agregan un conjunto de columnas con los valores presentes en las mismas. Sin embargo, a veces pueden ser necesarias operaciones más complejas, como agregár a través de múltiples grupos. Para ello podemos usar los *grouping sets*. Éstos son una herramienta de bajo nivel que permite combinar conjuntos de agregación.\n",
    "\n",
    "Para entenderlo mejor, veamos el siguiente ejemplo:"
   ]
  },
  {
   "cell_type": "code",
   "execution_count": 31,
   "id": "b11561ca-3a9f-457b-a7dc-8fd0319f2c98",
   "metadata": {},
   "outputs": [
    {
     "name": "stdout",
     "output_type": "stream",
     "text": [
      "+----------+---------+-------------+\n",
      "|CustomerId|stockCode|sum(Quantity)|\n",
      "+----------+---------+-------------+\n",
      "|     18287|    85173|           48|\n",
      "|     18287|   85040A|           48|\n",
      "|     18287|   85039B|          120|\n",
      "|     18287|   85039A|           96|\n",
      "|     18287|    84920|            4|\n",
      "|     18287|    84584|            6|\n",
      "|     18287|   84507C|            6|\n",
      "|     18287|   72351B|           24|\n",
      "|     18287|   72351A|           24|\n",
      "|     18287|   72349B|           60|\n",
      "|     18287|    47422|           24|\n",
      "|     18287|    47421|           48|\n",
      "|     18287|    35967|           36|\n",
      "|     18287|    23445|           20|\n",
      "|     18287|    23378|           24|\n",
      "|     18287|    23376|           48|\n",
      "|     18287|    23310|           36|\n",
      "|     18287|    23274|           12|\n",
      "|     18287|    23272|           12|\n",
      "|     18287|    23269|           36|\n",
      "+----------+---------+-------------+\n",
      "only showing top 20 rows\n",
      "\n"
     ]
    }
   ],
   "source": [
    "df_no_nulo = df_con_fecha.drop()\n",
    "df_no_nulo.createOrReplaceTempView(\"dfNoNulo\")\n",
    "spark.sql(\"SELECT CustomerId, stockCode, sum(Quantity) FROM dfNoNulo GROUP BY customerId, stockCode ORDER BY CustomerId DESC, stockCode DESC\").show()"
   ]
  },
  {
   "cell_type": "markdown",
   "id": "6dc9cbc1-8e39-46be-b3a3-6e45f21d19a4",
   "metadata": {},
   "source": [
    "blablabla"
   ]
  },
  {
   "cell_type": "code",
   "execution_count": 32,
   "id": "27939854-8d43-40d7-84e6-30214e69b7a4",
   "metadata": {},
   "outputs": [
    {
     "name": "stdout",
     "output_type": "stream",
     "text": [
      "+----------+---------+-------------+\n",
      "|customerId|stockCode|sum(Quantity)|\n",
      "+----------+---------+-------------+\n",
      "|     18287|    85173|           48|\n",
      "|     18287|   85040A|           48|\n",
      "|     18287|   85039B|          120|\n",
      "|     18287|   85039A|           96|\n",
      "|     18287|    84920|            4|\n",
      "|     18287|    84584|            6|\n",
      "|     18287|   84507C|            6|\n",
      "|     18287|   72351B|           24|\n",
      "|     18287|   72351A|           24|\n",
      "|     18287|   72349B|           60|\n",
      "|     18287|    47422|           24|\n",
      "|     18287|    47421|           48|\n",
      "|     18287|    35967|           36|\n",
      "|     18287|    23445|           20|\n",
      "|     18287|    23378|           24|\n",
      "|     18287|    23376|           48|\n",
      "|     18287|    23310|           36|\n",
      "|     18287|    23274|           12|\n",
      "|     18287|    23272|           12|\n",
      "|     18287|    23269|           36|\n",
      "+----------+---------+-------------+\n",
      "only showing top 20 rows\n",
      "\n"
     ]
    }
   ],
   "source": [
    "spark.sql(\"SELECT CustomerId, stockCode, sum(Quantity) FROM dfNoNulo GROUP BY customerId, stockCode GROUPING SETS((customerId, stockCode)) ORDER BY CustomerId DESC, stockCode DESC\").show()"
   ]
  },
  {
   "cell_type": "markdown",
   "id": "63db7a8b-08f6-49c0-97d2-98ea9ac943f5",
   "metadata": {},
   "source": [
    "blablabla"
   ]
  },
  {
   "cell_type": "code",
   "execution_count": 33,
   "id": "e9f91053-e649-462c-a7cc-a68d30c9352c",
   "metadata": {},
   "outputs": [
    {
     "name": "stdout",
     "output_type": "stream",
     "text": [
      "+----------+---------+-------------+\n",
      "|customerId|stockCode|sum(Quantity)|\n",
      "+----------+---------+-------------+\n",
      "|     18287|    85173|           48|\n",
      "|     18287|   85040A|           48|\n",
      "|     18287|   85039B|          120|\n",
      "|     18287|   85039A|           96|\n",
      "|     18287|    84920|            4|\n",
      "|     18287|    84584|            6|\n",
      "|     18287|   84507C|            6|\n",
      "|     18287|   72351B|           24|\n",
      "|     18287|   72351A|           24|\n",
      "|     18287|   72349B|           60|\n",
      "|     18287|    47422|           24|\n",
      "|     18287|    47421|           48|\n",
      "|     18287|    35967|           36|\n",
      "|     18287|    23445|           20|\n",
      "|     18287|    23378|           24|\n",
      "|     18287|    23376|           48|\n",
      "|     18287|    23310|           36|\n",
      "|     18287|    23274|           12|\n",
      "|     18287|    23272|           12|\n",
      "|     18287|    23269|           36|\n",
      "+----------+---------+-------------+\n",
      "only showing top 20 rows\n",
      "\n"
     ]
    }
   ],
   "source": [
    "spark.sql(\"SELECT CustomerId, stockCode, sum(Quantity) FROM dfNoNulo GROUP BY customerId, stockCode GROUPING SETS((customerId, stockCode),()) ORDER BY CustomerId DESC, stockCode DESC\").show()\n"
   ]
  },
  {
   "cell_type": "markdown",
   "id": "56c6940b-9176-4172-b4f5-1348b7d9ab30",
   "metadata": {},
   "source": [
    "## Rollups\n",
    "Un *rollup* es una agregación multidimensional que realiza una serie de cálculos *group-by* en la misma operación.\n",
    "\n",
    "En el siguiente ejemplo se crea un *rollup* que transforma el *DataFrame* de ejemplo en otro que incluye la cantidad total para todas las fechas y países, la cantidad todal por fecha y por país y, por último, la cantidad total para cada fecha."
   ]
  },
  {
   "cell_type": "code",
   "execution_count": 34,
   "id": "d0de5043-77f4-45ae-9002-e5cc7c1da511",
   "metadata": {},
   "outputs": [
    {
     "name": "stdout",
     "output_type": "stream",
     "text": [
      "root\n",
      " |-- InvoiceNo: string (nullable = true)\n",
      " |-- StockCode: string (nullable = true)\n",
      " |-- Description: string (nullable = true)\n",
      " |-- Quantity: integer (nullable = true)\n",
      " |-- UnitPrice: double (nullable = true)\n",
      " |-- CustomerID: integer (nullable = true)\n",
      " |-- Country: string (nullable = true)\n",
      " |-- date: string (nullable = true)\n",
      "\n",
      "+----------+--------------+--------------+\n",
      "|      Date|       Country|total_quantity|\n",
      "+----------+--------------+--------------+\n",
      "|      NULL|          NULL|       5176450|\n",
      "|2010-12-01|          EIRE|           243|\n",
      "|2010-12-01|     Australia|           107|\n",
      "|2010-12-01|   Netherlands|            97|\n",
      "|2010-12-01|       Germany|           117|\n",
      "|2010-12-01|United Kingdom|         23949|\n",
      "|2010-12-01|          NULL|         26814|\n",
      "|2010-12-01|        France|           449|\n",
      "|2010-12-01|        Norway|          1852|\n",
      "|2010-12-02|          EIRE|             4|\n",
      "|2010-12-02|United Kingdom|         20873|\n",
      "|2010-12-02|       Germany|           146|\n",
      "|2010-12-02|          NULL|         21023|\n",
      "|2010-12-03|      Portugal|            65|\n",
      "|2010-12-03|          NULL|         14830|\n",
      "|2010-12-03|          EIRE|          2575|\n",
      "|2010-12-03|       Belgium|           528|\n",
      "|2010-12-03|       Germany|           170|\n",
      "|2010-12-03|   Switzerland|           110|\n",
      "|2010-12-03|        Poland|           140|\n",
      "+----------+--------------+--------------+\n",
      "only showing top 20 rows\n",
      "\n"
     ]
    }
   ],
   "source": [
    "from pyspark.sql.functions import sum\n",
    "df_no_nulo.printSchema()\n",
    "df_enroscado = df_no_nulo.rollup(\"date\", \"Country\").agg(sum(\"Quantity\")).selectExpr(\"Date\", \"Country\", \"`sum(Quantity)` as total_quantity\",).orderBy(\"Date\")\n",
    "df_enroscado.show()"
   ]
  },
  {
   "cell_type": "markdown",
   "id": "bd5522ae-dd02-4b6f-8e7c-5aadcf6047e9",
   "metadata": {},
   "source": [
    "Los valores nulos (*null*) representan las cantidades totales. Si ese valor está en ambos campos la cantidad total mostrada se refiere a todas las fechas y todos los países."
   ]
  },
  {
   "cell_type": "code",
   "execution_count": 27,
   "id": "b09b1850-b8cf-4dd1-bf5e-3c201754b18b",
   "metadata": {},
   "outputs": [
    {
     "name": "stdout",
     "output_type": "stream",
     "text": [
      "+----------+-------+--------------+\n",
      "|      Date|Country|total_quantity|\n",
      "+----------+-------+--------------+\n",
      "|      NULL|   NULL|       5176450|\n",
      "|2010-12-01|   NULL|         26814|\n",
      "|2010-12-02|   NULL|         21023|\n",
      "|2010-12-03|   NULL|         14830|\n",
      "|2010-12-05|   NULL|         16395|\n",
      "|2010-12-06|   NULL|         21419|\n",
      "|2010-12-07|   NULL|         24995|\n",
      "|2010-12-08|   NULL|         22741|\n",
      "|2010-12-09|   NULL|         18431|\n",
      "|2010-12-10|   NULL|         20297|\n",
      "|2010-12-12|   NULL|         10565|\n",
      "|2010-12-13|   NULL|         17623|\n",
      "|2010-12-14|   NULL|         20098|\n",
      "|2010-12-15|   NULL|         18229|\n",
      "|2010-12-16|   NULL|         29632|\n",
      "|2010-12-17|   NULL|         16069|\n",
      "|2010-12-19|   NULL|          3795|\n",
      "|2010-12-20|   NULL|         14965|\n",
      "|2010-12-21|   NULL|         15467|\n",
      "|2010-12-22|   NULL|          3192|\n",
      "+----------+-------+--------------+\n",
      "only showing top 20 rows\n",
      "\n"
     ]
    }
   ],
   "source": [
    "df_enroscado.where(\"Country is Null\").show()"
   ]
  },
  {
   "cell_type": "code",
   "execution_count": 29,
   "id": "bdbbb030-d69f-4ebd-baf6-422975a7e938",
   "metadata": {},
   "outputs": [
    {
     "name": "stdout",
     "output_type": "stream",
     "text": [
      "+----+-------+--------------+\n",
      "|Date|Country|total_quantity|\n",
      "+----+-------+--------------+\n",
      "|NULL|   NULL|       5176450|\n",
      "+----+-------+--------------+\n",
      "\n"
     ]
    }
   ],
   "source": [
    "df_enroscado.where(\"date is Null\").show()"
   ]
  },
  {
   "cell_type": "markdown",
   "id": "8ee1fc55-5674-4509-9068-69c2584be73c",
   "metadata": {},
   "source": [
    "## Cubo\n",
    "Un *cubo* (*cube*) es un paso má allá respecto al *rollup*. Aquí no se tratan los elementos jerárquicamente si no que se realiza la misma operación a través de todas las dimensiones. Es decir, en el ejemplo, tendríamos los datos agregados totales (nulos en ambos campos), por fecha (nulo en el campo *Country*) y por país (nulo en el campo *date*)."
   ]
  },
  {
   "cell_type": "code",
   "execution_count": 36,
   "id": "845631b0-bef9-41ac-a265-2d82920ad26b",
   "metadata": {},
   "outputs": [
    {
     "name": "stdout",
     "output_type": "stream",
     "text": [
      "+----+--------------+-------------+\n",
      "|date|       Country|sum(Quantity)|\n",
      "+----+--------------+-------------+\n",
      "|NULL|     Australia|        83653|\n",
      "|NULL|           RSA|          352|\n",
      "|NULL|        Norway|        19247|\n",
      "|NULL|       Austria|         4827|\n",
      "|NULL|          EIRE|       142637|\n",
      "|NULL|     Lithuania|          652|\n",
      "|NULL|         Spain|        26824|\n",
      "|NULL|       Iceland|         2458|\n",
      "|NULL|       Bahrain|          260|\n",
      "|NULL|        Greece|         1556|\n",
      "|NULL|        Israel|         4353|\n",
      "|NULL|       Finland|        10666|\n",
      "|NULL|   Switzerland|        30325|\n",
      "|NULL|         Italy|         7999|\n",
      "|NULL|     Hong Kong|         4769|\n",
      "|NULL|United Kingdom|      4263829|\n",
      "|NULL|   Netherlands|       200128|\n",
      "|NULL|       Lebanon|          386|\n",
      "|NULL|      Portugal|        16180|\n",
      "|NULL|          NULL|      5176450|\n",
      "+----+--------------+-------------+\n",
      "only showing top 20 rows\n",
      "\n"
     ]
    }
   ],
   "source": [
    "from pyspark.sql.functions import sum\n",
    "df_cubo = df_no_nulo.cube(\"date\", \"Country\").agg(sum(col(\"Quantity\"))).select(\"date\", \"Country\", \"sum(Quantity)\").orderBy(\"Date\")\n",
    "df_cubo.show()"
   ]
  },
  {
   "cell_type": "code",
   "execution_count": 37,
   "id": "5c01d8ea-f1f5-4d29-a3c4-2de39d3236c7",
   "metadata": {},
   "outputs": [
    {
     "name": "stdout",
     "output_type": "stream",
     "text": [
      "+----+--------------------+-------------+\n",
      "|date|             Country|sum(Quantity)|\n",
      "+----+--------------------+-------------+\n",
      "|NULL|             Finland|        10666|\n",
      "|NULL|           Lithuania|          652|\n",
      "|NULL|              Poland|         3653|\n",
      "|NULL|             Iceland|         2458|\n",
      "|NULL|United Arab Emirates|          982|\n",
      "|NULL|           Singapore|         5234|\n",
      "|NULL|              Greece|         1556|\n",
      "|NULL|             Germany|       117448|\n",
      "|NULL|              France|       110480|\n",
      "|NULL|               Italy|         7999|\n",
      "|NULL|               Japan|        25218|\n",
      "|NULL|      United Kingdom|      4263829|\n",
      "|NULL|              Sweden|        35637|\n",
      "|NULL|             Lebanon|          386|\n",
      "|NULL|             Denmark|         8188|\n",
      "|NULL|                NULL|      5176450|\n",
      "|NULL|              Cyprus|         6317|\n",
      "|NULL|             Austria|         4827|\n",
      "|NULL|           Australia|        83653|\n",
      "|NULL|              Norway|        19247|\n",
      "+----+--------------------+-------------+\n",
      "only showing top 20 rows\n",
      "\n"
     ]
    }
   ],
   "source": [
    "df_cubo.where(\"date is Null\").show()"
   ]
  },
  {
   "cell_type": "markdown",
   "id": "ca449c6f-4966-4924-9809-81f2d8ff8984",
   "metadata": {},
   "source": [
    "## Pivote\n",
    "Pivotar permite transformar una fila en una columna. En nuestro *DataFrame* de ejemplo tenemos una columna *Country*. Con un pivote, podemos agregar según una determinada función para cada uno de esos paises y mostrarlosde una forma sencilla."
   ]
  },
  {
   "cell_type": "code",
   "execution_count": 44,
   "id": "2e02d183-a770-40e6-9c9b-ebce63b4e575",
   "metadata": {},
   "outputs": [
    {
     "name": "stdout",
     "output_type": "stream",
     "text": [
      "root\n",
      " |-- date: string (nullable = true)\n",
      " |-- Australia_sum(Quantity): long (nullable = true)\n",
      " |-- Australia_sum(UnitPrice): double (nullable = true)\n",
      " |-- Australia_sum(CustomerID): long (nullable = true)\n",
      " |-- Austria_sum(Quantity): long (nullable = true)\n",
      " |-- Austria_sum(UnitPrice): double (nullable = true)\n",
      " |-- Austria_sum(CustomerID): long (nullable = true)\n",
      " |-- Bahrain_sum(Quantity): long (nullable = true)\n",
      " |-- Bahrain_sum(UnitPrice): double (nullable = true)\n",
      " |-- Bahrain_sum(CustomerID): long (nullable = true)\n",
      " |-- Belgium_sum(Quantity): long (nullable = true)\n",
      " |-- Belgium_sum(UnitPrice): double (nullable = true)\n",
      " |-- Belgium_sum(CustomerID): long (nullable = true)\n",
      " |-- Brazil_sum(Quantity): long (nullable = true)\n",
      " |-- Brazil_sum(UnitPrice): double (nullable = true)\n",
      " |-- Brazil_sum(CustomerID): long (nullable = true)\n",
      " |-- Canada_sum(Quantity): long (nullable = true)\n",
      " |-- Canada_sum(UnitPrice): double (nullable = true)\n",
      " |-- Canada_sum(CustomerID): long (nullable = true)\n",
      " |-- Channel Islands_sum(Quantity): long (nullable = true)\n",
      " |-- Channel Islands_sum(UnitPrice): double (nullable = true)\n",
      " |-- Channel Islands_sum(CustomerID): long (nullable = true)\n",
      " |-- Cyprus_sum(Quantity): long (nullable = true)\n",
      " |-- Cyprus_sum(UnitPrice): double (nullable = true)\n",
      " |-- Cyprus_sum(CustomerID): long (nullable = true)\n",
      " |-- Czech Republic_sum(Quantity): long (nullable = true)\n",
      " |-- Czech Republic_sum(UnitPrice): double (nullable = true)\n",
      " |-- Czech Republic_sum(CustomerID): long (nullable = true)\n",
      " |-- Denmark_sum(Quantity): long (nullable = true)\n",
      " |-- Denmark_sum(UnitPrice): double (nullable = true)\n",
      " |-- Denmark_sum(CustomerID): long (nullable = true)\n",
      " |-- EIRE_sum(Quantity): long (nullable = true)\n",
      " |-- EIRE_sum(UnitPrice): double (nullable = true)\n",
      " |-- EIRE_sum(CustomerID): long (nullable = true)\n",
      " |-- European Community_sum(Quantity): long (nullable = true)\n",
      " |-- European Community_sum(UnitPrice): double (nullable = true)\n",
      " |-- European Community_sum(CustomerID): long (nullable = true)\n",
      " |-- Finland_sum(Quantity): long (nullable = true)\n",
      " |-- Finland_sum(UnitPrice): double (nullable = true)\n",
      " |-- Finland_sum(CustomerID): long (nullable = true)\n",
      " |-- France_sum(Quantity): long (nullable = true)\n",
      " |-- France_sum(UnitPrice): double (nullable = true)\n",
      " |-- France_sum(CustomerID): long (nullable = true)\n",
      " |-- Germany_sum(Quantity): long (nullable = true)\n",
      " |-- Germany_sum(UnitPrice): double (nullable = true)\n",
      " |-- Germany_sum(CustomerID): long (nullable = true)\n",
      " |-- Greece_sum(Quantity): long (nullable = true)\n",
      " |-- Greece_sum(UnitPrice): double (nullable = true)\n",
      " |-- Greece_sum(CustomerID): long (nullable = true)\n",
      " |-- Hong Kong_sum(Quantity): long (nullable = true)\n",
      " |-- Hong Kong_sum(UnitPrice): double (nullable = true)\n",
      " |-- Hong Kong_sum(CustomerID): long (nullable = true)\n",
      " |-- Iceland_sum(Quantity): long (nullable = true)\n",
      " |-- Iceland_sum(UnitPrice): double (nullable = true)\n",
      " |-- Iceland_sum(CustomerID): long (nullable = true)\n",
      " |-- Israel_sum(Quantity): long (nullable = true)\n",
      " |-- Israel_sum(UnitPrice): double (nullable = true)\n",
      " |-- Israel_sum(CustomerID): long (nullable = true)\n",
      " |-- Italy_sum(Quantity): long (nullable = true)\n",
      " |-- Italy_sum(UnitPrice): double (nullable = true)\n",
      " |-- Italy_sum(CustomerID): long (nullable = true)\n",
      " |-- Japan_sum(Quantity): long (nullable = true)\n",
      " |-- Japan_sum(UnitPrice): double (nullable = true)\n",
      " |-- Japan_sum(CustomerID): long (nullable = true)\n",
      " |-- Lebanon_sum(Quantity): long (nullable = true)\n",
      " |-- Lebanon_sum(UnitPrice): double (nullable = true)\n",
      " |-- Lebanon_sum(CustomerID): long (nullable = true)\n",
      " |-- Lithuania_sum(Quantity): long (nullable = true)\n",
      " |-- Lithuania_sum(UnitPrice): double (nullable = true)\n",
      " |-- Lithuania_sum(CustomerID): long (nullable = true)\n",
      " |-- Malta_sum(Quantity): long (nullable = true)\n",
      " |-- Malta_sum(UnitPrice): double (nullable = true)\n",
      " |-- Malta_sum(CustomerID): long (nullable = true)\n",
      " |-- Netherlands_sum(Quantity): long (nullable = true)\n",
      " |-- Netherlands_sum(UnitPrice): double (nullable = true)\n",
      " |-- Netherlands_sum(CustomerID): long (nullable = true)\n",
      " |-- Norway_sum(Quantity): long (nullable = true)\n",
      " |-- Norway_sum(UnitPrice): double (nullable = true)\n",
      " |-- Norway_sum(CustomerID): long (nullable = true)\n",
      " |-- Poland_sum(Quantity): long (nullable = true)\n",
      " |-- Poland_sum(UnitPrice): double (nullable = true)\n",
      " |-- Poland_sum(CustomerID): long (nullable = true)\n",
      " |-- Portugal_sum(Quantity): long (nullable = true)\n",
      " |-- Portugal_sum(UnitPrice): double (nullable = true)\n",
      " |-- Portugal_sum(CustomerID): long (nullable = true)\n",
      " |-- RSA_sum(Quantity): long (nullable = true)\n",
      " |-- RSA_sum(UnitPrice): double (nullable = true)\n",
      " |-- RSA_sum(CustomerID): long (nullable = true)\n",
      " |-- Saudi Arabia_sum(Quantity): long (nullable = true)\n",
      " |-- Saudi Arabia_sum(UnitPrice): double (nullable = true)\n",
      " |-- Saudi Arabia_sum(CustomerID): long (nullable = true)\n",
      " |-- Singapore_sum(Quantity): long (nullable = true)\n",
      " |-- Singapore_sum(UnitPrice): double (nullable = true)\n",
      " |-- Singapore_sum(CustomerID): long (nullable = true)\n",
      " |-- Spain_sum(Quantity): long (nullable = true)\n",
      " |-- Spain_sum(UnitPrice): double (nullable = true)\n",
      " |-- Spain_sum(CustomerID): long (nullable = true)\n",
      " |-- Sweden_sum(Quantity): long (nullable = true)\n",
      " |-- Sweden_sum(UnitPrice): double (nullable = true)\n",
      " |-- Sweden_sum(CustomerID): long (nullable = true)\n",
      " |-- Switzerland_sum(Quantity): long (nullable = true)\n",
      " |-- Switzerland_sum(UnitPrice): double (nullable = true)\n",
      " |-- Switzerland_sum(CustomerID): long (nullable = true)\n",
      " |-- USA_sum(Quantity): long (nullable = true)\n",
      " |-- USA_sum(UnitPrice): double (nullable = true)\n",
      " |-- USA_sum(CustomerID): long (nullable = true)\n",
      " |-- United Arab Emirates_sum(Quantity): long (nullable = true)\n",
      " |-- United Arab Emirates_sum(UnitPrice): double (nullable = true)\n",
      " |-- United Arab Emirates_sum(CustomerID): long (nullable = true)\n",
      " |-- United Kingdom_sum(Quantity): long (nullable = true)\n",
      " |-- United Kingdom_sum(UnitPrice): double (nullable = true)\n",
      " |-- United Kingdom_sum(CustomerID): long (nullable = true)\n",
      " |-- Unspecified_sum(Quantity): long (nullable = true)\n",
      " |-- Unspecified_sum(UnitPrice): double (nullable = true)\n",
      " |-- Unspecified_sum(CustomerID): long (nullable = true)\n",
      "\n"
     ]
    }
   ],
   "source": [
    "pivotado = df_con_fecha.groupBy(\"date\").pivot(\"Country\").sum()\n",
    "pivotado.printSchema()\n"
   ]
  },
  {
   "cell_type": "markdown",
   "id": "5cf52fa6-fde7-43f2-8073-72a0d4032ead",
   "metadata": {},
   "source": [
    "Este *DataFrame* tiene una columna para cada combinación de país y un valor numérico.\n",
    "\n",
    "Ejemplo: USA_sum(Quantity), USA_sum(UnitPrice), etc."
   ]
  },
  {
   "cell_type": "code",
   "execution_count": 45,
   "id": "e497fe96-a9b0-44f9-b034-c9913693aebf",
   "metadata": {},
   "outputs": [
    {
     "name": "stdout",
     "output_type": "stream",
     "text": [
      "+----------+-----------------+\n",
      "|      date|USA_sum(Quantity)|\n",
      "+----------+-----------------+\n",
      "|2011-12-06|             NULL|\n",
      "|2011-12-09|             NULL|\n",
      "|2011-12-08|             -196|\n",
      "|2011-12-07|             NULL|\n",
      "+----------+-----------------+\n",
      "\n"
     ]
    }
   ],
   "source": [
    "pivotado.where(\"date > '2011-12-05'\").select(\"date\",\"`USA_sum(Quantity)`\").show()"
   ]
  },
  {
   "cell_type": "code",
   "execution_count": null,
   "id": "e7972fac-aaa4-41da-a89e-df4b65543118",
   "metadata": {},
   "outputs": [],
   "source": []
  },
  {
   "cell_type": "code",
   "execution_count": null,
   "id": "b32ef8e3-1565-4958-841a-e1a34c9a5d1f",
   "metadata": {},
   "outputs": [],
   "source": []
  }
 ],
 "metadata": {
  "kernelspec": {
   "display_name": "Python 3 (ipykernel)",
   "language": "python",
   "name": "python3"
  },
  "language_info": {
   "codemirror_mode": {
    "name": "ipython",
    "version": 3
   },
   "file_extension": ".py",
   "mimetype": "text/x-python",
   "name": "python",
   "nbconvert_exporter": "python",
   "pygments_lexer": "ipython3",
   "version": "3.11.6"
  }
 },
 "nbformat": 4,
 "nbformat_minor": 5
}
