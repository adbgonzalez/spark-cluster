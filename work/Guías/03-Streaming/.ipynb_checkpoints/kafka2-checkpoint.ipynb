{
 "cells": [
  {
   "cell_type": "code",
   "execution_count": 1,
   "id": "d1010063-34e6-46eb-9786-d45d479fe415",
   "metadata": {},
   "outputs": [
    {
     "name": "stdout",
     "output_type": "stream",
     "text": [
      "Using packages ['org.apache.spark:spark-sql-kafka-0-10_2.12:3.5.0', 'org.apache.kafka:kafka-clients:3.5.1']\n"
     ]
    }
   ],
   "source": [
    "from pyspark.sql import SparkSession\n",
    "from pyspark.sql.functions import explode\n",
    "from pyspark.sql.functions import split\n",
    "import os\n",
    "import pyspark\n",
    "\n",
    "scala_version = '2.12'  # TODO: Ensure this is correct\n",
    "spark_version = pyspark.__version__\n",
    "\n",
    "packages = [\n",
    "    f'org.apache.spark:spark-sql-kafka-0-10_{scala_version}:{spark_version}',\n",
    "    'org.apache.kafka:kafka-clients:3.5.1'\n",
    "]\n",
    "\n",
    "args = os.environ.get('PYSPARK_SUBMIT_ARGS', '')\n",
    "if not args:\n",
    "    args = f'--packages {\",\".join(packages)}'\n",
    "    print('Using packages', packages)\n",
    "    os.environ['PYSPARK_SUBMIT_ARGS'] = f'{args} pyspark-shell'\n",
    "else:\n",
    "    print(f'Found existing args: {args}') \n",
    "\n",
    "spark = SparkSession.builder\\\n",
    "   .master(\"local\")\\\n",
    "   .appName(\"kafka-example2\")\\\n",
    "   .getOrCreate()\n"
   ]
  },
  {
   "cell_type": "code",
   "execution_count": 4,
   "id": "3c0b87c4-c18e-4586-901a-787688f438a4",
   "metadata": {},
   "outputs": [],
   "source": [
    "kafkaDFS = spark.readStream \\\n",
    "    .format(\"kafka\") \\\n",
    "    .option(\"kafka.bootstrap.servers\", \"kafka-1:9092\") \\\n",
    "    .option(\"subscribe\", \"facturas\") \\\n",
    "    .option(\"startingOffsets\", \"earliest\") \\\n",
    "    .load()"
   ]
  },
  {
   "cell_type": "code",
   "execution_count": 2,
   "id": "33d17ec3-15cc-41b9-a4d0-9435c5ff3f14",
   "metadata": {},
   "outputs": [],
   "source": [
    "from pyspark.sql.types import StructType, StructField, StringType, LongType, DoubleType, IntegerType, ArrayType\n",
    "esquema = StructType([\n",
    "    StructField(\"InvoiceNumber\", StringType()),\n",
    "    StructField(\"CreatedTime\", LongType()),\n",
    "    StructField(\"StoreID\", StringType()),\n",
    "    StructField(\"PosID\", StringType()),\n",
    "    StructField(\"CashierID\", StringType()),\n",
    "    StructField(\"CustomerType\", StringType()),\n",
    "    StructField(\"CustomerCardNo\", StringType()),\n",
    "    StructField(\"TotalAmount\", DoubleType()),\n",
    "    StructField(\"NumberOfItems\", IntegerType()),\n",
    "    StructField(\"PaymentMethod\", StringType()),\n",
    "    StructField(\"CGST\", DoubleType()),\n",
    "    StructField(\"SGST\", DoubleType()),\n",
    "    StructField(\"CESS\", DoubleType()),\n",
    "    StructField(\"DeliveryType\", StringType()),\n",
    "    StructField(\"DeliveryAddress\", StructType([\n",
    "        StructField(\"AddressLine\", StringType()),\n",
    "        StructField(\"City\", StringType()),\n",
    "        StructField(\"State\", StringType()),\n",
    "        StructField(\"PinCode\", StringType()),\n",
    "        StructField(\"ContactNumber\", StringType())\n",
    "    ])),\n",
    "    StructField(\"InvoiceLineItems\", ArrayType(StructType([\n",
    "        StructField(\"ItemCode\", StringType()),\n",
    "        StructField(\"ItemDescription\", StringType()),\n",
    "        StructField(\"ItemPrice\", DoubleType()),\n",
    "        StructField(\"ItemQty\", IntegerType()),\n",
    "        StructField(\"TotalValue\", DoubleType())\n",
    "    ]))),\n",
    "])"
   ]
  },
  {
   "cell_type": "code",
   "execution_count": 5,
   "id": "6348991e-4afe-4636-bab4-7cf9a29aba95",
   "metadata": {},
   "outputs": [
    {
     "name": "stdout",
     "output_type": "stream",
     "text": [
      "root\n",
      " |-- value: struct (nullable = true)\n",
      " |    |-- InvoiceNumber: string (nullable = true)\n",
      " |    |-- CreatedTime: long (nullable = true)\n",
      " |    |-- StoreID: string (nullable = true)\n",
      " |    |-- PosID: string (nullable = true)\n",
      " |    |-- CashierID: string (nullable = true)\n",
      " |    |-- CustomerType: string (nullable = true)\n",
      " |    |-- CustomerCardNo: string (nullable = true)\n",
      " |    |-- TotalAmount: double (nullable = true)\n",
      " |    |-- NumberOfItems: integer (nullable = true)\n",
      " |    |-- PaymentMethod: string (nullable = true)\n",
      " |    |-- CGST: double (nullable = true)\n",
      " |    |-- SGST: double (nullable = true)\n",
      " |    |-- CESS: double (nullable = true)\n",
      " |    |-- DeliveryType: string (nullable = true)\n",
      " |    |-- DeliveryAddress: struct (nullable = true)\n",
      " |    |    |-- AddressLine: string (nullable = true)\n",
      " |    |    |-- City: string (nullable = true)\n",
      " |    |    |-- State: string (nullable = true)\n",
      " |    |    |-- PinCode: string (nullable = true)\n",
      " |    |    |-- ContactNumber: string (nullable = true)\n",
      " |    |-- InvoiceLineItems: array (nullable = true)\n",
      " |    |    |-- element: struct (containsNull = true)\n",
      " |    |    |    |-- ItemCode: string (nullable = true)\n",
      " |    |    |    |-- ItemDescription: string (nullable = true)\n",
      " |    |    |    |-- ItemPrice: double (nullable = true)\n",
      " |    |    |    |-- ItemQty: integer (nullable = true)\n",
      " |    |    |    |-- TotalValue: double (nullable = true)\n",
      "\n"
     ]
    }
   ],
   "source": [
    "from pyspark.sql.functions import from_json, col\n",
    "valueDF = kafkaDFS.select(from_json(col(\"value\").cast(\"string\"), esquema).alias(\"value\"))\n",
    "valueDF.printSchema()"
   ]
  },
  {
   "cell_type": "code",
   "execution_count": 6,
   "id": "6b9513c3-86a6-478e-ae05-d6f7ea96c67c",
   "metadata": {},
   "outputs": [],
   "source": [
    "from pyspark.sql.functions import expr\n",
    "\n",
    "explodeDF = valueDF.selectExpr(\"value.InvoiceNumber\", \"value.CreatedTime\",\n",
    "    \"value.StoreID\", \"value.PosID\", \"value.CustomerType\",\n",
    "    \"value.PaymentMethod\", \"value.DeliveryType\", \"value.DeliveryAddress.City\",\n",
    "    \"value.DeliveryAddress.State\", \"value.DeliveryAddress.PinCode\",\n",
    "    \"explode(value.InvoiceLineItems) as LineItem\")\n",
    "\n",
    "limpioDF = explodeDF \\\n",
    "    .withColumn(\"ItemCode\", expr(\"LineItem.ItemCode\")) \\\n",
    "    .withColumn(\"ItemDescription\", expr(\"LineItem.ItemDescription\")) \\\n",
    "    .withColumn(\"ItemPrice\", expr(\"LineItem.ItemPrice\")) \\\n",
    "    .withColumn(\"ItemQty\", expr(\"LineItem.ItemQty\")) \\\n",
    "    .withColumn(\"TotalValue\", expr(\"LineItem.TotalValue\")) \\\n",
    "    .drop(\"LineItem\")"
   ]
  },
  {
   "cell_type": "code",
   "execution_count": null,
   "id": "2d71299a-dcbc-470b-9119-57b228ac80b0",
   "metadata": {},
   "outputs": [],
   "source": [
    "facturaWriterQuery  = limpioDF.writeStream \\\n",
    "    .format(\"json\") \\\n",
    "    .queryName(\"Facturas Kafka Writer\") \\\n",
    "    .outputMode(\"append\") \\\n",
    "    .option(\"path\", \"/home/jovyan/salida\") \\\n",
    "    .option(\"checkpointLocation\", \"/home/jovyan/chk-point-dir-caso3\") \\\n",
    "    .trigger(processingTime=\"1 minute\") \\\n",
    "    .start()\n",
    "\n",
    "facturaWriterQuery.awaitTermination()"
   ]
  },
  {
   "cell_type": "code",
   "execution_count": null,
   "id": "7e01f60a-592a-4dbe-948e-af3e21c124db",
   "metadata": {},
   "outputs": [],
   "source": []
  }
 ],
 "metadata": {
  "kernelspec": {
   "display_name": "Python 3 (ipykernel)",
   "language": "python",
   "name": "python3"
  },
  "language_info": {
   "codemirror_mode": {
    "name": "ipython",
    "version": 3
   },
   "file_extension": ".py",
   "mimetype": "text/x-python",
   "name": "python",
   "nbconvert_exporter": "python",
   "pygments_lexer": "ipython3",
   "version": "3.11.6"
  }
 },
 "nbformat": 4,
 "nbformat_minor": 5
}
