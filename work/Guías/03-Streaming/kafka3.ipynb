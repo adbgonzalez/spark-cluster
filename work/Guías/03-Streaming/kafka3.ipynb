{
 "cells": [
  {
   "cell_type": "code",
   "execution_count": 1,
   "id": "c0e1f5da-319b-4638-a6f4-558d5aa29801",
   "metadata": {},
   "outputs": [
    {
     "name": "stdout",
     "output_type": "stream",
     "text": [
      "Using packages ['org.apache.spark:spark-sql-kafka-0-10_2.12:3.5.0', 'org.apache.kafka:kafka-clients:3.5.1']\n"
     ]
    }
   ],
   "source": [
    "from pyspark.sql import SparkSession\n",
    "from pyspark.sql.functions import explode\n",
    "from pyspark.sql.functions import split\n",
    "import os\n",
    "import pyspark\n",
    "\n",
    "scala_version = '2.12'  # TODO: Ensure this is correct\n",
    "spark_version = pyspark.__version__\n",
    "\n",
    "packages = [\n",
    "    f'org.apache.spark:spark-sql-kafka-0-10_{scala_version}:{spark_version}',\n",
    "    'org.apache.kafka:kafka-clients:3.5.1'\n",
    "]\n",
    "\n",
    "args = os.environ.get('PYSPARK_SUBMIT_ARGS', '')\n",
    "if not args:\n",
    "    args = f'--packages {\",\".join(packages)}'\n",
    "    print('Using packages', packages)\n",
    "    os.environ['PYSPARK_SUBMIT_ARGS'] = f'{args} pyspark-shell'\n",
    "else:\n",
    "    print(f'Found existing args: {args}') \n",
    "\n",
    "spark = SparkSession.builder\\\n",
    "   .master(\"local\")\\\n",
    "   .appName(\"kafka-example3\")\\\n",
    "   .getOrCreate()\n",
    "\n",
    "kafkaDFS = spark.readStream \\\n",
    "        .format(\"kafka\") \\\n",
    "        .option(\"kafka.bootstrap.servers\", \"kafka-1:9092\") \\\n",
    "        .option(\"subscribe\", \"facturas\") \\\n",
    "        .option(\"startingOffsets\", \"earliest\") \\\n",
    "        .load()"
   ]
  },
  {
   "cell_type": "code",
   "execution_count": 2,
   "id": "556d7240-4cf4-463f-a026-b91b64482a60",
   "metadata": {},
   "outputs": [],
   "source": [
    "from pyspark.sql.types import StructType, StructField, StringType, LongType, DoubleType, IntegerType, ArrayType\n",
    "esquema = StructType([\n",
    "    StructField(\"InvoiceNumber\", StringType()),\n",
    "    StructField(\"CreatedTime\", LongType()),\n",
    "    StructField(\"StoreID\", StringType()),\n",
    "    StructField(\"PosID\", StringType()),\n",
    "    StructField(\"CashierID\", StringType()),\n",
    "    StructField(\"CustomerType\", StringType()),\n",
    "    StructField(\"CustomerCardNo\", StringType()),\n",
    "    StructField(\"TotalAmount\", DoubleType()),\n",
    "    StructField(\"NumberOfItems\", IntegerType()),\n",
    "    StructField(\"PaymentMethod\", StringType()),\n",
    "    StructField(\"CGST\", DoubleType()),\n",
    "    StructField(\"SGST\", DoubleType()),\n",
    "    StructField(\"CESS\", DoubleType()),\n",
    "    StructField(\"DeliveryType\", StringType()),\n",
    "    StructField(\"DeliveryAddress\", StructType([\n",
    "        StructField(\"AddressLine\", StringType()),\n",
    "        StructField(\"City\", StringType()),\n",
    "        StructField(\"State\", StringType()),\n",
    "        StructField(\"PinCode\", StringType()),\n",
    "        StructField(\"ContactNumber\", StringType())\n",
    "    ])),\n",
    "    StructField(\"InvoiceLineItems\", ArrayType(StructType([\n",
    "        StructField(\"ItemCode\", StringType()),\n",
    "        StructField(\"ItemDescription\", StringType()),\n",
    "        StructField(\"ItemPrice\", DoubleType()),\n",
    "        StructField(\"ItemQty\", IntegerType()),\n",
    "        StructField(\"TotalValue\", DoubleType())\n",
    "    ]))),\n",
    "])"
   ]
  },
  {
   "cell_type": "code",
   "execution_count": 3,
   "id": "28b3fe4d-3a0b-428d-a06b-fb6b8d0566f9",
   "metadata": {},
   "outputs": [],
   "source": [
    "from pyspark.sql.functions import from_json, col, expr\n",
    "valueDF = kafkaDFS.select(from_json(col(\"value\").cast(\"string\"), esquema).alias(\"value\"))\n",
    "\n",
    "notificationDF = valueDF.select(\"value.InvoiceNumber\", \"value.CustomerCardNo\", \"value.TotalAmount\") \\\n",
    "    .withColumn(\"LoyaltyPoints\", expr(\"TotalAmount * 0.2\"))\n",
    "\n",
    "# Transformamos las cuatro columnas en lo que espera Kafka, un par de (key, value)\n",
    "kafkaTargetDF = notificationDF.selectExpr(\"InvoiceNumber as key\",\n",
    "        \"\"\"to_json(named_struct(\n",
    "        'CustomerCardNo', CustomerCardNo,\n",
    "        'TotalAmount', TotalAmount,\n",
    "        'EarnedLoyaltyPoints', TotalAmount * 0.2)) as value\"\"\")"
   ]
  },
  {
   "cell_type": "code",
   "execution_count": null,
   "id": "389b9fde-b91d-4f1c-b486-c4459252c0c8",
   "metadata": {},
   "outputs": [],
   "source": [
    "notificacionWriterQuery = kafkaTargetDF \\\n",
    "    .writeStream \\\n",
    "    .queryName(\"Notificaciones Writer\") \\\n",
    "    .format(\"kafka\") \\\n",
    "    .option(\"kafka.bootstrap.servers\", \"kafka-1:9092\") \\\n",
    "    .option(\"topic\", \"notificaciones\") \\\n",
    "    .outputMode(\"append\") \\\n",
    "    .option(\"checkpointLocation\", \"/home/jovyan/chk-point-dir-caso4\") \\\n",
    "    .start()\n",
    "\n",
    "notificacionWriterQuery.awaitTermination()"
   ]
  },
  {
   "cell_type": "code",
   "execution_count": null,
   "id": "429fcddd-5d54-4734-ba58-beb415248985",
   "metadata": {},
   "outputs": [],
   "source": []
  }
 ],
 "metadata": {
  "kernelspec": {
   "display_name": "Python 3 (ipykernel)",
   "language": "python",
   "name": "python3"
  },
  "language_info": {
   "codemirror_mode": {
    "name": "ipython",
    "version": 3
   },
   "file_extension": ".py",
   "mimetype": "text/x-python",
   "name": "python",
   "nbconvert_exporter": "python",
   "pygments_lexer": "ipython3",
   "version": "3.11.6"
  }
 },
 "nbformat": 4,
 "nbformat_minor": 5
}
