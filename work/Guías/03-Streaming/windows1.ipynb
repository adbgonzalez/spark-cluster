{
 "cells": [
  {
   "cell_type": "code",
   "execution_count": 1,
   "id": "e01abb72-ad35-47f1-8076-d5b856aead05",
   "metadata": {},
   "outputs": [],
   "source": [
    "from pyspark.sql import SparkSession\n",
    "spark = SparkSession.builder \\\n",
    "        .appName(\"Ventana fija IABD WordCount\") \\\n",
    "        .master(\"local[2]\") \\\n",
    "        .config(\"spark.streaming.stopGracefullyOnShutdown\", \"true\") \\\n",
    "        .config(\"spark.sql.shuffle.partitions\", 3) \\\n",
    "        .getOrCreate()\n",
    "\n",
    "dfLineas = spark.readStream \\\n",
    "    .format(\"socket\") \\\n",
    "    .option(\"host\", \"localhost\") \\\n",
    "    .option(\"port\", \"9999\") \\\n",
    "    .option('includeTimestamp', 'true')\\\n",
    "    .load()"
   ]
  },
  {
   "cell_type": "code",
   "execution_count": 2,
   "id": "1c1849c1-5d27-4134-bb4c-925a5bcc0e7d",
   "metadata": {},
   "outputs": [
    {
     "name": "stdout",
     "output_type": "stream",
     "text": [
      "root\n",
      " |-- value: string (nullable = true)\n",
      " |-- timestamp: timestamp (nullable = true)\n",
      "\n"
     ]
    }
   ],
   "source": [
    "dfLineas.printSchema()"
   ]
  },
  {
   "cell_type": "code",
   "execution_count": 3,
   "id": "7af60ddc-cb84-4ae6-b9d7-33abdb9f2a66",
   "metadata": {},
   "outputs": [],
   "source": [
    "from pyspark.sql.functions import explode, split\n",
    "dfPalabras = dfLineas.select(\n",
    "    explode(split(dfLineas.value, ' ')).alias('palabra'),\n",
    "    dfLineas.timestamp)"
   ]
  },
  {
   "cell_type": "code",
   "execution_count": 4,
   "id": "6dbcfdc0-3adb-4869-95da-b1aa4372da56",
   "metadata": {},
   "outputs": [],
   "source": [
    "from pyspark.sql.functions import window\n",
    "windowedCounts = dfPalabras.groupBy(\n",
    "    window(dfPalabras.timestamp, \"2 minutes\"), dfPalabras.palabra\n",
    ").count().orderBy('window')"
   ]
  },
  {
   "cell_type": "code",
   "execution_count": 5,
   "id": "9b0eae21-5b04-4e41-81b2-fbdf419789d2",
   "metadata": {},
   "outputs": [],
   "source": [
    "palabrasQuery = windowedCounts.writeStream \\\n",
    "    .outputMode(\"complete\") \\\n",
    "    .format(\"memory\") \\\n",
    "    .queryName(\"consulta2\") \\\n",
    "    .option('truncate', 'false')\\\n",
    "    .start()"
   ]
  },
  {
   "cell_type": "code",
   "execution_count": 10,
   "id": "8d21a5c5-5d73-46d4-9cb5-3276fabc84fe",
   "metadata": {},
   "outputs": [
    {
     "data": {
      "text/plain": [
       "{'message': 'Waiting for data to arrive',\n",
       " 'isDataAvailable': False,\n",
       " 'isTriggerActive': False}"
      ]
     },
     "metadata": {},
     "output_type": "display_data"
    },
    {
     "name": "stdout",
     "output_type": "stream",
     "text": [
      "+--------------------+--------+-----+\n",
      "|              window| palabra|count|\n",
      "+--------------------+--------+-----+\n",
      "|{2024-04-25 19:20...|    hola|    1|\n",
      "|{2024-04-25 19:20...|  través|    1|\n",
      "|{2024-04-25 19:20...|    toco|    1|\n",
      "|{2024-04-25 19:20...|       a|    1|\n",
      "|{2024-04-25 19:20...|     una|    1|\n",
      "|{2024-04-25 19:20...|    Bebo|    1|\n",
      "|{2024-04-25 19:20...|      la|    1|\n",
      "|{2024-04-25 19:20...|      de|    1|\n",
      "|{2024-04-25 19:20...|cacerola|    1|\n",
      "|{2024-04-25 19:20...|mientras|    1|\n",
      "|{2024-04-25 19:20...|cocacola|    1|\n",
      "|{2024-04-25 19:20...| carcola|    1|\n",
      "|{2024-04-25 19:20...|      me|    1|\n",
      "|{2024-04-25 19:20...|  pirola|    1|\n",
      "|{2024-04-25 19:22...|cacerola|    1|\n",
      "|{2024-04-25 19:22...|cocacola|    1|\n",
      "+--------------------+--------+-----+\n",
      "\n"
     ]
    },
    {
     "data": {
      "text/plain": [
       "None"
      ]
     },
     "metadata": {},
     "output_type": "display_data"
    }
   ],
   "source": [
    "from IPython.display import display, clear_output\n",
    "display(palabrasQuery.status)\n",
    "display(spark.sql('SELECT * FROM consulta2').show())"
   ]
  },
  {
   "cell_type": "code",
   "execution_count": null,
   "id": "c4d8a342-4484-426e-b5fd-cccd0f5e12f3",
   "metadata": {},
   "outputs": [],
   "source": []
  },
  {
   "cell_type": "code",
   "execution_count": null,
   "id": "49439b66-9307-4852-af73-62fdcdf346ed",
   "metadata": {},
   "outputs": [],
   "source": []
  },
  {
   "cell_type": "code",
   "execution_count": null,
   "id": "770c9ba0-d21d-4823-945c-31dbddbda441",
   "metadata": {},
   "outputs": [],
   "source": []
  }
 ],
 "metadata": {
  "kernelspec": {
   "display_name": "Python 3 (ipykernel)",
   "language": "python",
   "name": "python3"
  },
  "language_info": {
   "codemirror_mode": {
    "name": "ipython",
    "version": 3
   },
   "file_extension": ".py",
   "mimetype": "text/x-python",
   "name": "python",
   "nbconvert_exporter": "python",
   "pygments_lexer": "ipython3",
   "version": "3.11.6"
  }
 },
 "nbformat": 4,
 "nbformat_minor": 5
}
