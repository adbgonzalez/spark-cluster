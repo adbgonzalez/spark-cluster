{
 "cells": [
  {
   "cell_type": "markdown",
   "id": "c9d5669b-b8c9-43c3-9931-5f95ff18782e",
   "metadata": {},
   "source": [
    "# Ejercicios Dataframes 2\n",
    "Realiza los siguientes ejercicios. Soluciona cada uno de ellos empleando la DataFrame API y Spark SQL\n",
    "1. Inicializa la variable spark (0)"
   ]
  },
  {
   "cell_type": "code",
   "execution_count": 1,
   "id": "b159a865-1442-4d35-a8dd-056a550455b4",
   "metadata": {},
   "outputs": [],
   "source": [
    "#DataFrame API\n",
    "from pyspark.sql import SparkSession\n",
    "spark = SparkSession.builder.getOrCreate()\n",
    "\n",
    "#SQL\n",
    "\n"
   ]
  },
  {
   "cell_type": "markdown",
   "id": "9857de07-bca6-4560-8980-63f34adcec18",
   "metadata": {},
   "source": [
    "2. Crea un dataframe llamado mi_df con los datos del archivo *data/retail-data/all/online-retail-dataset.csv* (0)"
   ]
  },
  {
   "cell_type": "code",
   "execution_count": 15,
   "id": "8406cbab-5e1d-4b65-a2ec-436422a996c4",
   "metadata": {},
   "outputs": [
    {
     "name": "stdout",
     "output_type": "stream",
     "text": [
      "+---------+---------+--------------------+--------+-----------+---------+----------+--------------+\n",
      "|InvoiceNo|StockCode|         Description|Quantity|InvoiceDate|UnitPrice|CustomerID|       Country|\n",
      "+---------+---------+--------------------+--------+-----------+---------+----------+--------------+\n",
      "|   536365|   85123A|WHITE HANGING HEA...|       6|       NULL|     2.55|     17850|United Kingdom|\n",
      "|   536365|    71053| WHITE METAL LANTERN|       6|       NULL|     3.39|     17850|United Kingdom|\n",
      "|   536365|   84406B|CREAM CUPID HEART...|       8|       NULL|     2.75|     17850|United Kingdom|\n",
      "|   536365|   84029G|KNITTED UNION FLA...|       6|       NULL|     3.39|     17850|United Kingdom|\n",
      "|   536365|   84029E|RED WOOLLY HOTTIE...|       6|       NULL|     3.39|     17850|United Kingdom|\n",
      "|   536365|    22752|SET 7 BABUSHKA NE...|       2|       NULL|     7.65|     17850|United Kingdom|\n",
      "|   536365|    21730|GLASS STAR FROSTE...|       6|       NULL|     4.25|     17850|United Kingdom|\n",
      "|   536366|    22633|HAND WARMER UNION...|       6|       NULL|     1.85|     17850|United Kingdom|\n",
      "|   536366|    22632|HAND WARMER RED P...|       6|       NULL|     1.85|     17850|United Kingdom|\n",
      "|   536367|    84879|ASSORTED COLOUR B...|      32|       NULL|     1.69|     13047|United Kingdom|\n",
      "+---------+---------+--------------------+--------+-----------+---------+----------+--------------+\n",
      "only showing top 10 rows\n",
      "\n",
      "root\n",
      " |-- InvoiceNo: integer (nullable = true)\n",
      " |-- StockCode: string (nullable = true)\n",
      " |-- Description: string (nullable = true)\n",
      " |-- Quantity: integer (nullable = true)\n",
      " |-- InvoiceDate: timestamp (nullable = true)\n",
      " |-- UnitPrice: double (nullable = true)\n",
      " |-- CustomerID: integer (nullable = true)\n",
      " |-- Country: string (nullable = true)\n",
      "\n"
     ]
    }
   ],
   "source": [
    "#DataFrame API\n",
    "from pyspark.sql.types import StructType, StructField, StringType, IntegerType, DoubleType, TimestampType\n",
    "# Definir el esquema\n",
    "schema = StructType([\n",
    "    StructField(\"InvoiceNo\", IntegerType(), True),\n",
    "    StructField(\"StockCode\", StringType(), True),\n",
    "    StructField(\"Description\", StringType(), True),\n",
    "    StructField(\"Quantity\", IntegerType(), True),\n",
    "    StructField(\"InvoiceDate\", TimestampType(), True),\n",
    "    StructField(\"UnitPrice\", DoubleType(), True),\n",
    "    StructField(\"CustomerID\", IntegerType(), True),\n",
    "    StructField(\"Country\", StringType(), True)\n",
    "])\n",
    "\n",
    "# Leer el archivo CSV con el esquema especificado\n",
    "df = spark.read.csv(\"data/retail-data/all/online-retail-dataset.csv\", header=True, schema=schema)\n",
    "\n",
    "\n",
    "df.show(10)\n",
    "df.printSchema()\n",
    "#SQL\n",
    "\n"
   ]
  },
  {
   "cell_type": "markdown",
   "id": "ab8acc9b-b1d0-46db-9bcc-6e290827d05c",
   "metadata": {},
   "source": [
    "3. Cuenta el número de celdas totales"
   ]
  },
  {
   "cell_type": "code",
   "execution_count": null,
   "id": "3065e4f9-43d1-4e62-a0e3-113b5afe566a",
   "metadata": {},
   "outputs": [],
   "source": [
    "#DataFrame API\n",
    "\n",
    "\n",
    "#SQL\n",
    "\n"
   ]
  },
  {
   "cell_type": "markdown",
   "id": "6c134111-a5cb-473d-bee7-c15a4d0e5d46",
   "metadata": {},
   "source": [
    "4. Cuenta el número de \"invoiceNo\" distintos"
   ]
  },
  {
   "cell_type": "code",
   "execution_count": null,
   "id": "38c2da2f-911b-46cd-92b3-e15314dd7b03",
   "metadata": {},
   "outputs": [],
   "source": [
    "#DataFrame API\n",
    "\n",
    "\n",
    "#SQL\n",
    "\n"
   ]
  },
  {
   "cell_type": "markdown",
   "id": "69047d7e-2a4f-4536-b238-994e4d8a5686",
   "metadata": {},
   "source": [
    "5. Obtén el número de factura más bajo y el más alto"
   ]
  },
  {
   "cell_type": "code",
   "execution_count": null,
   "id": "1dc87d54-2b9e-44ae-8ccc-de8b1c687f1f",
   "metadata": {},
   "outputs": [],
   "source": [
    "#DataFrame API\n",
    "\n",
    "\n",
    "#SQL\n",
    "\n"
   ]
  },
  {
   "cell_type": "markdown",
   "id": "3f4e648e-e749-4836-83b4-cac727e3b4d8",
   "metadata": {},
   "source": [
    "6. Obtén la suma de todos los importes unitarios de los productos vendidos en el Reino Unido"
   ]
  },
  {
   "cell_type": "code",
   "execution_count": null,
   "id": "685348d8-f9cb-4f3b-a44b-437d7816b601",
   "metadata": {},
   "outputs": [],
   "source": [
    "#DataFrame API\n",
    "\n",
    "\n",
    "#SQL\n",
    "\n"
   ]
  },
  {
   "cell_type": "markdown",
   "id": "62f81fcd-0908-4ddd-a075-432aafbfb427",
   "metadata": {},
   "source": [
    "7. Obtén la media de todos los importes unitarios de los productos vendidos en el Reino Unido"
   ]
  },
  {
   "cell_type": "code",
   "execution_count": null,
   "id": "6ba9fc37-19e4-469f-968c-c238a7e055bc",
   "metadata": {},
   "outputs": [],
   "source": [
    "#DataFrame API\n",
    "\n",
    "\n",
    "#SQL\n",
    "\n"
   ]
  },
  {
   "cell_type": "markdown",
   "id": "0065cca6-b302-4f60-9a45-8d841bea0611",
   "metadata": {},
   "source": [
    "8. Obtén la el número total de productos vendidos (quantity) agrupado por países (muestra los 10 primeros)"
   ]
  },
  {
   "cell_type": "code",
   "execution_count": null,
   "id": "fbedc383-4684-4014-b3c7-48e4d6296cce",
   "metadata": {},
   "outputs": [],
   "source": [
    "#DataFrame API\n",
    "\n",
    "\n",
    "#SQL\n",
    "\n"
   ]
  },
  {
   "cell_type": "markdown",
   "id": "feafc7bc-922f-46a2-a1cb-7c5c78b1014f",
   "metadata": {},
   "source": [
    "9. Obtén la media de los precios unitarios de los productos vendidos agrupada por países"
   ]
  },
  {
   "cell_type": "code",
   "execution_count": 16,
   "id": "d1ede03e-6e12-4b14-804a-5deac392647b",
   "metadata": {},
   "outputs": [
    {
     "name": "stdout",
     "output_type": "stream",
     "text": [
      "+---------------+------------------+\n",
      "|        Country|    avg(UnitPrice)|\n",
      "+---------------+------------------+\n",
      "|         Sweden| 3.910887445887446|\n",
      "|        Germany| 3.966929963138483|\n",
      "|         France| 5.028864087881269|\n",
      "|        Belgium|3.6443354277428717|\n",
      "|        Finland| 5.448705035971222|\n",
      "|          Italy| 4.831120797011208|\n",
      "|           EIRE| 5.911077354807235|\n",
      "|      Lithuania|2.8411428571428576|\n",
      "|         Norway|6.0120257826887675|\n",
      "|          Spain| 4.987544413738654|\n",
      "|        Denmark|  3.25694087403599|\n",
      "|        Iceland|2.6440109890109897|\n",
      "|         Israel|3.6331313131313143|\n",
      "|Channel Islands| 4.932124010554089|\n",
      "|         Cyprus| 6.302363344051452|\n",
      "|    Switzerland|  3.40344155844156|\n",
      "|          Japan|2.2761452513966476|\n",
      "|         Poland| 4.170879765395893|\n",
      "|       Portugal|  8.58297564186965|\n",
      "|      Australia|3.2206115965051607|\n",
      "+---------------+------------------+\n",
      "only showing top 20 rows\n",
      "\n"
     ]
    }
   ],
   "source": [
    "#DataFrame API\n",
    "\n",
    "df.groupBy(\"Country\").avg(\"UnitPrice\").show()\n",
    "#SQL\n",
    "\n"
   ]
  },
  {
   "cell_type": "markdown",
   "id": "62faa914-1b71-4051-b2e3-e1e1454adada",
   "metadata": {},
   "source": [
    "10. Obtén el importe total (quantity * unit price) agrupado por número de factura (invoiceNo)"
   ]
  },
  {
   "cell_type": "code",
   "execution_count": 20,
   "id": "43ef1acd-345e-4907-a5ab-107a408b999e",
   "metadata": {},
   "outputs": [
    {
     "name": "stdout",
     "output_type": "stream",
     "text": [
      "+---------+------------------+\n",
      "|InvoiceNo| avg(ImporteTotal)|\n",
      "+---------+------------------+\n",
      "|   536532|  26.2895890410959|\n",
      "|   537632|          13541.33|\n",
      "|   538708| 20.29277777777778|\n",
      "|   538877| 83.98397350993376|\n",
      "|   538993|16.866666666666667|\n",
      "+---------+------------------+\n",
      "only showing top 5 rows\n",
      "\n"
     ]
    }
   ],
   "source": [
    "from pyspark.sql.functions import expr\n",
    "#DataFrame API\n",
    "df.select(\"InvoiceNo\", expr(\"Quantity * UnitPrice AS ImporteTotal\")).groupBy(\"InvoiceNo\").avg(\"ImporteTotal\").show(5)\n",
    "\n",
    "#SQL\n",
    "\n"
   ]
  },
  {
   "cell_type": "markdown",
   "id": "125443d3-7d2c-4cec-b97e-181a87ef4574",
   "metadata": {},
   "source": [
    "11. Crea un DataFrame para cada archivo de notas (notas_fisica, notas_ingles y notas_matemáticas). Realiza un Join que genere un DataFrame mostrando las tres notas para cada alumno. (sólo mostrar los alumnos que tengan nota en las 3 asignaturas)"
   ]
  },
  {
   "cell_type": "code",
   "execution_count": 44,
   "id": "2110e4ec-d5e7-4289-98ad-414a8880b0e1",
   "metadata": {
    "scrolled": true
   },
   "outputs": [
    {
     "name": "stdout",
     "output_type": "stream",
     "text": [
      "+---------+----+\n",
      "|   nombre|nota|\n",
      "+---------+----+\n",
      "|    Angel|   6|\n",
      "|    Maria|   2|\n",
      "|    Ramon|NULL|\n",
      "|    Jorge|  10|\n",
      "|   Susana|   9|\n",
      "|   Anabel|   8|\n",
      "|    Pedro|   5|\n",
      "|    Rocio|   6|\n",
      "|   Carlos|   4|\n",
      "|   Triana|   3|\n",
      "|   Andres|   4|\n",
      "| Fernando|   5|\n",
      "| Leonardo|   1|\n",
      "|    Oscar|   7|\n",
      "|   Isabel|   8|\n",
      "|Jose Juan|   5|\n",
      "|  Nicolas|   2|\n",
      "|Alejandro|   5|\n",
      "|     Rosa|   6|\n",
      "+---------+----+\n",
      "\n",
      "+---------+----+\n",
      "|   nombre|nota|\n",
      "+---------+----+\n",
      "|    Angel|   4|\n",
      "|    Maria|   6|\n",
      "|    Ramon|   8|\n",
      "|    Jorge|   5|\n",
      "|   Susana|   2|\n",
      "|   Anabel|   7|\n",
      "|    Rocio|   4|\n",
      "|   Carlos|   8|\n",
      "|   Triana|   4|\n",
      "|   Andres|   6|\n",
      "| Fernando|   7|\n",
      "| Leonardo|   4|\n",
      "|    Oscar|   3|\n",
      "|   Isabel|   7|\n",
      "|Jose Juan|   3|\n",
      "|  Nicolas|   5|\n",
      "|Alejandro|   7|\n",
      "|     Rosa|   9|\n",
      "+---------+----+\n",
      "\n",
      "+---------+----+\n",
      "|   nombre|nota|\n",
      "+---------+----+\n",
      "|    Angel|   9|\n",
      "|    Maria|   3|\n",
      "|    Ramon|   7|\n",
      "|    Jorge|   5|\n",
      "|   Susana|   9|\n",
      "|   Anabel|   2|\n",
      "|    Pedro|   2|\n",
      "|    Rocio|   5|\n",
      "|   Carlos|   4|\n",
      "|    Rocio|   7|\n",
      "|   Triana|   3|\n",
      "|   Andres|   4|\n",
      "| Fernando|   9|\n",
      "| Leonardo|   6|\n",
      "|    Oscar|   5|\n",
      "|   Isabel|   8|\n",
      "|Jose Juan|   3|\n",
      "|  Nicolas|   7|\n",
      "|Alejandro|   3|\n",
      "|     Rosa|   8|\n",
      "+---------+----+\n",
      "\n",
      "root\n",
      " |-- nombre: string (nullable = true)\n",
      " |-- nota: integer (nullable = true)\n",
      "\n"
     ]
    },
    {
     "data": {
      "text/plain": [
       "18"
      ]
     },
     "execution_count": 44,
     "metadata": {},
     "output_type": "execute_result"
    }
   ],
   "source": [
    "#DataFrame API\n",
    "from pyspark.sql.functions import col\n",
    "schema = StructType([\n",
    "    StructField(\"nombre\", StringType(), True),\n",
    "    StructField(\"nota\", IntegerType(), True)\n",
    "])\n",
    "notas_mates = spark.read.csv(\"data/notas/notas_mates.txt\",schema)\n",
    "notas_ingles = spark.read.csv(\"data/notas/notas_ingles.txt\",schema)\n",
    "notas_fisica = spark.read.csv(\"data/notas/notas_fisica.txt\",schema)\n",
    "notas_mates.show()\n",
    "notas_ingles.show()\n",
    "notas_fisica.show()\n",
    "notas_mates.printSchema()\n",
    "join_expression = notas_mates[\"nombre\"] == notas_ingles[\"nombre\"]\n",
    "notas_mates.withColumnRenamed(\"nota\",\"nota_mates\").join(notas_ingles.withColumnRenamed(\"nota\",\"nota_ingles\"),join_expression, \"inner\").drop(notas_ingles[\"nombre\"]).select(\"nombre\",\"nota_mates\",\"nota_ingles\").count()\n",
    "\n",
    "#SQL\n",
    "\n"
   ]
  },
  {
   "cell_type": "markdown",
   "id": "3c68b0a9-90b3-408a-be73-80ed93ab913d",
   "metadata": {},
   "source": [
    "12. Crea un DataFrame para cada archivo de notas (notas_fisica, notas_ingles y notas_matemáticas). Realiza un Join que genere un DataFrame mostrando las tres notas para cada alumno. Si a un alumno le falta alguna de las notas aparecerá el valor NULL"
   ]
  },
  {
   "cell_type": "code",
   "execution_count": null,
   "id": "f88c5b68-5482-4035-a5a2-d08a30c11776",
   "metadata": {},
   "outputs": [],
   "source": [
    "#DataFrame API\n",
    "\n",
    "\n",
    "#SQL\n",
    "\n"
   ]
  }
 ],
 "metadata": {
  "kernelspec": {
   "display_name": "Python 3 (ipykernel)",
   "language": "python",
   "name": "python3"
  },
  "language_info": {
   "codemirror_mode": {
    "name": "ipython",
    "version": 3
   },
   "file_extension": ".py",
   "mimetype": "text/x-python",
   "name": "python",
   "nbconvert_exporter": "python",
   "pygments_lexer": "ipython3",
   "version": "3.11.6"
  }
 },
 "nbformat": 4,
 "nbformat_minor": 5
}
