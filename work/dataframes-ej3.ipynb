{
 "cells": [
  {
   "cell_type": "markdown",
   "id": "4222f55a-ca65-46ac-a8de-91a5e845b6cf",
   "metadata": {},
   "source": [
    "# Ejercicios Repaso de DataFrames\n",
    "Realiza los siguientes ejercicios. Soluciona cada uno de ellos empleando la DataFrame API y Spark SQL\n",
    "1. A partir del archivo nombres.json crea un DataFrame y realiza las siguientes operaciones. Previamente inicializa la SparkSession (7):\n"
   ]
  },
  {
   "cell_type": "code",
   "execution_count": 38,
   "id": "649b6053-b5b3-45d4-bac2-895213ef6b76",
   "metadata": {},
   "outputs": [],
   "source": [
    "from pyspark.sql import SparkSession\n",
    "\n",
    "spark = SparkSession.builder.getOrCreate()\n"
   ]
  },
  {
   "cell_type": "markdown",
   "id": "ac726be2-60ea-4b4c-86bc-c11744ddd149",
   "metadata": {},
   "source": [
    "   - a. Crea una nueva columna (Mayor30) que indique si la persona es mayor de 30 años."
   ]
  },
  {
   "cell_type": "code",
   "execution_count": 35,
   "id": "c477c3af-7557-4c24-b57a-8efad2c05951",
   "metadata": {},
   "outputs": [],
   "source": [
    "from pyspark.sql.functions import expr\n"
   ]
  },
  {
   "cell_type": "markdown",
   "id": "b779ef0c-106c-4d9b-bce3-1847e1657bd6",
   "metadata": {},
   "source": [
    "  - b. Crea una nueva columna (columna FaltanJubilacion) que calcule cuantos años le faltan para jubilarse (supongamos que se jubila a los 67 años)"
   ]
  },
  {
   "cell_type": "code",
   "execution_count": null,
   "id": "68ba67fb-1d6c-43c5-9b2d-ab930bae689b",
   "metadata": {},
   "outputs": [],
   "source": []
  },
  {
   "cell_type": "markdown",
   "id": "acab21b3-dd87-49b7-ba6d-36d02c860853",
   "metadata": {},
   "source": [
    "  - c. Crea una nueva columna (columna Apellidos) que contenga XYZ. Pista: usa la función \"lit\", tienes que importarla previamente"
   ]
  },
  {
   "cell_type": "code",
   "execution_count": null,
   "id": "2cccd41a-168c-4b3c-8e69-c7844145db37",
   "metadata": {},
   "outputs": [],
   "source": []
  },
  {
   "cell_type": "markdown",
   "id": "e3889e96-7d68-4739-ab76-6ed3b180ad92",
   "metadata": {},
   "source": [
    "  - d. Elimina las columnas Mayor30 y Apellidos."
   ]
  },
  {
   "cell_type": "code",
   "execution_count": null,
   "id": "60bed2a1-3af4-46bf-b559-14eb640a4a01",
   "metadata": {},
   "outputs": [],
   "source": []
  },
  {
   "cell_type": "markdown",
   "id": "432dd78d-e274-419f-b45b-f604c20960e8",
   "metadata": {},
   "source": [
    "  - e. Crea una nueva columna (columna AnyoNac) con el año de nacimiento de cada persona (puedes utilizar la función current_date)."
   ]
  },
  {
   "cell_type": "code",
   "execution_count": 36,
   "id": "64023a81-a67c-4415-a220-f12af84859d5",
   "metadata": {},
   "outputs": [],
   "source": [
    "\n",
    "from pyspark.sql.functions import current_date\n",
    "\n"
   ]
  },
  {
   "cell_type": "markdown",
   "id": "cb4a6ec7-d73b-4f23-9ee6-dd21e3119eac",
   "metadata": {},
   "source": [
    "- e. Añade un id incremental para cada fila (campo Id) y haz que al hacer un show se vea en primer lugar (puedes utilizar la función monotonically_increasing_id) seguidos del Nombre, Edad, AnyoNac, FaltaJubilacion y Ciudad (2)"
   ]
  },
  {
   "cell_type": "code",
   "execution_count": 37,
   "id": "d85e74a8-42c0-460a-a965-abf974ee87d8",
   "metadata": {},
   "outputs": [],
   "source": [
    "from pyspark.sql.functions import monotonically_increasing_id\n"
   ]
  },
  {
   "cell_type": "markdown",
   "id": "3adb47e7-622b-4a1c-ba12-ca6827988241",
   "metadata": {
    "scrolled": true
   },
   "source": [
    "2. A partir del archivo movies.tsv, crea un esquema de forma declarativa con los campos (3):\n",
    "   - interprete de tipo string\n",
    "   - pelicula de tipo string\n",
    "   - ano de tipo int\n",
    "Cada fila del fichero implica que el actor/actriz está trabajando en dicha película en el año indicado\n",
    "  - a. Una vez creado el esquema, carga los datos en el dataframe. Muéstralo"
   ]
  },
  {
   "cell_type": "code",
   "execution_count": null,
   "id": "9f9b7b6d-bfb5-48e4-a568-240de04b8bc2",
   "metadata": {},
   "outputs": [],
   "source": []
  },
  {
   "cell_type": "markdown",
   "id": "10d07ad4-bec0-42e7-ab1f-8e3bafa575dd",
   "metadata": {},
   "source": [
    "  - b. Muestra las películas en las que ha trabajado Murphy, Edie (I)."
   ]
  },
  {
   "cell_type": "code",
   "execution_count": null,
   "id": "19e3493c-cfb3-44bf-811e-407779df6f8b",
   "metadata": {},
   "outputs": [],
   "source": []
  },
  {
   "cell_type": "markdown",
   "id": "2b42127f-7c84-41ee-9b0c-63b52f542f28",
   "metadata": {},
   "source": [
    "  - c. Muestra los intérpretes que aparecen en Superman y Superman II"
   ]
  },
  {
   "cell_type": "code",
   "execution_count": null,
   "id": "34ee2054-fbbb-462d-a95b-b740d1adb0f8",
   "metadata": {},
   "outputs": [],
   "source": []
  },
  {
   "cell_type": "code",
   "execution_count": null,
   "id": "b693d22a-c70b-4e6c-a6da-8c9ae711093b",
   "metadata": {},
   "outputs": [],
   "source": []
  },
  {
   "cell_type": "code",
   "execution_count": null,
   "id": "1456f5a6-f0a1-4aa1-9405-68b9cfc53e93",
   "metadata": {},
   "outputs": [],
   "source": []
  }
 ],
 "metadata": {
  "kernelspec": {
   "display_name": "Python 3 (ipykernel)",
   "language": "python",
   "name": "python3"
  },
  "language_info": {
   "codemirror_mode": {
    "name": "ipython",
    "version": 3
   },
   "file_extension": ".py",
   "mimetype": "text/x-python",
   "name": "python",
   "nbconvert_exporter": "python",
   "pygments_lexer": "ipython3",
   "version": "3.11.6"
  }
 },
 "nbformat": 4,
 "nbformat_minor": 5
}
