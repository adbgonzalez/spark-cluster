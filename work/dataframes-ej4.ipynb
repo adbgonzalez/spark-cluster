{
 "cells": [
  {
   "cell_type": "markdown",
   "id": "9628dd10-f04f-49f3-9ef8-840d0c3e8b8c",
   "metadata": {},
   "source": [
    "# Ejercicios Refuerzo de DataFrames\r\n",
    "Realiza los siguientes ejercicios. Soluciona cada uno de ellos empleando la DataFrame API y Spark SQ (0,5 ptos por apartado)L\n",
    "1. Sobre el archivo movies.tsv del boletín anterior (lee el archivo empleando el mismo esquema):"
   ]
  },
  {
   "cell_type": "markdown",
   "id": "d07f8721-1c9f-4db4-9533-0463098e444b",
   "metadata": {},
   "source": [
    "  - a. ¿Cuántas películas diferentes hay?"
   ]
  },
  {
   "cell_type": "code",
   "execution_count": null,
   "id": "a8de4b49-9a86-41b5-aef1-991365d76beb",
   "metadata": {},
   "outputs": [],
   "source": []
  },
  {
   "cell_type": "markdown",
   "id": "3d48e654-f47b-4cd5-b657-8dd1d17f0cd4",
   "metadata": {},
   "source": [
    "  - b. ¿En cuantas películas ha trabajado Murphy, Eddie (I)?"
   ]
  },
  {
   "cell_type": "code",
   "execution_count": null,
   "id": "d0d8724b-0188-4940-8e0f-f4ee83c38d90",
   "metadata": {},
   "outputs": [],
   "source": []
  },
  {
   "cell_type": "markdown",
   "id": "d61585df-d746-438f-91c7-9d058a54cd2b",
   "metadata": {},
   "source": [
    "  - c. ¿Cuáles son los actores que han aparecido en más de 30 películas?"
   ]
  },
  {
   "cell_type": "code",
   "execution_count": null,
   "id": "d385ad86-6d65-4590-ab41-e3ddb7e544f4",
   "metadata": {},
   "outputs": [],
   "source": []
  },
  {
   "cell_type": "markdown",
   "id": "c503bca2-b326-42ec-848a-07bb01df4081",
   "metadata": {},
   "source": [
    "  - d. ¿En que película anterior a 1980 aparecen al menos 25 intérpretes?"
   ]
  },
  {
   "cell_type": "code",
   "execution_count": null,
   "id": "f50f7a93-d513-45c7-8729-903032cf0e28",
   "metadata": {},
   "outputs": [],
   "source": []
  },
  {
   "cell_type": "markdown",
   "id": "0a3eb20f-5d02-4796-9eea-1349f43cdc40",
   "metadata": {},
   "source": [
    "  - e. Muestra la cantidad de películas producidas cada año (solo debe mostrar el año y la cantidad), ordenando el listado por la cantidad de forma descendente."
   ]
  },
  {
   "cell_type": "code",
   "execution_count": null,
   "id": "7ca4a0be-4ded-46a4-bc6d-8689c6f507a9",
   "metadata": {},
   "outputs": [],
   "source": []
  },
  {
   "cell_type": "markdown",
   "id": "04c62330-8535-48de-b40d-2f317d445c0b",
   "metadata": {},
   "source": [
    "  - f. A partir de la consulta anterior, crea un gráfico de barras que muestre el año y la cantidad de películas, ordenados por fecha."
   ]
  },
  {
   "cell_type": "code",
   "execution_count": null,
   "id": "c69c1e3f-c664-4310-8d2b-9e5814772713",
   "metadata": {},
   "outputs": [],
   "source": []
  },
  {
   "cell_type": "markdown",
   "id": "41db6e9d-de68-4f53-b9e0-67af0689de13",
   "metadata": {},
   "source": [
    "2. Empleando el archivo movie-ratings.csv, que contiene las calificaciones de las películas y el archivo movies.tsv...\n",
    " - a. Crea un dataframe que combine ambos archivos (no mostrar datos duplicados)"
   ]
  },
  {
   "cell_type": "code",
   "execution_count": null,
   "id": "f6752090-b820-4b30-93d2-00eb86b593fc",
   "metadata": {},
   "outputs": [],
   "source": []
  },
  {
   "cell_type": "markdown",
   "id": "cebef39f-0bd3-42e3-b85c-d77f59ffb615",
   "metadata": {},
   "source": [
    "  - b. Muestra para cada año, la película con mayor puntuación (año, título de la película, puntuación)"
   ]
  },
  {
   "cell_type": "code",
   "execution_count": null,
   "id": "56ca73a4-1b1b-43d5-b256-a5cfeb197a5d",
   "metadata": {},
   "outputs": [],
   "source": []
  },
  {
   "cell_type": "markdown",
   "id": "39e81bbf-1139-4e15-b2cc-85c026c06351",
   "metadata": {},
   "source": [
    "  - c. Averigua las tres parejas de intérpretes han trabajado juntos en más ocasiones. La salida debe tener tres columnas: interprete1, interprete2 y cantidad. (necesitas utilizar un self-join)"
   ]
  },
  {
   "cell_type": "code",
   "execution_count": null,
   "id": "a55a0345-f470-4dec-95e7-fe19963f16a3",
   "metadata": {},
   "outputs": [],
   "source": []
  },
  {
   "cell_type": "markdown",
   "id": "551cdfb9-d4de-4280-aa6b-b9472e01f8a0",
   "metadata": {},
   "source": [
    "3. A partir de los ficheros csv situados en el directorio salesdata...\n",
    "   - a. Crea un DataFrame con todos los datos, empleando el siguiente esquema:"
   ]
  },
  {
   "cell_type": "code",
   "execution_count": 1,
   "id": "ad8f74cd-d6de-4469-8d6d-b953ca959ca8",
   "metadata": {},
   "outputs": [],
   "source": [
    "from pyspark.sql.types import StructType, StructField, StringType, IntegerType, DoubleType\n",
    "esquema = StructType([\n",
    "    StructField(\"Order ID\", IntegerType(), False),\n",
    "    StructField(\"Product\", StringType(), False),\n",
    "    StructField(\"Quantity Ordered\", IntegerType(), True),\n",
    "    StructField(\"Price Each\", DoubleType(), False),\n",
    "    StructField(\"Order Date\", StringType(), False),\n",
    "    StructField(\"Purchase Address\", StringType(), False)\n",
    "])\n",
    "\n"
   ]
  },
  {
   "cell_type": "markdown",
   "id": "49f30e74-bf91-4cea-94db-77c0318a2faf",
   "metadata": {},
   "source": [
    "  - b. Renombra todas las columnas para elminar espacios en blanco"
   ]
  },
  {
   "cell_type": "code",
   "execution_count": null,
   "id": "7b10e1ca-de7d-4163-834e-cca225b96c38",
   "metadata": {},
   "outputs": [],
   "source": []
  },
  {
   "cell_type": "markdown",
   "id": "8bf8be76-a159-4e8a-8ea3-04646165af30",
   "metadata": {},
   "source": [
    "  - c. Elimina las filas que contengan campos nulos"
   ]
  },
  {
   "cell_type": "code",
   "execution_count": null,
   "id": "17894138-a363-45b6-931f-05e793169d5c",
   "metadata": {},
   "outputs": [],
   "source": []
  },
  {
   "cell_type": "markdown",
   "id": "fb0eda2f-eff2-48c2-a4f4-f44a8d3e9eb4",
   "metadata": {},
   "source": [
    "\n",
    "  - d. Comprueba si hay filas con datos de la cabecera de los archivos (ej: producto llamado Product). En tal caso, elimina dichas filas"
   ]
  },
  {
   "cell_type": "code",
   "execution_count": null,
   "id": "ba1c639b-a85f-4256-ae71-0eaa8c4f9746",
   "metadata": {},
   "outputs": [],
   "source": []
  },
  {
   "cell_type": "markdown",
   "id": "874f1b28-ac00-4134-8874-a21ea772ddb7",
   "metadata": {},
   "source": [
    "  - e. A partir del campo dirección, crea dos nuevas columnas para almacenar la ciudad (City) y el estado (State). Por ejemplo, para la dirección 136 Church St, New York City, NY 10001, la ciudad es New York City y el estado es NY."
   ]
  },
  {
   "cell_type": "code",
   "execution_count": null,
   "id": "79c3dbd5-4d94-440d-8dbc-09ab49060776",
   "metadata": {},
   "outputs": [],
   "source": []
  },
  {
   "cell_type": "markdown",
   "id": "fd2766da-e514-4a62-84d6-233324946d21",
   "metadata": {},
   "source": [
    "  - f. Modifica el campo con la fecha del pedido para que su formato sea timestamp."
   ]
  },
  {
   "cell_type": "code",
   "execution_count": null,
   "id": "eb6a139c-e675-4221-a1ab-2f8926f6f6c4",
   "metadata": {},
   "outputs": [],
   "source": []
  },
  {
   "cell_type": "markdown",
   "id": "1438bff0-e75f-48b9-901f-d2ec2be4be64",
   "metadata": {},
   "source": [
    "  - g. Sobre el campo anterior, crea dos nuevas columnas, con el mes (Month) y el año (Year) del pedido."
   ]
  },
  {
   "cell_type": "code",
   "execution_count": null,
   "id": "58e6d6a3-ce5f-43bd-b46a-15c6f1e1ded3",
   "metadata": {},
   "outputs": [],
   "source": []
  },
  {
   "cell_type": "markdown",
   "id": "cacfc6fc-2554-48f9-860a-16a82212f52e",
   "metadata": {},
   "source": [
    "  - f. Averigua cual ha sido el mes que ha recaudado más. Para ello, deberás multiplicar el precio por la cantidad de unidades, y posteriormente, realizar alguna agregación."
   ]
  },
  {
   "cell_type": "code",
   "execution_count": null,
   "id": "cb16cdd1-d8e4-41fc-a105-2a5a3c0dd0a6",
   "metadata": {},
   "outputs": [],
   "source": []
  },
  {
   "cell_type": "markdown",
   "id": "20167bbf-d2a5-43ca-8d46-f8b6ba90c474",
   "metadata": {},
   "source": [
    "  - g. Sobre el resultado anterior crea un gráfico barras de ventas totales por mes, los meses en el eje X y las ventas en el eje Y. Convierte antes el dataframe a Pandas"
   ]
  },
  {
   "cell_type": "code",
   "execution_count": null,
   "id": "1e880310-7bc1-4e8d-b87b-6ab7eb5455cf",
   "metadata": {},
   "outputs": [],
   "source": []
  },
  {
   "cell_type": "markdown",
   "id": "e5c1b1c8-3ba6-45ef-8869-ceaafe9dc813",
   "metadata": {},
   "source": [
    "  - h. Crea un dataframe que contenga las unidades totales vendidas en cada ciudad"
   ]
  },
  {
   "cell_type": "code",
   "execution_count": null,
   "id": "f6369dd0-d465-46f2-a997-11f164a12ec3",
   "metadata": {},
   "outputs": [],
   "source": []
  },
  {
   "cell_type": "markdown",
   "id": "bb9b0981-16ba-4914-89d3-d427ee1550ad",
   "metadata": {},
   "source": [
    " - g. Genera un gráfico de barras a partir del dataframe del ejercicio anterior"
   ]
  },
  {
   "cell_type": "code",
   "execution_count": null,
   "id": "47187506-956c-4782-8d4b-6fa2119dd5b9",
   "metadata": {},
   "outputs": [],
   "source": []
  },
  {
   "cell_type": "code",
   "execution_count": null,
   "id": "3f623007-fb02-4812-90bc-ab67a7524210",
   "metadata": {},
   "outputs": [],
   "source": []
  }
 ],
 "metadata": {
  "kernelspec": {
   "display_name": "Python 3 (ipykernel)",
   "language": "python",
   "name": "python3"
  },
  "language_info": {
   "codemirror_mode": {
    "name": "ipython",
    "version": 3
   },
   "file_extension": ".py",
   "mimetype": "text/x-python",
   "name": "python",
   "nbconvert_exporter": "python",
   "pygments_lexer": "ipython3",
   "version": "3.11.6"
  }
 },
 "nbformat": 4,
 "nbformat_minor": 5
}
