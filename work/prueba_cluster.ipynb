{
 "cells": [
  {
   "cell_type": "code",
   "execution_count": 1,
   "id": "37e402b0-c3d0-470c-82f7-9f904d55e82b",
   "metadata": {},
   "outputs": [
    {
     "name": "stderr",
     "output_type": "stream",
     "text": [
      "Setting default log level to \"WARN\".\n",
      "To adjust logging level use sc.setLogLevel(newLevel). For SparkR, use setLogLevel(newLevel).\n"
     ]
    }
   ],
   "source": [
    "from pyspark.sql import SparkSession\n",
    "\n",
    "spark = SparkSession.builder \\\n",
    "    .master(\"spark://spark-master:7077\") \\\n",
    "    .appName(\"Jupyter-Spark\") \\\n",
    "    .config(\"spark.eventLog.enabled\", \"true\") \\\n",
    "    .config(\"spark.eventLog.dir\", \"file:///opt/spark/logs/history\") \\\n",
    "    .config(\"spark.history.fs.logDirectory\", \"file:///opt/spark/logs/history\") \\\n",
    "    .getOrCreate()\n",
    "sc = spark.sparkContext"
   ]
  },
  {
   "cell_type": "code",
   "execution_count": 2,
   "id": "82e622ac-8910-4b17-a2e6-25c78688d26b",
   "metadata": {},
   "outputs": [
    {
     "name": "stderr",
     "output_type": "stream",
     "text": [
      "                                                                                "
     ]
    },
    {
     "data": {
      "text/plain": [
       "[Row(id=0),\n",
       " Row(id=1),\n",
       " Row(id=2),\n",
       " Row(id=3),\n",
       " Row(id=4),\n",
       " Row(id=5),\n",
       " Row(id=6),\n",
       " Row(id=7),\n",
       " Row(id=8),\n",
       " Row(id=9)]"
      ]
     },
     "execution_count": 2,
     "metadata": {},
     "output_type": "execute_result"
    }
   ],
   "source": [
    "spark.range(10).rdd.collect()"
   ]
  },
  {
   "cell_type": "code",
   "execution_count": null,
   "id": "764e7721-5a71-4c4f-8312-650564ad6afe",
   "metadata": {},
   "outputs": [],
   "source": [
    "spark.conf.get(\"spark.ui.port\")\n",
    "\n"
   ]
  },
  {
   "cell_type": "code",
   "execution_count": null,
   "id": "b360282a-6923-4bf6-88ab-6731c190d58e",
   "metadata": {},
   "outputs": [],
   "source": [
    "!pip show pyspark"
   ]
  },
  {
   "cell_type": "code",
   "execution_count": null,
   "id": "aa8f1f4e-793d-4433-8ec9-f58491f0fcd4",
   "metadata": {},
   "outputs": [],
   "source": [
    "!which pyspark"
   ]
  },
  {
   "cell_type": "code",
   "execution_count": null,
   "id": "3607bef4-6a25-4207-8df8-35cad0271a5f",
   "metadata": {},
   "outputs": [],
   "source": [
    "!conda install -y -c conda-forge pyspark=3.5.5"
   ]
  },
  {
   "cell_type": "code",
   "execution_count": null,
   "id": "7b23a087-dd19-4ba0-942f-f90688847f5c",
   "metadata": {},
   "outputs": [],
   "source": [
    "!y"
   ]
  },
  {
   "cell_type": "code",
   "execution_count": null,
   "id": "90ecf1ad-1f88-41f8-af4a-167d2fe8a84c",
   "metadata": {},
   "outputs": [],
   "source": [
    "print(spark.version)"
   ]
  },
  {
   "cell_type": "code",
   "execution_count": null,
   "id": "b9c2dcf8-be60-49ba-ad15-8956f89a4711",
   "metadata": {},
   "outputs": [],
   "source": [
    "spark.conf.get(\"spark.master\")\n"
   ]
  },
  {
   "cell_type": "code",
   "execution_count": null,
   "id": "1a5f692c-a449-4953-92cf-1bf031622c10",
   "metadata": {},
   "outputs": [],
   "source": [
    " sc.getConf.getAll.foreach(println)\n"
   ]
  },
  {
   "cell_type": "code",
   "execution_count": 3,
   "id": "484ddc99-27d6-410b-b821-77a9c6f131e8",
   "metadata": {},
   "outputs": [
    {
     "data": {
      "text/plain": [
       "10000"
      ]
     },
     "execution_count": 3,
     "metadata": {},
     "output_type": "execute_result"
    }
   ],
   "source": [
    "df = spark.range(10000)\n",
    "df.count()\n"
   ]
  },
  {
   "cell_type": "code",
   "execution_count": null,
   "id": "d3244971-dc99-481c-9af2-f1f0082a2373",
   "metadata": {},
   "outputs": [],
   "source": [
    "spark.conf.get(\"spark.driver.host\")\n"
   ]
  },
  {
   "cell_type": "code",
   "execution_count": null,
   "id": "58f8f636-6349-424b-9332-d5e74493cba9",
   "metadata": {},
   "outputs": [],
   "source": [
    "import urllib.request\n",
    "\n",
    "try:\n",
    "    response = urllib.request.urlopen(\"http://localhost:4040\")\n",
    "    print(\"La UI de Spark está activa en 4040\")\n",
    "except:\n",
    "    print(\"No se puede acceder a la UI de Spark en 4040\")\n"
   ]
  },
  {
   "cell_type": "code",
   "execution_count": null,
   "id": "a6571720-ddc9-4f32-ac9f-19dd8955bf07",
   "metadata": {},
   "outputs": [],
   "source": [
    "sc.getConf().get(\"spark.submit.deployMode\")\n"
   ]
  },
  {
   "cell_type": "code",
   "execution_count": null,
   "id": "5e19ab0c-2ab1-49e0-b51f-c6b37ebff5ad",
   "metadata": {},
   "outputs": [],
   "source": []
  }
 ],
 "metadata": {
  "kernelspec": {
   "display_name": "Python 3 (ipykernel)",
   "language": "python",
   "name": "python3"
  },
  "language_info": {
   "codemirror_mode": {
    "name": "ipython",
    "version": 3
   },
   "file_extension": ".py",
   "mimetype": "text/x-python",
   "name": "python",
   "nbconvert_exporter": "python",
   "pygments_lexer": "ipython3",
   "version": "3.11.2"
  }
 },
 "nbformat": 4,
 "nbformat_minor": 5
}
