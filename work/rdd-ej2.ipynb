{
 "cells": [
  {
   "cell_type": "markdown",
   "id": "3f57987d-a229-486b-8556-9d01504e4aa1",
   "metadata": {},
   "source": [
    "# Ejercicios RDD de pares\n",
    "1. Inicia las variables SparkSession y SparkContext (0)"
   ]
  },
  {
   "cell_type": "code",
   "execution_count": 1,
   "id": "ef9b91cb-568c-48ae-b033-18bd92eb18e3",
   "metadata": {},
   "outputs": [],
   "source": [
    "import string\n",
    "import sys\n",
    "from pyspark import sql\n",
    "\n",
    "session = sql.SparkSession.builder.getOrCreate()\n",
    "sc = session.sparkContext"
   ]
  },
  {
   "cell_type": "markdown",
   "id": "e3a0f810-ba11-481f-a22c-0204752702a8",
   "metadata": {},
   "source": [
    "2. Crea un rdd de pares de la forma (palabra, 1) a partir del fichero data/el_quijote.txt (1)"
   ]
  },
  {
   "cell_type": "code",
   "execution_count": null,
   "id": "087896ff-3e79-48bc-afb4-210f9b237064",
   "metadata": {},
   "outputs": [],
   "source": []
  },
  {
   "cell_type": "markdown",
   "id": "5b0c9b12-89de-4306-a400-3e4c2dcafce0",
   "metadata": {},
   "source": [
    "3. A partir del RDD anterior, cuenta el número de ocurrencias de cada palabra (1)"
   ]
  },
  {
   "cell_type": "code",
   "execution_count": null,
   "id": "5cee66f5-464c-452c-b3d5-fe72d00c6f9a",
   "metadata": {},
   "outputs": [],
   "source": []
  },
  {
   "cell_type": "markdown",
   "id": "1fef2c56-ca9d-4cde-8714-12b7b02a7b87",
   "metadata": {},
   "source": [
    "4. Repite los ejercicios 2 y 3 de forma que no se tengan en cuenta los signos de puntación y no se distingan mayúsculas de minúsculas (mapea todo a minúsuculas) (2)"
   ]
  },
  {
   "cell_type": "code",
   "execution_count": null,
   "id": "c5f221d6-54f7-44dc-968c-73ed113051ca",
   "metadata": {},
   "outputs": [],
   "source": []
  },
  {
   "cell_type": "markdown",
   "id": "da5279c8-2a9f-4ab1-82c0-136f280b2eb2",
   "metadata": {},
   "source": [
    "5. A partir de los ficheros data/notas/notas_mates.txt, data/notas/notas_fisica.txt y data/notas/notas_ingles.txt, realiza las siguientes operaciones:\n",
    "   - a) Crea 3 RDD de pares uno para cada asignatura (notas_mates, notas_ingles, notas_fisica) (0,5)\n",
    "   - b) Crea un RDD que sea la unión de los 3 anteriores (0,5)\n",
    "   - c) Muestra la nota más baja de cada alumno (1)\n",
    "   - d) Muestra la nota media de cada alumno (1)\n",
    "   - e) Muestra cuantos estudiantes suspenden cada asignatura (1)\n",
    "   - f) Muestra en qué asignatura suspende más gente (1)\n",
    "   - g) Obtén un RDD que que asocie a cada alumno con las notas en todas las asignaturas (1)"
   ]
  },
  {
   "cell_type": "code",
   "execution_count": 2,
   "id": "60d940f3-8d71-4bb3-b2cf-7e7ae711e9f7",
   "metadata": {},
   "outputs": [
    {
     "data": {
      "text/plain": [
       "[('Angel', 6.0),\n",
       " ('Maria', 2.0),\n",
       " ('Ramon', 4.5),\n",
       " ('Jorge', 10.0),\n",
       " ('Susana', 9.0),\n",
       " ('Anabel', 8.0),\n",
       " ('Pedro', 5.0),\n",
       " ('Rocio', 6.0),\n",
       " ('Carlos', 4.0),\n",
       " ('Triana', 3.0),\n",
       " ('Andres', 4.0),\n",
       " ('Fernando', 5.0),\n",
       " ('Leonardo', 1.0),\n",
       " ('Oscar', 7.0),\n",
       " ('Isabel', 8.0),\n",
       " ('Jose Juan', 5.0),\n",
       " ('Nicolas', 2.0),\n",
       " ('Alejandro', 5.0),\n",
       " ('Rosa', 6.0)]"
      ]
     },
     "execution_count": 2,
     "metadata": {},
     "output_type": "execute_result"
    }
   ],
   "source": [
    "# a)\n",
    "\n",
    "rdd_tmp = sc.textFile(\"/home/jovyan/work/data/notas/notas_fisica.txt\")\n",
    "rdd_notas_f = rdd_tmp.map(lambda x: (x.split(',')[0], float(x.split(',')[1])))\n",
    "\n",
    "rdd_tmp = sc.textFile(\"/home/jovyan/work/data/notas/notas_mates.txt\")\n",
    "rdd_notas_m = rdd_tmp.map(lambda x: (x.split(',')[0], float(x.split(',')[1])))\n",
    "\n",
    "rdd_tmp = sc.textFile(\"/home/jovyan/work/data/notas/notas_ingles.txt\")\n",
    "rdd_notas_i = rdd_tmp.map(lambda x: (x.split(',')[0], float(x.split(',')[1])))\n",
    "rdd_notas_m.collect()"
   ]
  },
  {
   "cell_type": "code",
   "execution_count": 9,
   "id": "b008dd84-05ca-486b-a251-b80a68c521b7",
   "metadata": {},
   "outputs": [
    {
     "name": "stdout",
     "output_type": "stream",
     "text": [
      "Unión:  [('Angel', 9.0), ('Maria', 3.0), ('Ramon', 7.0), ('Jorge', 5.0), ('Susana', 9.0), ('Anabel', 2.0), ('Pedro', 2.0), ('Rocio', 5.0), ('Carlos', 4.0), ('Rocio', 7.0), ('Triana', 3.0), ('Andres', 4.0), ('Fernando', 9.0), ('Leonardo', 6.0), ('Oscar', 5.0), ('Isabel', 8.0), ('Jose Juan', 3.0), ('Nicolas', 7.0), ('Alejandro', 3.0), ('Rosa', 8.0), ('Angel', 6.0), ('Maria', 2.0), ('Ramon', 4.5), ('Jorge', 10.0), ('Susana', 9.0), ('Anabel', 8.0), ('Pedro', 5.0), ('Rocio', 6.0), ('Carlos', 4.0), ('Triana', 3.0), ('Andres', 4.0), ('Fernando', 5.0), ('Leonardo', 1.0), ('Oscar', 7.0), ('Isabel', 8.0), ('Jose Juan', 5.0), ('Nicolas', 2.0), ('Alejandro', 5.0), ('Rosa', 6.0), ('Angel', 4.0), ('Maria', 6.0), ('Ramon', 8.0), ('Jorge', 5.0), ('Susana', 2.0), ('Anabel', 7.0), ('Rocio', 4.0), ('Carlos', 8.0), ('Triana', 4.0), ('Andres', 6.0), ('Fernando', 7.0), ('Leonardo', 4.0), ('Oscar', 3.0), ('Isabel', 7.0), ('Jose Juan', 3.0), ('Nicolas', 5.0), ('Alejandro', 7.0), ('Rosa', 9.0)]\n"
     ]
    },
    {
     "data": {
      "text/plain": [
       "[('Angel', 9.0),\n",
       " ('Maria', 3.0),\n",
       " ('Ramon', 7.0),\n",
       " ('Jorge', 5.0),\n",
       " ('Susana', 9.0),\n",
       " ('Anabel', 2.0),\n",
       " ('Pedro', 2.0),\n",
       " ('Rocio', 5.0),\n",
       " ('Carlos', 4.0),\n",
       " ('Rocio', 7.0),\n",
       " ('Triana', 3.0),\n",
       " ('Andres', 4.0),\n",
       " ('Fernando', 9.0),\n",
       " ('Leonardo', 6.0),\n",
       " ('Oscar', 5.0),\n",
       " ('Isabel', 8.0),\n",
       " ('Jose Juan', 3.0),\n",
       " ('Nicolas', 7.0),\n",
       " ('Alejandro', 3.0),\n",
       " ('Rosa', 8.0),\n",
       " ('Angel', 6.0),\n",
       " ('Maria', 2.0),\n",
       " ('Ramon', 4.5),\n",
       " ('Jorge', 10.0),\n",
       " ('Susana', 9.0),\n",
       " ('Anabel', 8.0),\n",
       " ('Pedro', 5.0),\n",
       " ('Rocio', 6.0),\n",
       " ('Carlos', 4.0),\n",
       " ('Triana', 3.0),\n",
       " ('Andres', 4.0),\n",
       " ('Fernando', 5.0),\n",
       " ('Leonardo', 1.0),\n",
       " ('Oscar', 7.0),\n",
       " ('Isabel', 8.0),\n",
       " ('Jose Juan', 5.0),\n",
       " ('Nicolas', 2.0),\n",
       " ('Alejandro', 5.0),\n",
       " ('Rosa', 6.0),\n",
       " ('Angel', 4.0),\n",
       " ('Maria', 6.0),\n",
       " ('Ramon', 8.0),\n",
       " ('Jorge', 5.0),\n",
       " ('Susana', 2.0),\n",
       " ('Anabel', 7.0),\n",
       " ('Rocio', 4.0),\n",
       " ('Carlos', 8.0),\n",
       " ('Triana', 4.0),\n",
       " ('Andres', 6.0),\n",
       " ('Fernando', 7.0),\n",
       " ('Leonardo', 4.0),\n",
       " ('Oscar', 3.0),\n",
       " ('Isabel', 7.0),\n",
       " ('Jose Juan', 3.0),\n",
       " ('Nicolas', 5.0),\n",
       " ('Alejandro', 7.0),\n",
       " ('Rosa', 9.0)]"
      ]
     },
     "execution_count": 9,
     "metadata": {},
     "output_type": "execute_result"
    }
   ],
   "source": [
    "# b)\n",
    "rdd_notas = rdd_notas_f.union(rdd_notas_m).union(rdd_notas_i)\n",
    "print(\"Unión: \",rdd_notas.collect())\n",
    "rdd_notas.collect()"
   ]
  },
  {
   "cell_type": "code",
   "execution_count": 6,
   "id": "307eb58f-e7cd-40c8-8f34-8f953dae0627",
   "metadata": {},
   "outputs": [
    {
     "data": {
      "text/plain": [
       "[('Pedro', 5.0),\n",
       " ('Jose Juan', 5.0),\n",
       " ('Ramon', 8.0),\n",
       " ('Anabel', 8.0),\n",
       " ('Andres', 6.0),\n",
       " ('Oscar', 7.0),\n",
       " ('Rosa', 9.0),\n",
       " ('Susana', 9.0),\n",
       " ('Rocio', 7.0),\n",
       " ('Leonardo', 6.0),\n",
       " ('Angel', 9.0),\n",
       " ('Jorge', 10.0),\n",
       " ('Carlos', 8.0),\n",
       " ('Fernando', 9.0),\n",
       " ('Isabel', 8.0),\n",
       " ('Triana', 4.0),\n",
       " ('Alejandro', 7.0),\n",
       " ('Maria', 6.0),\n",
       " ('Nicolas', 7.0)]"
      ]
     },
     "execution_count": 6,
     "metadata": {},
     "output_type": "execute_result"
    }
   ],
   "source": [
    "# c)\n",
    "rdd_notas.reduceByKey(lambda x,y: min(x,y)).collect()"
   ]
  },
  {
   "cell_type": "code",
   "execution_count": 11,
   "id": "84ca9b75-ee55-4d26-9367-a814c5a9632c",
   "metadata": {},
   "outputs": [
    {
     "data": {
      "text/plain": [
       "[('Pedro', 3.5),\n",
       " ('Jose Juan', 3.6666666666666665),\n",
       " ('Ramon', 6.5),\n",
       " ('Anabel', 5.666666666666667),\n",
       " ('Andres', 4.666666666666667),\n",
       " ('Oscar', 5.0),\n",
       " ('Rosa', 7.666666666666667),\n",
       " ('Susana', 6.666666666666667),\n",
       " ('Rocio', 5.5),\n",
       " ('Leonardo', 3.6666666666666665),\n",
       " ('Angel', 6.333333333333333),\n",
       " ('Jorge', 6.666666666666667),\n",
       " ('Carlos', 5.333333333333333),\n",
       " ('Fernando', 7.0),\n",
       " ('Isabel', 7.666666666666667),\n",
       " ('Triana', 3.3333333333333335),\n",
       " ('Alejandro', 5.0),\n",
       " ('Maria', 3.6666666666666665),\n",
       " ('Nicolas', 4.666666666666667)]"
      ]
     },
     "execution_count": 11,
     "metadata": {},
     "output_type": "execute_result"
    }
   ],
   "source": [
    "# d)\n",
    "\n",
    "    \n",
    "rdd_notas.mapValues(lambda v: (v,1)).reduceByKey(lambda x, y: (x[0]+y[0], x[1]+y[1])).mapValues(lambda v: (v[0]/v[1])).collect()"
   ]
  },
  {
   "cell_type": "code",
   "execution_count": 18,
   "id": "bd47e7ef-5fab-4d29-b4d2-9ed65993aee8",
   "metadata": {},
   "outputs": [
    {
     "name": "stdout",
     "output_type": "stream",
     "text": [
      " Suspensos matemáticas: 7\n",
      " Suspensos física: 8\n",
      " Suspensos inglés: 7\n"
     ]
    }
   ],
   "source": [
    "# e)\n",
    "print (f\" Suspensos matemáticas: {rdd_notas_m.filter(lambda v: v[1] <5).count()}\")\n",
    "print (f\" Suspensos física: {rdd_notas_f.filter(lambda v: v[1] <5).count()}\")\n",
    "print (f\" Suspensos inglés: {rdd_notas_i.filter(lambda v: v[1] <5).count()}\")"
   ]
  },
  {
   "cell_type": "code",
   "execution_count": 21,
   "id": "86fe1177-092d-471f-88fd-18ca9015ddc1",
   "metadata": {},
   "outputs": [
    {
     "data": {
      "text/plain": [
       "[('Pedro', [2.0, 5.0]),\n",
       " ('Jose Juan', [3.0, 5.0, 3.0]),\n",
       " ('Ramon', [7.0, 4.5, 8.0]),\n",
       " ('Anabel', [2.0, 8.0, 7.0]),\n",
       " ('Andres', [4.0, 4.0, 6.0]),\n",
       " ('Oscar', [5.0, 7.0, 3.0]),\n",
       " ('Rosa', [8.0, 6.0, 9.0]),\n",
       " ('Susana', [9.0, 9.0, 2.0]),\n",
       " ('Rocio', [5.0, 7.0, 6.0, 4.0]),\n",
       " ('Leonardo', [6.0, 1.0, 4.0]),\n",
       " ('Angel', [9.0, 6.0, 4.0]),\n",
       " ('Jorge', [5.0, 10.0, 5.0]),\n",
       " ('Carlos', [4.0, 4.0, 8.0]),\n",
       " ('Fernando', [9.0, 5.0, 7.0]),\n",
       " ('Isabel', [8.0, 8.0, 7.0]),\n",
       " ('Triana', [3.0, 3.0, 4.0]),\n",
       " ('Alejandro', [3.0, 5.0, 7.0]),\n",
       " ('Maria', [3.0, 2.0, 6.0]),\n",
       " ('Nicolas', [7.0, 2.0, 5.0])]"
      ]
     },
     "execution_count": 21,
     "metadata": {},
     "output_type": "execute_result"
    }
   ],
   "source": [
    "# f)\n"
   ]
  },
  {
   "cell_type": "code",
   "execution_count": 29,
   "id": "32d6b4d5-bd02-4e15-8d47-9f600e88070e",
   "metadata": {},
   "outputs": [],
   "source": [
    "# g)\n",
    "rdd_notas_por_alumno = rdd_notas.groupByKey().mapValues(list)\n",
    "rdd_notas_por_alumno.collect()"
   ]
  },
  {
   "cell_type": "code",
   "execution_count": null,
   "id": "e0e66b4b-cbad-41ad-9b48-bc085b445af4",
   "metadata": {},
   "outputs": [],
   "source": []
  }
 ],
 "metadata": {
  "kernelspec": {
   "display_name": "Python 3 (ipykernel)",
   "language": "python",
   "name": "python3"
  },
  "language_info": {
   "codemirror_mode": {
    "name": "ipython",
    "version": 3
   },
   "file_extension": ".py",
   "mimetype": "text/x-python",
   "name": "python",
   "nbconvert_exporter": "python",
   "pygments_lexer": "ipython3",
   "version": "3.11.6"
  }
 },
 "nbformat": 4,
 "nbformat_minor": 5
}
